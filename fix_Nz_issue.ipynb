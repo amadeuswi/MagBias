{
 "cells": [
  {
   "cell_type": "code",
   "execution_count": 1,
   "metadata": {},
   "outputs": [
    {
     "name": "stdout",
     "output_type": "stream",
     "text": [
      "sigma_8_BBKS = 0.833959881058\n",
      "#$#$#$#$#$#$#$#$#$#$#$#$#$#$#$#$#$#$#$#$#$#$#$#$#$#$#$#$#$#$ \n",
      "Rescaling the galaxy number density by a factor of 104112.030661 to match the gold sample\n"
     ]
    }
   ],
   "source": [
    "%matplotlib inline\n",
    "\n",
    "from __future__ import division\n",
    "import os\n",
    "import sys\n",
    "from scipy import integrate, optimize\n",
    "\n",
    "from scipy.interpolate import interp2d, interp1d\n",
    "\n",
    "import numpy as np\n",
    "from numpy import pi,sin,cos,tan,e,arctan,arcsin,arccos,sqrt\n",
    "from numpy.random import randn\n",
    "import matplotlib\n",
    "import matplotlib.pyplot as P\n",
    "from time import clock\n",
    "\n",
    "\n",
    "matplotlib.rcParams['figure.figsize'] = (9, 6)\n",
    "P.rcParams['text.usetex'] = True  # not really needed\n",
    "P.rcParams['text.latex.preamble'] = [r'\\usepackage{amsmath}'] #for \\text command\n",
    "P.rcParams[\"font.size\"] = 24\n",
    "P.rc('xtick', labelsize=18) \n",
    "P.rc('ytick', labelsize=18)\n",
    "# P.rc('xtick', labelsize=20) \n",
    "# P.rc('ytick', labelsize=20)\n",
    "np.set_printoptions(threshold=np.nan)\n",
    "\n",
    "\n",
    "# sys.path.append(\"/Users/amadeus/Documents/10.semester/ma\")\n",
    "# from magmod import P_cdm_BBKS, D_z, rCom, H_0, c, H_z, E_z, Omega_m, W_tophat, T_obs, nutoz21, h\n",
    "# from magmod import P_cdm_BBKS, D_z, rCom, H_0, c, H_z, E_z, Omega_m, T_obs, nutoz21, h\n",
    "from magmod import *\n",
    "from magbias_experiments import SKA_zhangpen, CLAR_zhangpen, SKA, cb_hirax as hirax, hirax512, LSST, LSST_nosgfit, n\n",
    "from lf_photometric import nz_distribution"
   ]
  },
  {
   "cell_type": "code",
   "execution_count": 4,
   "metadata": {},
   "outputs": [],
   "source": [
    "\n",
    "dNfile = \"LSST/nz_gold.txt\"\n",
    "# dNfile = LSST[\"dNdz\"]\n",
    "ztab_file, dNdztab_file = np.loadtxt(dNfile, unpack = True)\n",
    "\n",
    "dNdzinterp = interp1d(ztab_file, dNdztab_file, kind='linear', bounds_error=False)\n",
    "\n",
    "zint = np.linspace(0.001, 3.9, 200)\n",
    "\n",
    "# nztab = np.array([nz_distribution(zz, 27, 'all')[0] for zz in zint])\n",
    "nztab = nofz(zint, 26)\n",
    "dNdztab = dNdzinterp(zint)\n",
    "\n",
    "#go to all sky\n",
    "nztab *= 4*np.pi\n",
    "dNdztab *= 60**2 * 41200\n",
    "\n",
    "\n",
    "Nztab_func = integrate.cumtrapz(nztab, zint, initial = 0)\n",
    "Nztab_file = integrate.cumtrapz(dNdztab, zint, initial = 0)\n",
    "\n",
    "\n"
   ]
  },
  {
   "cell_type": "code",
   "execution_count": 5,
   "metadata": {},
   "outputs": [
    {
     "name": "stderr",
     "output_type": "stream",
     "text": [
      "/opt/local/Library/Frameworks/Python.framework/Versions/2.7/lib/python2.7/site-packages/ipykernel_launcher.py:5: RuntimeWarning: invalid value encountered in true_divide\n",
      "  \"\"\"\n"
     ]
    },
    {
     "data": {
      "text/plain": [
       "[<matplotlib.lines.Line2D at 0x107a67e50>]"
      ]
     },
     "execution_count": 5,
     "metadata": {},
     "output_type": "execute_result"
    },
    {
     "data": {
      "image/png": "[encoded data removed]",
      "text/plain": [
       "<Figure size 648x432 with 1 Axes>"
      ]
     },
     "metadata": {
      "needs_background": "light"
     },
     "output_type": "display_data"
    }
   ],
   "source": [
    "fig = P.figure(); ax =fig.add_subplot(111);\n",
    "# ax.plot(zint, Nztab_func)\n",
    "# ax.plot(zint, Nztab_file, c='gold')\n",
    "\n",
    "ax.plot(zint, Nztab_file/Nztab_func)\n",
    "\n",
    "# ax.axhline(4*np.pi)"
   ]
  },
  {
   "cell_type": "code",
   "execution_count": null,
   "metadata": {},
   "outputs": [],
   "source": []
  }
 ],
 "metadata": {
  "kernelspec": {
   "display_name": "Python 2",
   "language": "python",
   "name": "python2"
  },
  "language_info": {
   "codemirror_mode": {
    "name": "ipython",
    "version": 2
   },
   "file_extension": ".py",
   "mimetype": "text/x-python",
   "name": "python",
   "nbconvert_exporter": "python",
   "pygments_lexer": "ipython2",
   "version": "2.7.15"
  }
 },
 "nbformat": 4,
 "nbformat_minor": 2
}
