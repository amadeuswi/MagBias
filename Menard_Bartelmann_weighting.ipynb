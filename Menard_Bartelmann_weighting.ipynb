{
 "cells": [
  {
   "cell_type": "code",
   "execution_count": 1,
   "metadata": {},
   "outputs": [
    {
     "name": "stdout",
     "output_type": "stream",
     "text": [
      "\n",
      " #$#$#$#$#$#$#$#$#$#$#$#$#$#$#$#$#$#$#$#$#$#$#$#$#$#$#$#$#$#$ \n",
      " Rescaling the galaxy number density by a factor of 104185.98657604445 to match the gold sample with 6330073646.612723 total galaxies \n",
      " #$#$#$#$#$#$#$#$#$#$#$#$#$#$#$#$#$#$#$#$#$#$#$#$#$#$#$#$#$#$ \n",
      "\n"
     ]
    }
   ],
   "source": [
    "from magbias_experiments import cb_hirax as hirax, SKA1, SKA2, LSST\n",
    "from modules.galaxy_hi_experiment import GalaxyHIExperiment\n",
    "from modules.galaxy_hi_magnification import GalaxyHIMagnification\n",
    "from modules.magnification_config import MagnificationConfig"
   ]
  },
  {
   "cell_type": "code",
   "execution_count": 2,
   "metadata": {},
   "outputs": [],
   "source": [
    "redshifts = [\n",
    "    (0.7755075, 1.2755075),  # hirax\n",
    "    (1.2755075, 1.7755075),\n",
    "    (1.7755075, 2.2755075),\n",
    "    (0.34127101, 0.84127101),  # SKA1\n",
    "    (0.84127101, 1.34127101),\n",
    "    (1.34127101, 1.84127101),\n",
    "    (1.84127101, 2.34127101),  \n",
    "    (0.0005, 0.47039959) # SKA2\n",
    "]\n",
    "# each fg bin has its optimized mag_cut in our approach:\n",
    "mag_cuts = [\n",
    "    23.0, # hirax\n",
    "    26.1,\n",
    "    27.0,\n",
    "    23.6, # SKA1\n",
    "    23.1,\n",
    "    26.3,\n",
    "    27.0,\n",
    "    22.1, # SKA2\n",
    "]\n",
    "radio_experiments = [hirax]*3 + [SKA1]*4 + [SKA2]\n",
    "fg_bin_labels = [\"H1\", \"H2\", \"H3\", \"SKA11\",\n",
    "               \"SKA12\", \"SKA13\", \"SKA14\", \"SKA21\"]"
   ]
  },
  {
   "cell_type": "code",
   "execution_count": 3,
   "metadata": {},
   "outputs": [
    {
     "name": "stdout",
     "output_type": "stream",
     "text": [
      "Using single dish mode.\n",
      "we are using rough ell res for speedup\n"
     ]
    },
    {
     "name": "stderr",
     "output_type": "stream",
     "text": [
      "/Users/amadeus/Documents/PhD/work/MagBias/lf_photometric.py:272: RuntimeWarning: divide by zero encountered in true_divide\n",
      "  return 0.4*lumphi/lumPhi\n",
      "/Users/amadeus/Documents/PhD/work/MagBias/lf_photometric.py:272: RuntimeWarning: invalid value encountered in true_divide\n",
      "  return 0.4*lumphi/lumPhi\n",
      "/Users/amadeus/Documents/PhD/work/MagBias/lf_photometric.py:190: IntegrationWarning: The integral is probably divergent, or slowly convergent.\n",
      "  clblue=[quad(lumfun,norm*mag_lim_blue[i],lnlum_max,args=(z[i],\"blue\"))[0] for i in range(len(z))]\n"
     ]
    },
    {
     "name": "stdout",
     "output_type": "stream",
     "text": [
      "Warning! weight is set to 1\n"
     ]
    },
    {
     "name": "stderr",
     "output_type": "stream",
     "text": [
      "/Users/amadeus/Documents/PhD/work/MagBias/modules/galaxy_hi_magnification.py:73: RuntimeWarning: overflow encountered in true_divide\n",
      "  self.average(Weight, Weight, Ngal) * CSbg) / (self.average(CHImu, Weight, Ngal)**2)\n"
     ]
    },
    {
     "name": "stdout",
     "output_type": "stream",
     "text": [
      "Warning! weight is set to 1\n",
      "Warning! weight is set to 1\n",
      "Warning! weight is set to 1\n",
      "Warning! weight is set to 1\n",
      "Warning! weight is set to 1\n",
      "Warning! weight is set to 1\n",
      "Warning! weight is set to 1\n",
      "Warning! weight is set to 1\n",
      "Warning! weight is set to 1\n",
      "Warning! weight is set to 1\n",
      "Warning! weight is set to 1\n",
      "Warning! weight is set to 1\n",
      "Warning! weight is set to 1\n",
      "Warning! weight is set to 1\n",
      "Warning! weight is set to 1\n",
      "Warning! weight is set to 1\n",
      "Warning! weight is set to 1\n",
      "Warning! weight is set to 1\n",
      "Warning! weight is set to 1\n",
      "Warning! weight is set to 1\n",
      "Warning! weight is set to 1\n",
      "Warning! weight is set to 1\n",
      "Warning! weight is set to 1\n",
      "Warning! weight is set to 1\n",
      "Warning! weight is set to 1\n",
      "Warning! weight is set to 1\n",
      "Warning! weight is set to 1\n",
      "Warning! weight is set to 1\n",
      "delta_ell = 100, fsky = 0.40982397846163054\n",
      "z from 0.34127101 to 0.84127101\n",
      "Magnitude cut is 23.6\n",
      "S2N in bin SKA11: 26.01181584428571\n",
      "--------------------\n"
     ]
    }
   ],
   "source": [
    "for idx_fg_bin in range(len(redshifts)):\n",
    "    if idx_fg_bin != 3:\n",
    "        continue\n",
    "    redshift = redshifts[idx_fg_bin]\n",
    "    radio_experiment = radio_experiments[idx_fg_bin]\n",
    "\n",
    "    # load the configuration and set magnitude cut:\n",
    "    gXhi_config = MagnificationConfig()\n",
    "    gXhi_config.max_magnitude = mag_cuts[idx_fg_bin]\n",
    "    \n",
    "    # load magnification experiment\n",
    "    gXhi_experiment = GalaxyHIExperiment(redshift, radio_experiment, LSST, gXhi_config)\n",
    "\n",
    "    # calculate weighted S2N\n",
    "    unityweight = True # weight is always = 1\n",
    "    gXhi_magnification = GalaxyHIMagnification(gXhi_experiment, unityweight = unityweight)\n",
    "    S2N = gXhi_magnification.get_S2N_weighted()\n",
    "\n",
    "    print(\"delta_ell = {}, fsky = {}\".format(\n",
    "        gXhi_magnification.experiment.delta_ell, gXhi_magnification.experiment.fsky))\n",
    "    print(\"z from {} to {}\".format(\n",
    "        gXhi_magnification.experiment.lower_redshift, gXhi_magnification.experiment.upper_redshift))\n",
    "    print(\"Magnitude cut is {}\".format(gXhi_experiment.config_class.max_magnitude))\n",
    "    print(\"S2N in bin {}: {}\".format(fg_bin_labels[idx_fg_bin], S2N))\n",
    "    print(\"-\"*20)\n"
   ]
  },
  {
   "cell_type": "code",
   "execution_count": null,
   "metadata": {},
   "outputs": [],
   "source": []
  }
 ],
 "metadata": {
  "kernelspec": {
   "display_name": "Python 3",
   "language": "python",
   "name": "python3"
  },
  "language_info": {
   "codemirror_mode": {
    "name": "ipython",
    "version": 3
   },
   "file_extension": ".py",
   "mimetype": "text/x-python",
   "name": "python",
   "nbconvert_exporter": "python",
   "pygments_lexer": "ipython3",
   "version": "3.7.4"
  }
 },
 "nbformat": 4,
 "nbformat_minor": 2
}
