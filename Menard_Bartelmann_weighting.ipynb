{
 "cells": [
  {
   "cell_type": "code",
   "execution_count": 1,
   "metadata": {},
   "outputs": [
    {
     "name": "stdout",
     "output_type": "stream",
     "text": [
      "\n",
      " #$#$#$#$#$#$#$#$#$#$#$#$#$#$#$#$#$#$#$#$#$#$#$#$#$#$#$#$#$#$ \n",
      " Rescaling the galaxy number density by a factor of 104185.98657604445 to match the gold sample with 6330073646.612723 total galaxies \n",
      " #$#$#$#$#$#$#$#$#$#$#$#$#$#$#$#$#$#$#$#$#$#$#$#$#$#$#$#$#$#$ \n",
      "\n"
     ]
    }
   ],
   "source": [
    "from modules.galaxy_hi_magnification import GalaxyHIMagnification\n",
    "from modules.galaxy_hi_experiment import GalaxyHIExperiment\n",
    "from magbias_experiments import hirax, SKA, LSST\n"
   ]
  },
  {
   "cell_type": "code",
   "execution_count": 2,
   "metadata": {},
   "outputs": [
    {
     "name": "stdout",
     "output_type": "stream",
     "text": [
      "we are using rough ell res for speedup\n"
     ]
    }
   ],
   "source": [
    "redshift = (0.7755075, 1.2755075)\n",
    "hirax1 = GalaxyHIExperiment(redshift,hirax,LSST)"
   ]
  },
  {
   "cell_type": "code",
   "execution_count": 3,
   "metadata": {},
   "outputs": [
    {
     "name": "stderr",
     "output_type": "stream",
     "text": [
      "/Users/amadeus/Documents/PhD/work/MagBias/lf_photometric.py:272: RuntimeWarning: divide by zero encountered in true_divide\n",
      "  return 0.4*lumphi/lumPhi\n",
      "/Users/amadeus/Documents/PhD/work/MagBias/lf_photometric.py:272: RuntimeWarning: invalid value encountered in true_divide\n",
      "  return 0.4*lumphi/lumPhi\n",
      "/Users/amadeus/Documents/PhD/work/MagBias/lf_photometric.py:190: IntegrationWarning: The integral is probably divergent, or slowly convergent.\n",
      "  clblue=[quad(lumfun,norm*mag_lim_blue[i],lnlum_max,args=(z[i],\"blue\"))[0] for i in range(len(z))]\n"
     ]
    }
   ],
   "source": [
    "mag1 = GalaxyHIMagnification(hirax1)"
   ]
  },
  {
   "cell_type": "code",
   "execution_count": 4,
   "metadata": {},
   "outputs": [
    {
     "name": "stdout",
     "output_type": "stream",
     "text": [
      "[0.00000000e+00 0.00000000e+00 0.00000000e+00 0.00000000e+00\n",
      " 0.00000000e+00 0.00000000e+00 4.31255246e+01 9.47940630e+02\n",
      " 1.06240234e+04 6.97742448e+04 2.99876754e+05 9.20972992e+05\n",
      " 2.33534794e+06 7.06581964e+06 1.47810289e+07 2.46690897e+07\n",
      " 3.62691444e+07 4.93711398e+07 6.42526281e+07 8.16392846e+07\n",
      " 1.02412399e+08 1.27272258e+08 1.56572002e+08 1.90405662e+08\n",
      " 2.28856382e+08 2.72201565e+08 3.20913361e+08 3.75480936e+08\n",
      " 4.36231638e+08 5.03310190e+08]\n"
     ]
    }
   ],
   "source": [
    "print(mag1.n_gal_in_mag_bins)"
   ]
  },
  {
   "cell_type": "code",
   "execution_count": 5,
   "metadata": {},
   "outputs": [
    {
     "name": "stdout",
     "output_type": "stream",
     "text": [
      "30 30\n"
     ]
    },
    {
     "data": {
      "text/plain": [
       "array([1.0, 1.0, 1.0, 1.0, 1.0, 1.0, array([6.94071138e+55]),\n",
       "       array([9.63576072e+43]), array([4.92839605e+34]),\n",
       "       array([2.54108646e+27]), array([4.80470511e+21]),\n",
       "       array([82.23643683]), array([28.44754642]), array([16.04483921]),\n",
       "       array([10.49643463]), array([7.34611862]), array([5.33035103]),\n",
       "       array([3.94760371]), array([2.95565342]), 2.26, 2.26, 2.26, 2.26,\n",
       "       2.26, 2.26, 2.26, 2.26, 2.26, 2.26, 2.26], dtype=object)"
      ]
     },
     "execution_count": 5,
     "metadata": {},
     "output_type": "execute_result"
    }
   ],
   "source": [
    "mag1.get_galaxy_bias(1.5)"
   ]
  },
  {
   "cell_type": "code",
   "execution_count": null,
   "metadata": {},
   "outputs": [],
   "source": []
  }
 ],
 "metadata": {
  "kernelspec": {
   "display_name": "Python 3",
   "language": "python",
   "name": "python3"
  },
  "language_info": {
   "codemirror_mode": {
    "name": "ipython",
    "version": 3
   },
   "file_extension": ".py",
   "mimetype": "text/x-python",
   "name": "python",
   "nbconvert_exporter": "python",
   "pygments_lexer": "ipython3",
   "version": "3.7.4"
  }
 },
 "nbformat": 4,
 "nbformat_minor": 2
}
