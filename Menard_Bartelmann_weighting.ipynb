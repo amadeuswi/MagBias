{
 "cells": [
  {
   "cell_type": "code",
   "execution_count": 4,
   "metadata": {},
   "outputs": [],
   "source": [
    "from magbias_experiments import cb_hirax as hirax, SKA1, SKA2, LSST\n",
    "from modules.galaxy_hi_experiment import GalaxyHIExperiment\n",
    "from modules.galaxy_hi_magnification import GalaxyHIMagnification"
   ]
  },
  {
   "cell_type": "code",
   "execution_count": 2,
   "metadata": {},
   "outputs": [],
   "source": [
    "redshifts = [\n",
    "    (0.7755075, 1.2755075),  # hirax\n",
    "    (1.2755075, 1.7755075),\n",
    "    (1.7755075, 2.2755075),\n",
    "    (0.34127101, 0.84127101),  # SKA1\n",
    "    (0.84127101, 1.34127101),\n",
    "    (1.34127101, 1.84127101),\n",
    "    (1.84127101, 2.34127101),  \n",
    "    (0.0005, 0.47039959) # SKA2\n",
    "]\n",
    "radio_experiments = [hirax]*3 + [SKA1]*4 + [SKA2]\n",
    "fg_bin_labels = [\"H1\", \"H2\", \"H3\", \"SKA11\",\n",
    "               \"SKA12\", \"SKA13\", \"SKA14\", \"SKA21\"]"
   ]
  },
  {
   "cell_type": "code",
   "execution_count": null,
   "metadata": {},
   "outputs": [
    {
     "name": "stdout",
     "output_type": "stream",
     "text": [
      "Using interferometer mode.\n",
      "we are using rough ell res for speedup\n"
     ]
    },
    {
     "name": "stderr",
     "output_type": "stream",
     "text": [
      "/Users/amadeus/Documents/PhD/work/MagBias/lf_photometric.py:272: RuntimeWarning: divide by zero encountered in true_divide\n",
      "  return 0.4*lumphi/lumPhi\n",
      "/Users/amadeus/Documents/PhD/work/MagBias/lf_photometric.py:272: RuntimeWarning: invalid value encountered in true_divide\n",
      "  return 0.4*lumphi/lumPhi\n"
     ]
    },
    {
     "name": "stdout",
     "output_type": "stream",
     "text": [
      "delta_ell = 600, fsky = 0.3625\n",
      "z from 0.7755075 to 1.2755075\n"
     ]
    },
    {
     "name": "stderr",
     "output_type": "stream",
     "text": [
      "/Users/amadeus/Documents/PhD/work/MagBias/modules/galaxy_hi_magnification.py:174: RuntimeWarning: invalid value encountered in true_divide\n",
      "  return np.sum(A*B*N, axis=sumaxis)/np.sum(N)\n",
      "/Users/amadeus/Documents/PhD/work/MagBias/modules/galaxy_hi_magnification.py:74: RuntimeWarning: invalid value encountered in less\n",
      "  if (frac < 0).any():\n"
     ]
    },
    {
     "name": "stdout",
     "output_type": "stream",
     "text": [
      "S2N in bin H1: 51.55421368771609\n",
      "--------------------\n",
      "Using interferometer mode.\n",
      "we are using rough ell res for speedup\n",
      "delta_ell = 600, fsky = 0.3625\n",
      "z from 1.2755075 to 1.7755075\n",
      "S2N in bin H2: 14.959984793371087\n",
      "--------------------\n",
      "Using interferometer mode.\n",
      "we are using rough ell res for speedup\n",
      "delta_ell = 600, fsky = 0.3625\n",
      "z from 1.7755075 to 2.2755075\n",
      "S2N in bin H3: 3.7823706347574686\n",
      "--------------------\n",
      "Using single dish mode.\n",
      "we are using rough ell res for speedup\n",
      "delta_ell = 100, fsky = 0.40982397846163054\n",
      "z from 0.34127101 to 0.84127101\n"
     ]
    },
    {
     "name": "stderr",
     "output_type": "stream",
     "text": [
      "/Users/amadeus/Documents/PhD/work/MagBias/modules/galaxy_hi_magnification.py:72: RuntimeWarning: overflow encountered in true_divide\n",
      "  self.average(Weight, Weight, Ngal) * CSbg) / (self.average(CHImu, Weight, Ngal)**2)\n",
      "/Users/amadeus/Documents/PhD/work/MagBias/lf_photometric.py:190: IntegrationWarning: The integral is probably divergent, or slowly convergent.\n",
      "  clblue=[quad(lumfun,norm*mag_lim_blue[i],lnlum_max,args=(z[i],\"blue\"))[0] for i in range(len(z))]\n"
     ]
    },
    {
     "name": "stdout",
     "output_type": "stream",
     "text": [
      "S2N in bin SKA11: 14.82072201257259\n",
      "--------------------\n",
      "Using single dish mode.\n",
      "we are using rough ell res for speedup\n"
     ]
    },
    {
     "name": "stderr",
     "output_type": "stream",
     "text": [
      "/Users/amadeus/Documents/PhD/work/MagBias/magmod.py:1118: RuntimeWarning: overflow encountered in exp\n",
      "  oneover_W_ell = np.exp( ltab**2 * sigb**2) #beam smoothing function.\n"
     ]
    },
    {
     "name": "stdout",
     "output_type": "stream",
     "text": [
      "delta_ell = 100, fsky = 0.40982397846163054\n",
      "z from 0.84127101 to 1.34127101\n",
      "S2N in bin SKA12: 5.726532867279387\n",
      "--------------------\n",
      "Using single dish mode.\n",
      "we are using rough ell res for speedup\n",
      "delta_ell = 100, fsky = 0.40982397846163054\n",
      "z from 1.34127101 to 1.84127101\n",
      "S2N in bin SKA13: 1.7146295086145042\n",
      "--------------------\n",
      "Using single dish mode.\n",
      "we are using rough ell res for speedup\n",
      "delta_ell = 100, fsky = 0.40982397846163054\n",
      "z from 1.84127101 to 2.34127101\n",
      "S2N in bin SKA14: 0.30921369744528704\n",
      "--------------------\n",
      "Using single dish mode.\n",
      "we are using rough ell res for speedup\n",
      "delta_ell = 100, fsky = 0.40982397846163054\n",
      "z from 0.0005 to 0.47039959\n"
     ]
    }
   ],
   "source": [
    "for idx_fg_bin in range(len(redshifts)):\n",
    "    redshift = redshifts[idx_fg_bin]\n",
    "    radio_experiment = radio_experiments[idx_fg_bin]\n",
    "\n",
    "    # print('working on redshift bin {}, z in {}'.format(fg_bin_labels[idx_fg_bin], redshift))\n",
    "    gXhi_experiment = GalaxyHIExperiment(redshift, radio_experiment, LSST)\n",
    "\n",
    "    gXhi_magnification = GalaxyHIMagnification(gXhi_experiment)\n",
    "\n",
    "    print(\"delta_ell = {}, fsky = {}\".format(\n",
    "        gXhi_magnification.experiment.delta_ell, gXhi_magnification.experiment.fsky))\n",
    "    print(\"z from {} to {}\".format(\n",
    "        gXhi_magnification.experiment.lower_redshift, gXhi_magnification.experiment.upper_redshift))\n",
    "\n",
    "    print(\"S2N in bin {}: {}\".format(fg_bin_labels[idx_fg_bin], gXhi_magnification.get_S2N_weighted()))\n",
    "    print(\"-\"*20)\n"
   ]
  },
  {
   "cell_type": "code",
   "execution_count": null,
   "metadata": {},
   "outputs": [],
   "source": []
  }
 ],
 "metadata": {
  "kernelspec": {
   "display_name": "Python 3",
   "language": "python",
   "name": "python3"
  },
  "language_info": {
   "codemirror_mode": {
    "name": "ipython",
    "version": 3
   },
   "file_extension": ".py",
   "mimetype": "text/x-python",
   "name": "python",
   "nbconvert_exporter": "python",
   "pygments_lexer": "ipython3",
   "version": "3.7.4"
  }
 },
 "nbformat": 4,
 "nbformat_minor": 2
}
