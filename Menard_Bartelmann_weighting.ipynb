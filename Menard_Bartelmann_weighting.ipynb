{
 "cells": [
  {
   "cell_type": "code",
   "execution_count": 1,
   "metadata": {},
   "outputs": [
    {
     "name": "stdout",
     "output_type": "stream",
     "text": [
      "\n",
      " #$#$#$#$#$#$#$#$#$#$#$#$#$#$#$#$#$#$#$#$#$#$#$#$#$#$#$#$#$#$ \n",
      " Rescaling the galaxy number density by a factor of 104185.98657604445 to match the gold sample with 6330073646.612723 total galaxies \n",
      " #$#$#$#$#$#$#$#$#$#$#$#$#$#$#$#$#$#$#$#$#$#$#$#$#$#$#$#$#$#$ \n",
      "\n"
     ]
    }
   ],
   "source": [
    "import matplotlib.pyplot as P\n",
    "\n",
    "from magbias_experiments import cb_hirax as hirax, SKA1, SKA2, LSST\n",
    "from modules.galaxy_hi_experiment import GalaxyHIExperiment\n",
    "from modules.galaxy_hi_magnification import GalaxyHIMagnification\n",
    "from modules.magnification_config import MagnificationConfig"
   ]
  },
  {
   "cell_type": "code",
   "execution_count": 2,
   "metadata": {},
   "outputs": [],
   "source": [
    "redshifts = [\n",
    "    (0.7755075, 1.2755075),  # hirax\n",
    "    (1.2755075, 1.7755075),\n",
    "    (1.7755075, 2.2755075),\n",
    "    (0.34127101, 0.84127101),  # SKA1\n",
    "    (0.84127101, 1.34127101),\n",
    "    (1.34127101, 1.84127101),\n",
    "    (1.84127101, 2.34127101),  \n",
    "    (0.0005, 0.47039959) # SKA2\n",
    "]\n",
    "# each fg bin has its optimized mag_cut in our approach:\n",
    "mag_cuts = [\n",
    "    23.0, # hirax\n",
    "    26.1,\n",
    "    27.0,\n",
    "    23.6, # SKA1\n",
    "    23.1,\n",
    "    26.3,\n",
    "    27.0,\n",
    "    22.1, # SKA2\n",
    "]\n",
    "radio_experiments = [hirax]*3 + [SKA1]*4 + [SKA2]\n",
    "fg_bin_labels = [\"H1\", \"H2\", \"H3\", \"SKA11\",\n",
    "               \"SKA12\", \"SKA13\", \"SKA14\", \"SKA21\"]"
   ]
  },
  {
   "cell_type": "code",
   "execution_count": 3,
   "metadata": {},
   "outputs": [],
   "source": [
    "# problem_idx = 3\n",
    "# delta_z_bg = 0.05\n",
    "\n",
    "# redshift = redshifts[problem_idx]\n",
    "# mag_cut1 = mag_cuts[problem_idx]\n",
    "# mag_cut2 = 26\n",
    "# radio_experiment = radio_experiments[problem_idx]\n",
    "# config1 = MagnificationConfig()\n",
    "# config1.max_magnitude = mag_cut1\n",
    "# config2 = MagnificationConfig()\n",
    "# config2.max_magnitude = mag_cut2\n",
    "# config1.delta_z_bg =delta_z_bg\n",
    "# config2.delta_z_bg = delta_z_bg\n",
    "\n",
    "# gXhi_experiment1 = GalaxyHIExperiment(redshift, radio_experiment, LSST, config1)\n",
    "# gXhi_experiment2 = GalaxyHIExperiment(redshift, radio_experiment, LSST, config2)\n",
    "# unityweight = False\n",
    "# gXhi_magnification1 = GalaxyHIMagnification(gXhi_experiment1, unityweight = unityweight)\n",
    "# gXhi_magnification2 = GalaxyHIMagnification(gXhi_experiment2, unityweight = unityweight)\n",
    "\n"
   ]
  },
  {
   "cell_type": "code",
   "execution_count": 4,
   "metadata": {},
   "outputs": [],
   "source": [
    "# galaxy_redshift_tab = gXhi_magnification1.experiment.galaxy_redshift_tab\n",
    "# argslist1 = []\n",
    "# argslist2 = []\n",
    "# for iz in range(len(galaxy_redshift_tab)-1):\n",
    "#     args1 = gXhi_magnification1.get_S2N_arguments(iz)\n",
    "#     args2 = gXhi_magnification2.get_S2N_arguments(iz)\n",
    "#     argslist1.append(args1)\n",
    "#     argslist2.append(args2)"
   ]
  },
  {
   "cell_type": "code",
   "execution_count": 5,
   "metadata": {},
   "outputs": [],
   "source": [
    "# S2N1 = []\n",
    "# S2N2 = []\n",
    "# Q1 = []\n",
    "# Q2 = []\n",
    "# for iz, args1 in enumerate(argslist1):\n",
    "# #     if iz != 0:\n",
    "# #         continue\n",
    "#     args2 = argslist2[iz]\n",
    "    \n",
    "    \n",
    "#     C_HIxmag_tab1, Cshot1, C_DM_tab1, bias_g_tab1, Weight1, N_g_tab1, alphaminusone_tab1 = args1\n",
    "#     C_HIxmag_tab2, Cshot2, C_DM_tab2, bias_g_tab2, Weight2, N_g_tab2, alphaminusone_tab2 = args2\n",
    "#     Cshot2 = Cshot1\n",
    "# #     C_HIxmag_tab2 = C_HIxmag_tab2[:,:24]\n",
    "# #     bias_g_tab2 = bias_g_tab2[:24]\n",
    "# #     Weight2 = Weight2[:,:24]\n",
    "# #     N_g_tab2 = N_g_tab2[:24]\n",
    "# #     alphaminusone_tab2 = alphaminusone_tab2[:24]\n",
    "    \n",
    "#     args1 = (C_HIxmag_tab1, Cshot1, C_DM_tab1, bias_g_tab1, Weight1, N_g_tab1, alphaminusone_tab1)\n",
    "#     args2 = (C_HIxmag_tab2, Cshot2, C_DM_tab2, bias_g_tab2, Weight2, N_g_tab2, alphaminusone_tab2)\n",
    "\n",
    "    \n",
    "# #     Cfg1 = gXhi_magnification1.get_C_HIHI()\n",
    "# #     CSfg1 = gXhi_magnification1.experiment.radio_noise\n",
    "# #     ltab1 = gXhi_magnification1.experiment.ell_tab\n",
    "# #     Cfg2 = gXhi_magnification2.get_C_HIHI()\n",
    "# #     CSfg2 = gXhi_magnification2.experiment.radio_noise\n",
    "# #     ltab2 = gXhi_magnification2.experiment.ell_tab\n",
    "    \n",
    "# #     denom1 = (Cfg1 + CSfg1) * (gXhi_magnification1.average(\n",
    "# #         bias_g_tab1, Weight1, N_g_tab1)**2 * C_DM_tab1 + gXhi_magnification1.average(\n",
    "# #         Weight1, Weight1, N_g_tab1) * Cshot1) / (gXhi_magnification1.average(\n",
    "# #         C_HIxmag_tab1, Weight1, N_g_tab1)**2)\n",
    "    \n",
    "# #     denom2 = (Cfg2 + CSfg2) * (gXhi_magnification2.average(\n",
    "# #         bias_g_tab2, Weight2, N_g_tab2)**2 * C_DM_tab2 + gXhi_magnification2.average(\n",
    "# #         Weight2, Weight2, N_g_tab2) * Cshot2) / (gXhi_magnification2.average(\n",
    "# #         C_HIxmag_tab2, Weight2, N_g_tab2)**2)\n",
    "# #     Q1.append(1/denom1)\n",
    "# #     Q2.append(1/denom2)\n",
    "#     S2N1.append(gXhi_magnification1._get_S2N_weighted(*args1))\n",
    "#     S2N2.append(gXhi_magnification2._get_S2N_weighted(*args2))\n",
    "    \n",
    "# #     print(Cshot1 / Cshot2)\n",
    "#     print(\"-\"*10)\n",
    "# #     print(C_HIxmag_tab1[:,:23]/C_HIxmag_tab2[:,:23])\n",
    "#     print(\"-\"*10)\n",
    "# #     print(bias_g_tab1[:23] / bias_g_tab2[:23])\n",
    "# #     print(bias_g_tab1, bias_g_tab2)\n",
    "# #     print(C_HIxmag_tab1/C_HIxmag_tab2[:,:24])\n",
    "# #     print(Weight1/Weight2[:,:24])\n",
    "# #     print(N_g_tab1/N_g_tab2[:24])\n",
    "# #     print(S2Ntab1/S2Ntab2)\n",
    "# #     print(S2N1/S2N2)\n",
    "#     print(\"#\"*50)\n",
    "    \n"
   ]
  },
  {
   "cell_type": "code",
   "execution_count": 6,
   "metadata": {},
   "outputs": [],
   "source": [
    "# S2N1 = np.array(S2N1)\n",
    "# S2N2 = np.array(S2N2)\n",
    "# Q1 = np.array(Q1)\n",
    "# Q2 = np.array(Q2)\n",
    "# print(Q2.shape)\n",
    "\n",
    "# fig = P.figure()\n",
    "# ax = fig.add_subplot(111)\n",
    "# ax.plot(galaxy_redshift_tab[:-1], S2N1, color = 'black')\n",
    "# ax.plot(galaxy_redshift_tab[:-1], S2N2, ls = \":\")\n",
    "# # ax.plot(galaxy_redshift_tab[:-1], Q1, color = 'black')\n",
    "# # ax.plot(galaxy_redshift_tab[:-1], Q2)"
   ]
  },
  {
   "cell_type": "code",
   "execution_count": 7,
   "metadata": {
    "scrolled": false
   },
   "outputs": [
    {
     "name": "stdout",
     "output_type": "stream",
     "text": [
      "Using interferometer mode.\n",
      "we are using rough ell res for speedup\n"
     ]
    },
    {
     "name": "stderr",
     "output_type": "stream",
     "text": [
      "/Users/amadeus/Documents/PhD/work/MagBias/lf_photometric.py:272: RuntimeWarning: divide by zero encountered in true_divide\n",
      "  return 0.4*lumphi/lumPhi\n",
      "/Users/amadeus/Documents/PhD/work/MagBias/lf_photometric.py:272: RuntimeWarning: invalid value encountered in true_divide\n",
      "  return 0.4*lumphi/lumPhi\n",
      "/Users/amadeus/Documents/PhD/work/MagBias/magmod.py:337: RuntimeWarning: invalid value encountered in multiply\n",
      "  sgngnow = np.float128(sg(ztab[iz], experiment = LSST, MAXMAG = mag_interval[-1])*dndznow)\n"
     ]
    },
    {
     "name": "stdout",
     "output_type": "stream",
     "text": [
      "delta_ell = 600, fsky = 0.3625\n",
      "z from 0.7755075 to 1.2755075\n",
      "Magnitude cut is 27\n",
      "S2N in bin H1: 59.60045506988411\n",
      "--------------------\n",
      "Using interferometer mode.\n",
      "we are using rough ell res for speedup\n",
      "delta_ell = 600, fsky = 0.3625\n",
      "z from 1.2755075 to 1.7755075\n",
      "Magnitude cut is 27\n",
      "S2N in bin H2: 20.98048686549641\n",
      "--------------------\n",
      "Using interferometer mode.\n",
      "we are using rough ell res for speedup\n"
     ]
    },
    {
     "ename": "KeyboardInterrupt",
     "evalue": "",
     "output_type": "error",
     "traceback": [
      "\u001b[0;31m---------------------------------------------------------------------------\u001b[0m",
      "\u001b[0;31mKeyboardInterrupt\u001b[0m                         Traceback (most recent call last)",
      "\u001b[0;32m<ipython-input-7-44d530c583b0>\u001b[0m in \u001b[0;36m<module>\u001b[0;34m\u001b[0m\n\u001b[1;32m     15\u001b[0m     \u001b[0munityweight\u001b[0m \u001b[0;34m=\u001b[0m \u001b[0;32mFalse\u001b[0m \u001b[0;31m# weight is always = 1\u001b[0m\u001b[0;34m\u001b[0m\u001b[0;34m\u001b[0m\u001b[0m\n\u001b[1;32m     16\u001b[0m     \u001b[0mgXhi_magnification\u001b[0m \u001b[0;34m=\u001b[0m \u001b[0mGalaxyHIMagnification\u001b[0m\u001b[0;34m(\u001b[0m\u001b[0mgXhi_experiment\u001b[0m\u001b[0;34m,\u001b[0m \u001b[0munityweight\u001b[0m \u001b[0;34m=\u001b[0m \u001b[0munityweight\u001b[0m\u001b[0;34m)\u001b[0m\u001b[0;34m\u001b[0m\u001b[0;34m\u001b[0m\u001b[0m\n\u001b[0;32m---> 17\u001b[0;31m     \u001b[0mS2N\u001b[0m \u001b[0;34m=\u001b[0m \u001b[0mgXhi_magnification\u001b[0m\u001b[0;34m.\u001b[0m\u001b[0mget_S2N_weighted\u001b[0m\u001b[0;34m(\u001b[0m\u001b[0;34m)\u001b[0m\u001b[0;34m\u001b[0m\u001b[0;34m\u001b[0m\u001b[0m\n\u001b[0m\u001b[1;32m     18\u001b[0m \u001b[0;34m\u001b[0m\u001b[0m\n\u001b[1;32m     19\u001b[0m     print(\"delta_ell = {}, fsky = {}\".format(\n",
      "\u001b[0;32m~/Documents/PhD/work/MagBias/modules/galaxy_hi_magnification.py\u001b[0m in \u001b[0;36mget_S2N_weighted\u001b[0;34m(self)\u001b[0m\n\u001b[1;32m    181\u001b[0m         \u001b[0;34m\"\"\"Calculates the total S2N of magnification bias (squared summation over background redshift bins) of this bg-fg combination.\"\"\"\u001b[0m\u001b[0;34m\u001b[0m\u001b[0;34m\u001b[0m\u001b[0m\n\u001b[1;32m    182\u001b[0m         S2Ntab = np.array([\n\u001b[0;32m--> 183\u001b[0;31m             \u001b[0mself\u001b[0m\u001b[0;34m.\u001b[0m\u001b[0mget_S2N_weighted_in_bg_bin\u001b[0m\u001b[0;34m(\u001b[0m\u001b[0miz\u001b[0m\u001b[0;34m)\u001b[0m \u001b[0;32mfor\u001b[0m \u001b[0miz\u001b[0m \u001b[0;32min\u001b[0m \u001b[0mrange\u001b[0m\u001b[0;34m(\u001b[0m\u001b[0mlen\u001b[0m\u001b[0;34m(\u001b[0m\u001b[0mself\u001b[0m\u001b[0;34m.\u001b[0m\u001b[0mexperiment\u001b[0m\u001b[0;34m.\u001b[0m\u001b[0mgalaxy_redshift_tab\u001b[0m\u001b[0;34m)\u001b[0m\u001b[0;34m-\u001b[0m\u001b[0;36m1\u001b[0m\u001b[0;34m)\u001b[0m\u001b[0;34m\u001b[0m\u001b[0;34m\u001b[0m\u001b[0m\n\u001b[0m\u001b[1;32m    184\u001b[0m         ])\n\u001b[1;32m    185\u001b[0m         \u001b[0mS2Nsqsum\u001b[0m \u001b[0;34m=\u001b[0m \u001b[0mnp\u001b[0m\u001b[0;34m.\u001b[0m\u001b[0msqrt\u001b[0m\u001b[0;34m(\u001b[0m\u001b[0mnp\u001b[0m\u001b[0;34m.\u001b[0m\u001b[0mnansum\u001b[0m\u001b[0;34m(\u001b[0m\u001b[0mS2Ntab\u001b[0m\u001b[0;34m**\u001b[0m\u001b[0;36m2\u001b[0m\u001b[0;34m)\u001b[0m\u001b[0;34m)\u001b[0m\u001b[0;34m\u001b[0m\u001b[0;34m\u001b[0m\u001b[0m\n",
      "\u001b[0;32m~/Documents/PhD/work/MagBias/modules/galaxy_hi_magnification.py\u001b[0m in \u001b[0;36m<listcomp>\u001b[0;34m(.0)\u001b[0m\n\u001b[1;32m    181\u001b[0m         \u001b[0;34m\"\"\"Calculates the total S2N of magnification bias (squared summation over background redshift bins) of this bg-fg combination.\"\"\"\u001b[0m\u001b[0;34m\u001b[0m\u001b[0;34m\u001b[0m\u001b[0m\n\u001b[1;32m    182\u001b[0m         S2Ntab = np.array([\n\u001b[0;32m--> 183\u001b[0;31m             \u001b[0mself\u001b[0m\u001b[0;34m.\u001b[0m\u001b[0mget_S2N_weighted_in_bg_bin\u001b[0m\u001b[0;34m(\u001b[0m\u001b[0miz\u001b[0m\u001b[0;34m)\u001b[0m \u001b[0;32mfor\u001b[0m \u001b[0miz\u001b[0m \u001b[0;32min\u001b[0m \u001b[0mrange\u001b[0m\u001b[0;34m(\u001b[0m\u001b[0mlen\u001b[0m\u001b[0;34m(\u001b[0m\u001b[0mself\u001b[0m\u001b[0;34m.\u001b[0m\u001b[0mexperiment\u001b[0m\u001b[0;34m.\u001b[0m\u001b[0mgalaxy_redshift_tab\u001b[0m\u001b[0;34m)\u001b[0m\u001b[0;34m-\u001b[0m\u001b[0;36m1\u001b[0m\u001b[0;34m)\u001b[0m\u001b[0;34m\u001b[0m\u001b[0;34m\u001b[0m\u001b[0m\n\u001b[0m\u001b[1;32m    184\u001b[0m         ])\n\u001b[1;32m    185\u001b[0m         \u001b[0mS2Nsqsum\u001b[0m \u001b[0;34m=\u001b[0m \u001b[0mnp\u001b[0m\u001b[0;34m.\u001b[0m\u001b[0msqrt\u001b[0m\u001b[0;34m(\u001b[0m\u001b[0mnp\u001b[0m\u001b[0;34m.\u001b[0m\u001b[0mnansum\u001b[0m\u001b[0;34m(\u001b[0m\u001b[0mS2Ntab\u001b[0m\u001b[0;34m**\u001b[0m\u001b[0;36m2\u001b[0m\u001b[0;34m)\u001b[0m\u001b[0;34m)\u001b[0m\u001b[0;34m\u001b[0m\u001b[0;34m\u001b[0m\u001b[0m\n",
      "\u001b[0;32m~/Documents/PhD/work/MagBias/modules/galaxy_hi_magnification.py\u001b[0m in \u001b[0;36mget_S2N_weighted_in_bg_bin\u001b[0;34m(self, iz)\u001b[0m\n\u001b[1;32m    175\u001b[0m         \u001b[0;34m\"\"\"Calculates the S2N for a magnification bias measurement in background bin number ``iz``.\"\"\"\u001b[0m\u001b[0;34m\u001b[0m\u001b[0;34m\u001b[0m\u001b[0m\n\u001b[1;32m    176\u001b[0m \u001b[0;34m\u001b[0m\u001b[0m\n\u001b[0;32m--> 177\u001b[0;31m         \u001b[0margs\u001b[0m \u001b[0;34m=\u001b[0m \u001b[0mself\u001b[0m\u001b[0;34m.\u001b[0m\u001b[0mget_S2N_arguments\u001b[0m\u001b[0;34m(\u001b[0m\u001b[0miz\u001b[0m\u001b[0;34m)\u001b[0m\u001b[0;34m\u001b[0m\u001b[0;34m\u001b[0m\u001b[0m\n\u001b[0m\u001b[1;32m    178\u001b[0m         \u001b[0;32mreturn\u001b[0m \u001b[0mself\u001b[0m\u001b[0;34m.\u001b[0m\u001b[0m_get_S2N_weighted\u001b[0m\u001b[0;34m(\u001b[0m\u001b[0;34m*\u001b[0m\u001b[0margs\u001b[0m\u001b[0;34m)\u001b[0m\u001b[0;34m\u001b[0m\u001b[0;34m\u001b[0m\u001b[0m\n\u001b[1;32m    179\u001b[0m \u001b[0;34m\u001b[0m\u001b[0m\n",
      "\u001b[0;32m~/Documents/PhD/work/MagBias/modules/galaxy_hi_magnification.py\u001b[0m in \u001b[0;36mget_S2N_arguments\u001b[0;34m(self, iz)\u001b[0m\n\u001b[1;32m    166\u001b[0m         \u001b[0mC_DM_tab\u001b[0m \u001b[0;34m=\u001b[0m \u001b[0mself\u001b[0m\u001b[0;34m.\u001b[0m\u001b[0mget_C_DM\u001b[0m\u001b[0;34m(\u001b[0m\u001b[0mzlow\u001b[0m\u001b[0;34m,\u001b[0m \u001b[0mzhigh\u001b[0m\u001b[0;34m)\u001b[0m\u001b[0;34m\u001b[0m\u001b[0;34m\u001b[0m\u001b[0m\n\u001b[1;32m    167\u001b[0m         \u001b[0mCshot\u001b[0m \u001b[0;34m=\u001b[0m \u001b[0mself\u001b[0m\u001b[0;34m.\u001b[0m\u001b[0mexperiment\u001b[0m\u001b[0;34m.\u001b[0m\u001b[0mget_shot_noise\u001b[0m\u001b[0;34m(\u001b[0m\u001b[0mzlow\u001b[0m\u001b[0;34m,\u001b[0m \u001b[0mzhigh\u001b[0m\u001b[0;34m)\u001b[0m\u001b[0;34m\u001b[0m\u001b[0;34m\u001b[0m\u001b[0m\n\u001b[0;32m--> 168\u001b[0;31m         \u001b[0mC_HIxmag_tab\u001b[0m \u001b[0;34m=\u001b[0m \u001b[0mself\u001b[0m\u001b[0;34m.\u001b[0m\u001b[0mget_C_HIxmag\u001b[0m\u001b[0;34m(\u001b[0m\u001b[0mzlow\u001b[0m\u001b[0;34m,\u001b[0m \u001b[0mzhigh\u001b[0m\u001b[0;34m)\u001b[0m\u001b[0;34m\u001b[0m\u001b[0;34m\u001b[0m\u001b[0m\n\u001b[0m\u001b[1;32m    169\u001b[0m \u001b[0;34m\u001b[0m\u001b[0m\n\u001b[1;32m    170\u001b[0m         \u001b[0mWeight\u001b[0m \u001b[0;34m=\u001b[0m \u001b[0mself\u001b[0m\u001b[0;34m.\u001b[0m\u001b[0mget_W_weight\u001b[0m\u001b[0;34m(\u001b[0m\u001b[0miz\u001b[0m\u001b[0;34m)\u001b[0m\u001b[0;34m\u001b[0m\u001b[0;34m\u001b[0m\u001b[0m\n",
      "\u001b[0;32m~/Documents/PhD/work/MagBias/modules/galaxy_hi_magnification.py\u001b[0m in \u001b[0;36mget_C_HIxmag\u001b[0;34m(self, z_lower, z_upper)\u001b[0m\n\u001b[1;32m    122\u001b[0m                 \u001b[0;31m# MAG_INTERVAL=[None, mmm],\u001b[0m\u001b[0;34m\u001b[0m\u001b[0;34m\u001b[0m\u001b[0;34m\u001b[0m\u001b[0m\n\u001b[1;32m    123\u001b[0m                 \u001b[0mZMAX\u001b[0m\u001b[0;34m=\u001b[0m\u001b[0mz_upper\u001b[0m\u001b[0;34m,\u001b[0m\u001b[0;34m\u001b[0m\u001b[0;34m\u001b[0m\u001b[0m\n\u001b[0;32m--> 124\u001b[0;31m                 \u001b[0mNINT_gkernel\u001b[0m\u001b[0;34m=\u001b[0m\u001b[0mself\u001b[0m\u001b[0;34m.\u001b[0m\u001b[0mNINT\u001b[0m\u001b[0;34m\u001b[0m\u001b[0;34m\u001b[0m\u001b[0m\n\u001b[0m\u001b[1;32m    125\u001b[0m             )\n\u001b[1;32m    126\u001b[0m             \u001b[0mresult\u001b[0m\u001b[0;34m.\u001b[0m\u001b[0mappend\u001b[0m\u001b[0;34m(\u001b[0m\u001b[0mtmp\u001b[0m\u001b[0;34m)\u001b[0m\u001b[0;34m\u001b[0m\u001b[0;34m\u001b[0m\u001b[0m\n",
      "\u001b[0;32m~/Documents/PhD/work/MagBias/magmod.py\u001b[0m in \u001b[0;36mCl_HIxmag_CAMB\u001b[0;34m(ltable, zf, delta_zf, zbmin, Nint, NINT_gkernel, MAG_INTERVAL, NOUNITS, ZMAX)\u001b[0m\n\u001b[1;32m    479\u001b[0m         \u001b[0;31m# / rCom(ztab)**2 * pknltab\u001b[0m\u001b[0;34m\u001b[0m\u001b[0;34m\u001b[0m\u001b[0;34m\u001b[0m\u001b[0m\n\u001b[1;32m    480\u001b[0m         \u001b[0mintegrand\u001b[0m\u001b[0;34m[\u001b[0m\u001b[0;34m:\u001b[0m\u001b[0;34m,\u001b[0m\u001b[0mil\u001b[0m\u001b[0;34m]\u001b[0m \u001b[0;34m=\u001b[0m \u001b[0;34m(\u001b[0m\u001b[0;36m1\u001b[0m\u001b[0;34m+\u001b[0m\u001b[0mztab\u001b[0m\u001b[0;34m)\u001b[0m \u001b[0;34m*\u001b[0m \u001b[0mbfunc\u001b[0m\u001b[0;34m(\u001b[0m\u001b[0mztab\u001b[0m\u001b[0;34m)\u001b[0m \u001b[0;34m*\u001b[0m \u001b[0mT_func\u001b[0m\u001b[0;34m(\u001b[0m\u001b[0mztab\u001b[0m\u001b[0;34m)\u001b[0m \u001b[0;34m*\u001b[0m \u001b[0mW_tophat\u001b[0m\u001b[0;34m(\u001b[0m\u001b[0mztab\u001b[0m\u001b[0;34m,\u001b[0m \u001b[0mzmin\u001b[0m\u001b[0;34m,\u001b[0m \u001b[0mzmax\u001b[0m\u001b[0;34m)\u001b[0m \u001b[0;34m*\u001b[0m \u001b[0mg\u001b[0m\u001b[0;34m(\u001b[0m\u001b[0mztab\u001b[0m\u001b[0;34m,\u001b[0m \u001b[0mzbmin\u001b[0m\u001b[0;34m,\u001b[0m \u001b[0mMAG_INTERVAL\u001b[0m\u001b[0;34m,\u001b[0m \u001b[0mZMAX\u001b[0m \u001b[0;34m=\u001b[0m \u001b[0mZMAX\u001b[0m\u001b[0;34m,\u001b[0m \u001b[0mNINT\u001b[0m \u001b[0;34m=\u001b[0m \u001b[0mNINT_gkernel\u001b[0m\u001b[0;34m)\u001b[0m\u001b[0;31m \u001b[0m\u001b[0;31m\\\u001b[0m\u001b[0;34m\u001b[0m\u001b[0;34m\u001b[0m\u001b[0m\n\u001b[0;32m--> 481\u001b[0;31m         \u001b[0;34m/\u001b[0m \u001b[0mrCom\u001b[0m\u001b[0;34m(\u001b[0m\u001b[0mztab\u001b[0m\u001b[0;34m)\u001b[0m\u001b[0;34m**\u001b[0m\u001b[0;36m2\u001b[0m \u001b[0;34m*\u001b[0m \u001b[0mpknltab\u001b[0m\u001b[0;34m\u001b[0m\u001b[0;34m\u001b[0m\u001b[0m\n\u001b[0m\u001b[1;32m    482\u001b[0m \u001b[0;34m\u001b[0m\u001b[0m\n\u001b[1;32m    483\u001b[0m         \u001b[0;31m#old and slow ways to calculate the same thing:\u001b[0m\u001b[0;34m\u001b[0m\u001b[0;34m\u001b[0m\u001b[0;34m\u001b[0m\u001b[0m\n",
      "\u001b[0;32m~/Documents/PhD/work/MagBias/magmod.py\u001b[0m in \u001b[0;36mg\u001b[0;34m(z, zbmin, mag_interval, NINT, experiment, ZMAX, SGNG_FIT, NG_FIT)\u001b[0m\n\u001b[1;32m    392\u001b[0m     \u001b[0;31m# fac2 = 1 / dndz_norm(zmin, zmax, mag_interval[-1])\u001b[0m\u001b[0;34m\u001b[0m\u001b[0;34m\u001b[0m\u001b[0;34m\u001b[0m\u001b[0m\n\u001b[1;32m    393\u001b[0m \u001b[0;34m\u001b[0m\u001b[0m\n\u001b[0;32m--> 394\u001b[0;31m     \u001b[0mfac1\u001b[0m \u001b[0;34m=\u001b[0m \u001b[0msgng\u001b[0m\u001b[0;34m(\u001b[0m\u001b[0mzint\u001b[0m\u001b[0;34m,\u001b[0m \u001b[0mmag_interval\u001b[0m\u001b[0;34m,\u001b[0m \u001b[0mFIT\u001b[0m \u001b[0;34m=\u001b[0m \u001b[0mSGNG_FIT\u001b[0m\u001b[0;34m)\u001b[0m\u001b[0;34m\u001b[0m\u001b[0;34m\u001b[0m\u001b[0m\n\u001b[0m\u001b[1;32m    395\u001b[0m     \u001b[0mfac2\u001b[0m \u001b[0;34m=\u001b[0m \u001b[0;36m1\u001b[0m \u001b[0;34m/\u001b[0m \u001b[0mdndz_norm_mag_interval\u001b[0m\u001b[0;34m(\u001b[0m\u001b[0mzmin\u001b[0m\u001b[0;34m,\u001b[0m \u001b[0mzmax\u001b[0m\u001b[0;34m,\u001b[0m \u001b[0mmag_interval\u001b[0m\u001b[0;34m,\u001b[0m \u001b[0mFIT\u001b[0m \u001b[0;34m=\u001b[0m \u001b[0mNG_FIT\u001b[0m\u001b[0;34m)\u001b[0m\u001b[0;34m\u001b[0m\u001b[0;34m\u001b[0m\u001b[0m\n\u001b[1;32m    396\u001b[0m \u001b[0;34m\u001b[0m\u001b[0m\n",
      "\u001b[0;32m~/Documents/PhD/work/MagBias/magmod.py\u001b[0m in \u001b[0;36msgng\u001b[0;34m(ztab, mag_interval, FIT)\u001b[0m\n\u001b[1;32m    334\u001b[0m     \u001b[0msgngtab\u001b[0m \u001b[0;34m=\u001b[0m \u001b[0mnp\u001b[0m\u001b[0;34m.\u001b[0m\u001b[0mzeros\u001b[0m\u001b[0;34m(\u001b[0m\u001b[0;34m(\u001b[0m\u001b[0mlen\u001b[0m\u001b[0;34m(\u001b[0m\u001b[0mztab\u001b[0m\u001b[0;34m)\u001b[0m\u001b[0;34m)\u001b[0m\u001b[0;34m)\u001b[0m\u001b[0;34m\u001b[0m\u001b[0;34m\u001b[0m\u001b[0m\n\u001b[1;32m    335\u001b[0m     \u001b[0;32mfor\u001b[0m \u001b[0miz\u001b[0m \u001b[0;32min\u001b[0m \u001b[0mrange\u001b[0m\u001b[0;34m(\u001b[0m\u001b[0mlen\u001b[0m\u001b[0;34m(\u001b[0m\u001b[0mztab\u001b[0m\u001b[0;34m)\u001b[0m\u001b[0;34m)\u001b[0m\u001b[0;34m:\u001b[0m\u001b[0;34m\u001b[0m\u001b[0;34m\u001b[0m\u001b[0m\n\u001b[0;32m--> 336\u001b[0;31m         \u001b[0mdndznow\u001b[0m \u001b[0;34m=\u001b[0m \u001b[0mnp\u001b[0m\u001b[0;34m.\u001b[0m\u001b[0mfloat128\u001b[0m\u001b[0;34m(\u001b[0m\u001b[0mnofz_mag_interval\u001b[0m\u001b[0;34m(\u001b[0m\u001b[0mztab\u001b[0m\u001b[0;34m[\u001b[0m\u001b[0miz\u001b[0m\u001b[0;34m]\u001b[0m\u001b[0;34m,\u001b[0m \u001b[0mmag_interval\u001b[0m\u001b[0;34m,\u001b[0m \u001b[0mFIT\u001b[0m \u001b[0;34m=\u001b[0m \u001b[0mFIT\u001b[0m\u001b[0;34m)\u001b[0m\u001b[0;34m)\u001b[0m\u001b[0;34m\u001b[0m\u001b[0;34m\u001b[0m\u001b[0m\n\u001b[0m\u001b[1;32m    337\u001b[0m         \u001b[0msgngnow\u001b[0m \u001b[0;34m=\u001b[0m \u001b[0mnp\u001b[0m\u001b[0;34m.\u001b[0m\u001b[0mfloat128\u001b[0m\u001b[0;34m(\u001b[0m\u001b[0msg\u001b[0m\u001b[0;34m(\u001b[0m\u001b[0mztab\u001b[0m\u001b[0;34m[\u001b[0m\u001b[0miz\u001b[0m\u001b[0;34m]\u001b[0m\u001b[0;34m,\u001b[0m \u001b[0mexperiment\u001b[0m \u001b[0;34m=\u001b[0m \u001b[0mLSST\u001b[0m\u001b[0;34m,\u001b[0m \u001b[0mMAXMAG\u001b[0m \u001b[0;34m=\u001b[0m \u001b[0mmag_interval\u001b[0m\u001b[0;34m[\u001b[0m\u001b[0;34m-\u001b[0m\u001b[0;36m1\u001b[0m\u001b[0;34m]\u001b[0m\u001b[0;34m)\u001b[0m\u001b[0;34m*\u001b[0m\u001b[0mdndznow\u001b[0m\u001b[0;34m)\u001b[0m\u001b[0;34m\u001b[0m\u001b[0;34m\u001b[0m\u001b[0m\n\u001b[1;32m    338\u001b[0m         \u001b[0mtmp_sgng\u001b[0m \u001b[0;34m=\u001b[0m \u001b[0;36m5\u001b[0m\u001b[0;34m*\u001b[0m\u001b[0msgngnow\u001b[0m \u001b[0;34m-\u001b[0m \u001b[0;36m2\u001b[0m \u001b[0;34m*\u001b[0m \u001b[0mdndznow\u001b[0m\u001b[0;34m\u001b[0m\u001b[0;34m\u001b[0m\u001b[0m\n",
      "\u001b[0;32m~/Documents/PhD/work/MagBias/magmod.py\u001b[0m in \u001b[0;36mnofz_mag_interval\u001b[0;34m(ztab, mag_interval, FIT)\u001b[0m\n\u001b[1;32m    348\u001b[0m     \u001b[0;32melse\u001b[0m\u001b[0;34m:\u001b[0m\u001b[0;34m\u001b[0m\u001b[0;34m\u001b[0m\u001b[0m\n\u001b[1;32m    349\u001b[0m         \u001b[0mnofz_function\u001b[0m \u001b[0;34m=\u001b[0m \u001b[0mnofz\u001b[0m\u001b[0;34m\u001b[0m\u001b[0;34m\u001b[0m\u001b[0m\n\u001b[0;32m--> 350\u001b[0;31m     \u001b[0mnofz_upper\u001b[0m \u001b[0;34m=\u001b[0m \u001b[0mnofz_function\u001b[0m\u001b[0;34m(\u001b[0m\u001b[0mztab\u001b[0m\u001b[0;34m,\u001b[0m \u001b[0mmag_interval\u001b[0m\u001b[0;34m[\u001b[0m\u001b[0;36m1\u001b[0m\u001b[0;34m]\u001b[0m\u001b[0;34m)\u001b[0m\u001b[0;34m\u001b[0m\u001b[0;34m\u001b[0m\u001b[0m\n\u001b[0m\u001b[1;32m    351\u001b[0m     \u001b[0;32mif\u001b[0m \u001b[0mmag_interval\u001b[0m\u001b[0;34m[\u001b[0m\u001b[0;36m0\u001b[0m\u001b[0;34m]\u001b[0m \u001b[0;32mis\u001b[0m \u001b[0;32mNone\u001b[0m\u001b[0;34m:\u001b[0m\u001b[0;34m\u001b[0m\u001b[0;34m\u001b[0m\u001b[0m\n\u001b[1;32m    352\u001b[0m         \u001b[0;32mreturn\u001b[0m \u001b[0mnofz_upper\u001b[0m\u001b[0;34m\u001b[0m\u001b[0;34m\u001b[0m\u001b[0m\n",
      "\u001b[0;32m~/Documents/PhD/work/MagBias/magmod.py\u001b[0m in \u001b[0;36mnofz\u001b[0;34m(zz, mstar)\u001b[0m\n\u001b[1;32m   1269\u001b[0m \u001b[0;32mdef\u001b[0m \u001b[0mnofz\u001b[0m\u001b[0;34m(\u001b[0m\u001b[0mzz\u001b[0m\u001b[0;34m,\u001b[0m \u001b[0mmstar\u001b[0m\u001b[0;34m)\u001b[0m\u001b[0;34m:\u001b[0m \u001b[0;31m#returns  the rescaled nz_distribtion function from lf_photometric in order to match the nz_gold.txt galaxy number\u001b[0m\u001b[0;34m\u001b[0m\u001b[0;34m\u001b[0m\u001b[0m\n\u001b[1;32m   1270\u001b[0m     \u001b[0mzz\u001b[0m \u001b[0;34m=\u001b[0m \u001b[0mnp\u001b[0m\u001b[0;34m.\u001b[0m\u001b[0matleast_1d\u001b[0m\u001b[0;34m(\u001b[0m\u001b[0mzz\u001b[0m\u001b[0;34m)\u001b[0m\u001b[0;34m\u001b[0m\u001b[0;34m\u001b[0m\u001b[0m\n\u001b[0;32m-> 1271\u001b[0;31m     \u001b[0mntab\u001b[0m \u001b[0;34m=\u001b[0m \u001b[0mnp\u001b[0m\u001b[0;34m.\u001b[0m\u001b[0marray\u001b[0m\u001b[0;34m(\u001b[0m\u001b[0;34m[\u001b[0m\u001b[0mnz_distribution\u001b[0m\u001b[0;34m(\u001b[0m\u001b[0mzzz\u001b[0m\u001b[0;34m,\u001b[0m \u001b[0mmstar\u001b[0m\u001b[0;34m,\u001b[0m \u001b[0;34m\"all\"\u001b[0m\u001b[0;34m)\u001b[0m\u001b[0;34m[\u001b[0m\u001b[0;36m0\u001b[0m\u001b[0;34m]\u001b[0m \u001b[0;32mfor\u001b[0m \u001b[0mzzz\u001b[0m \u001b[0;32min\u001b[0m \u001b[0mzz\u001b[0m\u001b[0;34m]\u001b[0m\u001b[0;34m)\u001b[0m\u001b[0;34m\u001b[0m\u001b[0;34m\u001b[0m\u001b[0m\n\u001b[0m\u001b[1;32m   1272\u001b[0m     \u001b[0;32mreturn\u001b[0m \u001b[0mrescale\u001b[0m \u001b[0;34m*\u001b[0m \u001b[0mntab\u001b[0m\u001b[0;34m\u001b[0m\u001b[0;34m\u001b[0m\u001b[0m\n\u001b[1;32m   1273\u001b[0m \u001b[0;34m\u001b[0m\u001b[0m\n",
      "\u001b[0;32m~/Documents/PhD/work/MagBias/magmod.py\u001b[0m in \u001b[0;36m<listcomp>\u001b[0;34m(.0)\u001b[0m\n\u001b[1;32m   1269\u001b[0m \u001b[0;32mdef\u001b[0m \u001b[0mnofz\u001b[0m\u001b[0;34m(\u001b[0m\u001b[0mzz\u001b[0m\u001b[0;34m,\u001b[0m \u001b[0mmstar\u001b[0m\u001b[0;34m)\u001b[0m\u001b[0;34m:\u001b[0m \u001b[0;31m#returns  the rescaled nz_distribtion function from lf_photometric in order to match the nz_gold.txt galaxy number\u001b[0m\u001b[0;34m\u001b[0m\u001b[0;34m\u001b[0m\u001b[0m\n\u001b[1;32m   1270\u001b[0m     \u001b[0mzz\u001b[0m \u001b[0;34m=\u001b[0m \u001b[0mnp\u001b[0m\u001b[0;34m.\u001b[0m\u001b[0matleast_1d\u001b[0m\u001b[0;34m(\u001b[0m\u001b[0mzz\u001b[0m\u001b[0;34m)\u001b[0m\u001b[0;34m\u001b[0m\u001b[0;34m\u001b[0m\u001b[0m\n\u001b[0;32m-> 1271\u001b[0;31m     \u001b[0mntab\u001b[0m \u001b[0;34m=\u001b[0m \u001b[0mnp\u001b[0m\u001b[0;34m.\u001b[0m\u001b[0marray\u001b[0m\u001b[0;34m(\u001b[0m\u001b[0;34m[\u001b[0m\u001b[0mnz_distribution\u001b[0m\u001b[0;34m(\u001b[0m\u001b[0mzzz\u001b[0m\u001b[0;34m,\u001b[0m \u001b[0mmstar\u001b[0m\u001b[0;34m,\u001b[0m \u001b[0;34m\"all\"\u001b[0m\u001b[0;34m)\u001b[0m\u001b[0;34m[\u001b[0m\u001b[0;36m0\u001b[0m\u001b[0;34m]\u001b[0m \u001b[0;32mfor\u001b[0m \u001b[0mzzz\u001b[0m \u001b[0;32min\u001b[0m \u001b[0mzz\u001b[0m\u001b[0;34m]\u001b[0m\u001b[0;34m)\u001b[0m\u001b[0;34m\u001b[0m\u001b[0;34m\u001b[0m\u001b[0m\n\u001b[0m\u001b[1;32m   1272\u001b[0m     \u001b[0;32mreturn\u001b[0m \u001b[0mrescale\u001b[0m \u001b[0;34m*\u001b[0m \u001b[0mntab\u001b[0m\u001b[0;34m\u001b[0m\u001b[0;34m\u001b[0m\u001b[0m\n\u001b[1;32m   1273\u001b[0m \u001b[0;34m\u001b[0m\u001b[0m\n",
      "\u001b[0;32m~/Documents/PhD/work/MagBias/lf_photometric.py\u001b[0m in \u001b[0;36mnz_distribution\u001b[0;34m(z, rmax, typ)\u001b[0m\n\u001b[1;32m    221\u001b[0m     \u001b[0mih\u001b[0m\u001b[0;34m=\u001b[0m\u001b[0;36m1.\u001b[0m\u001b[0;34m/\u001b[0m\u001b[0;34m(\u001b[0m\u001b[0mH_z\u001b[0m\u001b[0;34m(\u001b[0m\u001b[0mz\u001b[0m\u001b[0;34m)\u001b[0m\u001b[0;34m/\u001b[0m\u001b[0;36m1000\u001b[0m\u001b[0;34m)\u001b[0m\u001b[0;34m\u001b[0m\u001b[0;34m\u001b[0m\u001b[0m\n\u001b[1;32m    222\u001b[0m \u001b[0;34m\u001b[0m\u001b[0m\n\u001b[0;32m--> 223\u001b[0;31m     \u001b[0mlumPhi\u001b[0m\u001b[0;34m=\u001b[0m\u001b[0mcumulative_lumfun\u001b[0m\u001b[0;34m(\u001b[0m\u001b[0mmaglim_red\u001b[0m\u001b[0;34m,\u001b[0m\u001b[0mmaglim_blue\u001b[0m\u001b[0;34m,\u001b[0m\u001b[0mz\u001b[0m\u001b[0;34m,\u001b[0m\u001b[0mtyp\u001b[0m\u001b[0;34m)\u001b[0m\u001b[0;34m\u001b[0m\u001b[0;34m\u001b[0m\u001b[0m\n\u001b[0m\u001b[1;32m    224\u001b[0m \u001b[0;34m\u001b[0m\u001b[0m\n\u001b[1;32m    225\u001b[0m     \u001b[0;32mreturn\u001b[0m \u001b[0mlumPhi\u001b[0m\u001b[0;34m*\u001b[0m\u001b[0mchi\u001b[0m\u001b[0;34m**\u001b[0m\u001b[0;36m2\u001b[0m\u001b[0;34m*\u001b[0m\u001b[0mih\u001b[0m\u001b[0;34m\u001b[0m\u001b[0;34m\u001b[0m\u001b[0m\n",
      "\u001b[0;32m~/Documents/PhD/work/MagBias/lf_photometric.py\u001b[0m in \u001b[0;36mcumulative_lumfun\u001b[0;34m(mag_lim_red, mag_lim_blue, z, typ)\u001b[0m\n\u001b[1;32m    188\u001b[0m         \u001b[0;31m# clred=[quad(lumfun,norm*mag_lim_red,lnlum_max,args=(zzz,\"red\"))[0] for zzz in z]\u001b[0m\u001b[0;34m\u001b[0m\u001b[0;34m\u001b[0m\u001b[0;34m\u001b[0m\u001b[0m\n\u001b[1;32m    189\u001b[0m         \u001b[0mclred\u001b[0m\u001b[0;34m=\u001b[0m\u001b[0;34m[\u001b[0m\u001b[0mquad\u001b[0m\u001b[0;34m(\u001b[0m\u001b[0mlumfun\u001b[0m\u001b[0;34m,\u001b[0m\u001b[0mnorm\u001b[0m\u001b[0;34m*\u001b[0m\u001b[0mmag_lim_red\u001b[0m\u001b[0;34m[\u001b[0m\u001b[0mi\u001b[0m\u001b[0;34m]\u001b[0m\u001b[0;34m,\u001b[0m\u001b[0mlnlum_max\u001b[0m\u001b[0;34m,\u001b[0m\u001b[0margs\u001b[0m\u001b[0;34m=\u001b[0m\u001b[0;34m(\u001b[0m\u001b[0mz\u001b[0m\u001b[0;34m[\u001b[0m\u001b[0mi\u001b[0m\u001b[0;34m]\u001b[0m\u001b[0;34m,\u001b[0m\u001b[0;34m\"red\"\u001b[0m\u001b[0;34m)\u001b[0m\u001b[0;34m)\u001b[0m\u001b[0;34m[\u001b[0m\u001b[0;36m0\u001b[0m\u001b[0;34m]\u001b[0m \u001b[0;32mfor\u001b[0m \u001b[0mi\u001b[0m \u001b[0;32min\u001b[0m \u001b[0mrange\u001b[0m\u001b[0;34m(\u001b[0m\u001b[0mlen\u001b[0m\u001b[0;34m(\u001b[0m\u001b[0mz\u001b[0m\u001b[0;34m)\u001b[0m\u001b[0;34m)\u001b[0m\u001b[0;34m]\u001b[0m\u001b[0;34m\u001b[0m\u001b[0;34m\u001b[0m\u001b[0m\n\u001b[0;32m--> 190\u001b[0;31m         \u001b[0mclblue\u001b[0m\u001b[0;34m=\u001b[0m\u001b[0;34m[\u001b[0m\u001b[0mquad\u001b[0m\u001b[0;34m(\u001b[0m\u001b[0mlumfun\u001b[0m\u001b[0;34m,\u001b[0m\u001b[0mnorm\u001b[0m\u001b[0;34m*\u001b[0m\u001b[0mmag_lim_blue\u001b[0m\u001b[0;34m[\u001b[0m\u001b[0mi\u001b[0m\u001b[0;34m]\u001b[0m\u001b[0;34m,\u001b[0m\u001b[0mlnlum_max\u001b[0m\u001b[0;34m,\u001b[0m\u001b[0margs\u001b[0m\u001b[0;34m=\u001b[0m\u001b[0;34m(\u001b[0m\u001b[0mz\u001b[0m\u001b[0;34m[\u001b[0m\u001b[0mi\u001b[0m\u001b[0;34m]\u001b[0m\u001b[0;34m,\u001b[0m\u001b[0;34m\"blue\"\u001b[0m\u001b[0;34m)\u001b[0m\u001b[0;34m)\u001b[0m\u001b[0;34m[\u001b[0m\u001b[0;36m0\u001b[0m\u001b[0;34m]\u001b[0m \u001b[0;32mfor\u001b[0m \u001b[0mi\u001b[0m \u001b[0;32min\u001b[0m \u001b[0mrange\u001b[0m\u001b[0;34m(\u001b[0m\u001b[0mlen\u001b[0m\u001b[0;34m(\u001b[0m\u001b[0mz\u001b[0m\u001b[0;34m)\u001b[0m\u001b[0;34m)\u001b[0m\u001b[0;34m]\u001b[0m\u001b[0;34m\u001b[0m\u001b[0;34m\u001b[0m\u001b[0m\n\u001b[0m\u001b[1;32m    191\u001b[0m         \u001b[0;32mreturn\u001b[0m \u001b[0mnp\u001b[0m\u001b[0;34m.\u001b[0m\u001b[0marray\u001b[0m\u001b[0;34m(\u001b[0m\u001b[0mclred\u001b[0m\u001b[0;34m)\u001b[0m\u001b[0;34m+\u001b[0m\u001b[0mnp\u001b[0m\u001b[0;34m.\u001b[0m\u001b[0marray\u001b[0m\u001b[0;34m(\u001b[0m\u001b[0mclblue\u001b[0m\u001b[0;34m)\u001b[0m\u001b[0;34m\u001b[0m\u001b[0;34m\u001b[0m\u001b[0m\n\u001b[1;32m    192\u001b[0m \u001b[0;34m\u001b[0m\u001b[0m\n",
      "\u001b[0;32m~/Documents/PhD/work/MagBias/lf_photometric.py\u001b[0m in \u001b[0;36m<listcomp>\u001b[0;34m(.0)\u001b[0m\n\u001b[1;32m    188\u001b[0m         \u001b[0;31m# clred=[quad(lumfun,norm*mag_lim_red,lnlum_max,args=(zzz,\"red\"))[0] for zzz in z]\u001b[0m\u001b[0;34m\u001b[0m\u001b[0;34m\u001b[0m\u001b[0;34m\u001b[0m\u001b[0m\n\u001b[1;32m    189\u001b[0m         \u001b[0mclred\u001b[0m\u001b[0;34m=\u001b[0m\u001b[0;34m[\u001b[0m\u001b[0mquad\u001b[0m\u001b[0;34m(\u001b[0m\u001b[0mlumfun\u001b[0m\u001b[0;34m,\u001b[0m\u001b[0mnorm\u001b[0m\u001b[0;34m*\u001b[0m\u001b[0mmag_lim_red\u001b[0m\u001b[0;34m[\u001b[0m\u001b[0mi\u001b[0m\u001b[0;34m]\u001b[0m\u001b[0;34m,\u001b[0m\u001b[0mlnlum_max\u001b[0m\u001b[0;34m,\u001b[0m\u001b[0margs\u001b[0m\u001b[0;34m=\u001b[0m\u001b[0;34m(\u001b[0m\u001b[0mz\u001b[0m\u001b[0;34m[\u001b[0m\u001b[0mi\u001b[0m\u001b[0;34m]\u001b[0m\u001b[0;34m,\u001b[0m\u001b[0;34m\"red\"\u001b[0m\u001b[0;34m)\u001b[0m\u001b[0;34m)\u001b[0m\u001b[0;34m[\u001b[0m\u001b[0;36m0\u001b[0m\u001b[0;34m]\u001b[0m \u001b[0;32mfor\u001b[0m \u001b[0mi\u001b[0m \u001b[0;32min\u001b[0m \u001b[0mrange\u001b[0m\u001b[0;34m(\u001b[0m\u001b[0mlen\u001b[0m\u001b[0;34m(\u001b[0m\u001b[0mz\u001b[0m\u001b[0;34m)\u001b[0m\u001b[0;34m)\u001b[0m\u001b[0;34m]\u001b[0m\u001b[0;34m\u001b[0m\u001b[0;34m\u001b[0m\u001b[0m\n\u001b[0;32m--> 190\u001b[0;31m         \u001b[0mclblue\u001b[0m\u001b[0;34m=\u001b[0m\u001b[0;34m[\u001b[0m\u001b[0mquad\u001b[0m\u001b[0;34m(\u001b[0m\u001b[0mlumfun\u001b[0m\u001b[0;34m,\u001b[0m\u001b[0mnorm\u001b[0m\u001b[0;34m*\u001b[0m\u001b[0mmag_lim_blue\u001b[0m\u001b[0;34m[\u001b[0m\u001b[0mi\u001b[0m\u001b[0;34m]\u001b[0m\u001b[0;34m,\u001b[0m\u001b[0mlnlum_max\u001b[0m\u001b[0;34m,\u001b[0m\u001b[0margs\u001b[0m\u001b[0;34m=\u001b[0m\u001b[0;34m(\u001b[0m\u001b[0mz\u001b[0m\u001b[0;34m[\u001b[0m\u001b[0mi\u001b[0m\u001b[0;34m]\u001b[0m\u001b[0;34m,\u001b[0m\u001b[0;34m\"blue\"\u001b[0m\u001b[0;34m)\u001b[0m\u001b[0;34m)\u001b[0m\u001b[0;34m[\u001b[0m\u001b[0;36m0\u001b[0m\u001b[0;34m]\u001b[0m \u001b[0;32mfor\u001b[0m \u001b[0mi\u001b[0m \u001b[0;32min\u001b[0m \u001b[0mrange\u001b[0m\u001b[0;34m(\u001b[0m\u001b[0mlen\u001b[0m\u001b[0;34m(\u001b[0m\u001b[0mz\u001b[0m\u001b[0;34m)\u001b[0m\u001b[0;34m)\u001b[0m\u001b[0;34m]\u001b[0m\u001b[0;34m\u001b[0m\u001b[0;34m\u001b[0m\u001b[0m\n\u001b[0m\u001b[1;32m    191\u001b[0m         \u001b[0;32mreturn\u001b[0m \u001b[0mnp\u001b[0m\u001b[0;34m.\u001b[0m\u001b[0marray\u001b[0m\u001b[0;34m(\u001b[0m\u001b[0mclred\u001b[0m\u001b[0;34m)\u001b[0m\u001b[0;34m+\u001b[0m\u001b[0mnp\u001b[0m\u001b[0;34m.\u001b[0m\u001b[0marray\u001b[0m\u001b[0;34m(\u001b[0m\u001b[0mclblue\u001b[0m\u001b[0;34m)\u001b[0m\u001b[0;34m\u001b[0m\u001b[0;34m\u001b[0m\u001b[0m\n\u001b[1;32m    192\u001b[0m \u001b[0;34m\u001b[0m\u001b[0m\n",
      "\u001b[0;32m~/Documents/PhD/work/MagBias/venv_python3/lib/python3.7/site-packages/scipy/integrate/quadpack.py\u001b[0m in \u001b[0;36mquad\u001b[0;34m(func, a, b, args, full_output, epsabs, epsrel, limit, points, weight, wvar, wopts, maxp1, limlst)\u001b[0m\n\u001b[1;32m    339\u001b[0m     \u001b[0;32mif\u001b[0m \u001b[0mweight\u001b[0m \u001b[0;32mis\u001b[0m \u001b[0;32mNone\u001b[0m\u001b[0;34m:\u001b[0m\u001b[0;34m\u001b[0m\u001b[0;34m\u001b[0m\u001b[0m\n\u001b[1;32m    340\u001b[0m         retval = _quad(func, a, b, args, full_output, epsabs, epsrel, limit,\n\u001b[0;32m--> 341\u001b[0;31m                        points)\n\u001b[0m\u001b[1;32m    342\u001b[0m     \u001b[0;32melse\u001b[0m\u001b[0;34m:\u001b[0m\u001b[0;34m\u001b[0m\u001b[0;34m\u001b[0m\u001b[0m\n\u001b[1;32m    343\u001b[0m         retval = _quad_weight(func, a, b, args, full_output, epsabs, epsrel,\n",
      "\u001b[0;32m~/Documents/PhD/work/MagBias/venv_python3/lib/python3.7/site-packages/scipy/integrate/quadpack.py\u001b[0m in \u001b[0;36m_quad\u001b[0;34m(func, a, b, args, full_output, epsabs, epsrel, limit, points)\u001b[0m\n\u001b[1;32m    446\u001b[0m     \u001b[0;32mif\u001b[0m \u001b[0mpoints\u001b[0m \u001b[0;32mis\u001b[0m \u001b[0;32mNone\u001b[0m\u001b[0;34m:\u001b[0m\u001b[0;34m\u001b[0m\u001b[0;34m\u001b[0m\u001b[0m\n\u001b[1;32m    447\u001b[0m         \u001b[0;32mif\u001b[0m \u001b[0minfbounds\u001b[0m \u001b[0;34m==\u001b[0m \u001b[0;36m0\u001b[0m\u001b[0;34m:\u001b[0m\u001b[0;34m\u001b[0m\u001b[0;34m\u001b[0m\u001b[0m\n\u001b[0;32m--> 448\u001b[0;31m             \u001b[0;32mreturn\u001b[0m \u001b[0m_quadpack\u001b[0m\u001b[0;34m.\u001b[0m\u001b[0m_qagse\u001b[0m\u001b[0;34m(\u001b[0m\u001b[0mfunc\u001b[0m\u001b[0;34m,\u001b[0m\u001b[0ma\u001b[0m\u001b[0;34m,\u001b[0m\u001b[0mb\u001b[0m\u001b[0;34m,\u001b[0m\u001b[0margs\u001b[0m\u001b[0;34m,\u001b[0m\u001b[0mfull_output\u001b[0m\u001b[0;34m,\u001b[0m\u001b[0mepsabs\u001b[0m\u001b[0;34m,\u001b[0m\u001b[0mepsrel\u001b[0m\u001b[0;34m,\u001b[0m\u001b[0mlimit\u001b[0m\u001b[0;34m)\u001b[0m\u001b[0;34m\u001b[0m\u001b[0;34m\u001b[0m\u001b[0m\n\u001b[0m\u001b[1;32m    449\u001b[0m         \u001b[0;32melse\u001b[0m\u001b[0;34m:\u001b[0m\u001b[0;34m\u001b[0m\u001b[0;34m\u001b[0m\u001b[0m\n\u001b[1;32m    450\u001b[0m             \u001b[0;32mreturn\u001b[0m \u001b[0m_quadpack\u001b[0m\u001b[0;34m.\u001b[0m\u001b[0m_qagie\u001b[0m\u001b[0;34m(\u001b[0m\u001b[0mfunc\u001b[0m\u001b[0;34m,\u001b[0m\u001b[0mbound\u001b[0m\u001b[0;34m,\u001b[0m\u001b[0minfbounds\u001b[0m\u001b[0;34m,\u001b[0m\u001b[0margs\u001b[0m\u001b[0;34m,\u001b[0m\u001b[0mfull_output\u001b[0m\u001b[0;34m,\u001b[0m\u001b[0mepsabs\u001b[0m\u001b[0;34m,\u001b[0m\u001b[0mepsrel\u001b[0m\u001b[0;34m,\u001b[0m\u001b[0mlimit\u001b[0m\u001b[0;34m)\u001b[0m\u001b[0;34m\u001b[0m\u001b[0;34m\u001b[0m\u001b[0m\n",
      "\u001b[0;32m~/Documents/PhD/work/MagBias/lf_photometric.py\u001b[0m in \u001b[0;36mlumfun\u001b[0;34m(lnlum, z, typ)\u001b[0m\n\u001b[1;32m    166\u001b[0m         \u001b[0mnorm\u001b[0m\u001b[0;34m=\u001b[0m\u001b[0;36m2.5\u001b[0m\u001b[0;34m*\u001b[0m\u001b[0milten\u001b[0m\u001b[0;34m\u001b[0m\u001b[0;34m\u001b[0m\u001b[0m\n\u001b[1;32m    167\u001b[0m         \u001b[0mmr\u001b[0m\u001b[0;34m=\u001b[0m\u001b[0;34m-\u001b[0m\u001b[0mnorm\u001b[0m\u001b[0;34m*\u001b[0m\u001b[0mlnlum\u001b[0m\u001b[0;34m\u001b[0m\u001b[0;34m\u001b[0m\u001b[0m\n\u001b[0;32m--> 168\u001b[0;31m         \u001b[0;32mreturn\u001b[0m \u001b[0mnorm\u001b[0m\u001b[0;34m*\u001b[0m\u001b[0mlumfun_mag\u001b[0m\u001b[0;34m(\u001b[0m\u001b[0mmr\u001b[0m\u001b[0;34m,\u001b[0m\u001b[0mz\u001b[0m\u001b[0;34m,\u001b[0m\u001b[0mtyp\u001b[0m\u001b[0;34m)\u001b[0m\u001b[0;34m\u001b[0m\u001b[0;34m\u001b[0m\u001b[0m\n\u001b[0m\u001b[1;32m    169\u001b[0m \u001b[0;34m\u001b[0m\u001b[0m\n\u001b[1;32m    170\u001b[0m \u001b[0;32mdef\u001b[0m \u001b[0mcumulative_lumfun\u001b[0m\u001b[0;34m(\u001b[0m\u001b[0mmag_lim_red\u001b[0m\u001b[0;34m,\u001b[0m\u001b[0mmag_lim_blue\u001b[0m\u001b[0;34m,\u001b[0m\u001b[0mz\u001b[0m\u001b[0;34m,\u001b[0m\u001b[0mtyp\u001b[0m\u001b[0;34m)\u001b[0m \u001b[0;34m:\u001b[0m\u001b[0;34m\u001b[0m\u001b[0;34m\u001b[0m\u001b[0m\n",
      "\u001b[0;32m~/Documents/PhD/work/MagBias/lf_photometric.py\u001b[0m in \u001b[0;36mlumfun_mag\u001b[0;34m(mr, z, typ)\u001b[0m\n\u001b[1;32m    150\u001b[0m         \u001b[0;32mreturn\u001b[0m \u001b[0mlm_red_r\u001b[0m\u001b[0;34m(\u001b[0m\u001b[0mmr\u001b[0m\u001b[0;34m,\u001b[0m\u001b[0mz\u001b[0m\u001b[0;34m)\u001b[0m\u001b[0;34m\u001b[0m\u001b[0;34m\u001b[0m\u001b[0m\n\u001b[1;32m    151\u001b[0m     \u001b[0;32melif\u001b[0m \u001b[0mtyp\u001b[0m\u001b[0;34m==\u001b[0m\u001b[0;34m\"blue\"\u001b[0m \u001b[0;34m:\u001b[0m\u001b[0;34m\u001b[0m\u001b[0;34m\u001b[0m\u001b[0m\n\u001b[0;32m--> 152\u001b[0;31m         \u001b[0;32mreturn\u001b[0m \u001b[0mlm_blue_r\u001b[0m\u001b[0;34m(\u001b[0m\u001b[0mmr\u001b[0m\u001b[0;34m,\u001b[0m\u001b[0mz\u001b[0m\u001b[0;34m)\u001b[0m\u001b[0;34m\u001b[0m\u001b[0;34m\u001b[0m\u001b[0m\n\u001b[0m\u001b[1;32m    153\u001b[0m     \u001b[0;32melif\u001b[0m \u001b[0mtyp\u001b[0m\u001b[0;34m==\u001b[0m\u001b[0;34m\"all\"\u001b[0m \u001b[0;34m:\u001b[0m\u001b[0;34m\u001b[0m\u001b[0;34m\u001b[0m\u001b[0m\n\u001b[1;32m    154\u001b[0m         \u001b[0;32mreturn\u001b[0m \u001b[0mlm_all_r\u001b[0m\u001b[0;34m(\u001b[0m\u001b[0mmr\u001b[0m\u001b[0;34m,\u001b[0m\u001b[0mz\u001b[0m\u001b[0;34m)\u001b[0m\u001b[0;34m\u001b[0m\u001b[0;34m\u001b[0m\u001b[0m\n",
      "\u001b[0;31mKeyboardInterrupt\u001b[0m: "
     ]
    }
   ],
   "source": [
    "for idx_fg_bin in range(len(redshifts)):\n",
    "#     if idx_fg_bin != 0:\n",
    "#         continue\n",
    "    redshift = redshifts[idx_fg_bin]\n",
    "    radio_experiment = radio_experiments[idx_fg_bin]\n",
    "\n",
    "    # load the configuration and set magnitude cut:\n",
    "    gXhi_config = MagnificationConfig()\n",
    "#     gXhi_config.max_magnitude = mag_cuts[idx_fg_bin]\n",
    "    \n",
    "    # load magnification experiment\n",
    "    gXhi_experiment = GalaxyHIExperiment(redshift, radio_experiment, LSST, gXhi_config)\n",
    "\n",
    "    # calculate weighted S2N\n",
    "    unityweight = False # weight is always = 1\n",
    "    gXhi_magnification = GalaxyHIMagnification(gXhi_experiment, unityweight = unityweight)\n",
    "    S2N = gXhi_magnification.get_S2N_weighted()\n",
    "\n",
    "    print(\"delta_ell = {}, fsky = {}\".format(\n",
    "        gXhi_magnification.experiment.delta_ell, gXhi_magnification.experiment.fsky))\n",
    "    print(\"z from {} to {}\".format(\n",
    "        gXhi_magnification.experiment.lower_redshift, gXhi_magnification.experiment.upper_redshift))\n",
    "    print(\"Magnitude cut is {}\".format(gXhi_experiment.config_class.max_magnitude))\n",
    "    print(\"S2N in bin {}: {}\".format(fg_bin_labels[idx_fg_bin], S2N))\n",
    "    print(\"-\"*20)\n"
   ]
  },
  {
   "cell_type": "code",
   "execution_count": null,
   "metadata": {},
   "outputs": [],
   "source": []
  }
 ],
 "metadata": {
  "kernelspec": {
   "display_name": "Python 3",
   "language": "python",
   "name": "python3"
  },
  "language_info": {
   "codemirror_mode": {
    "name": "ipython",
    "version": 3
   },
   "file_extension": ".py",
   "mimetype": "text/x-python",
   "name": "python",
   "nbconvert_exporter": "python",
   "pygments_lexer": "ipython3",
   "version": "3.7.5"
  }
 },
 "nbformat": 4,
 "nbformat_minor": 2
}
