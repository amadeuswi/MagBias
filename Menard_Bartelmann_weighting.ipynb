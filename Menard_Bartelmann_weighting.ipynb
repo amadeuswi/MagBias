{
 "cells": [
  {
   "cell_type": "code",
   "execution_count": 1,
   "metadata": {},
   "outputs": [
    {
     "name": "stdout",
     "output_type": "stream",
     "text": [
      "\n",
      " #$#$#$#$#$#$#$#$#$#$#$#$#$#$#$#$#$#$#$#$#$#$#$#$#$#$#$#$#$#$ \n",
      " Rescaling the galaxy number density by a factor of 104185.98657604445 to match the gold sample with 6330073646.612723 total galaxies \n",
      " #$#$#$#$#$#$#$#$#$#$#$#$#$#$#$#$#$#$#$#$#$#$#$#$#$#$#$#$#$#$ \n",
      "\n"
     ]
    }
   ],
   "source": [
    "import matplotlib.pyplot as P\n",
    "\n",
    "from magbias_experiments import cb_hirax as hirax, SKA1, SKA2, LSST\n",
    "from modules.galaxy_hi_experiment import GalaxyHIExperiment\n",
    "from modules.galaxy_hi_magnification import GalaxyHIMagnification\n",
    "from modules.magnification_config import MagnificationConfig"
   ]
  },
  {
   "cell_type": "code",
   "execution_count": 2,
   "metadata": {},
   "outputs": [],
   "source": [
    "redshifts = [\n",
    "    (0.7755075, 1.2755075),  # hirax\n",
    "    (1.2755075, 1.7755075),\n",
    "    (1.7755075, 2.2755075),\n",
    "    (0.34127101, 0.84127101),  # SKA1\n",
    "    (0.84127101, 1.34127101),\n",
    "    (1.34127101, 1.84127101),\n",
    "    (1.84127101, 2.34127101),  \n",
    "    (0.0005, 0.47039959) # SKA2\n",
    "]\n",
    "# each fg bin has its optimized mag_cut in our approach:\n",
    "mag_cuts = [\n",
    "    23.0, # hirax\n",
    "    26.1,\n",
    "    27.0,\n",
    "    23.6, # SKA1\n",
    "    23.1,\n",
    "    26.3,\n",
    "    27.0,\n",
    "    22.1, # SKA2\n",
    "]\n",
    "radio_experiments = [hirax]*3 + [SKA1]*4 + [SKA2]\n",
    "fg_bin_labels = [\"H1\", \"H2\", \"H3\", \"SKA11\",\n",
    "               \"SKA12\", \"SKA13\", \"SKA14\", \"SKA21\"]"
   ]
  },
  {
   "cell_type": "code",
   "execution_count": 3,
   "metadata": {},
   "outputs": [],
   "source": [
    "# problem_idx = 3\n",
    "# delta_z_bg = 0.05\n",
    "\n",
    "# redshift = redshifts[problem_idx]\n",
    "# mag_cut1 = mag_cuts[problem_idx]\n",
    "# mag_cut2 = 26\n",
    "# radio_experiment = radio_experiments[problem_idx]\n",
    "# config1 = MagnificationConfig()\n",
    "# config1.max_magnitude = mag_cut1\n",
    "# config2 = MagnificationConfig()\n",
    "# config2.max_magnitude = mag_cut2\n",
    "# config1.delta_z_bg =delta_z_bg\n",
    "# config2.delta_z_bg = delta_z_bg\n",
    "\n",
    "# gXhi_experiment1 = GalaxyHIExperiment(redshift, radio_experiment, LSST, config1)\n",
    "# gXhi_experiment2 = GalaxyHIExperiment(redshift, radio_experiment, LSST, config2)\n",
    "# unityweight = False\n",
    "# gXhi_magnification1 = GalaxyHIMagnification(gXhi_experiment1, unityweight = unityweight)\n",
    "# gXhi_magnification2 = GalaxyHIMagnification(gXhi_experiment2, unityweight = unityweight)\n",
    "\n"
   ]
  },
  {
   "cell_type": "code",
   "execution_count": 4,
   "metadata": {},
   "outputs": [],
   "source": [
    "# galaxy_redshift_tab = gXhi_magnification1.experiment.galaxy_redshift_tab\n",
    "# argslist1 = []\n",
    "# argslist2 = []\n",
    "# for iz in range(len(galaxy_redshift_tab)-1):\n",
    "#     args1 = gXhi_magnification1.get_S2N_arguments(iz)\n",
    "#     args2 = gXhi_magnification2.get_S2N_arguments(iz)\n",
    "#     argslist1.append(args1)\n",
    "#     argslist2.append(args2)"
   ]
  },
  {
   "cell_type": "code",
   "execution_count": 5,
   "metadata": {},
   "outputs": [],
   "source": [
    "# S2N1 = []\n",
    "# S2N2 = []\n",
    "# Q1 = []\n",
    "# Q2 = []\n",
    "# for iz, args1 in enumerate(argslist1):\n",
    "# #     if iz != 0:\n",
    "# #         continue\n",
    "#     args2 = argslist2[iz]\n",
    "    \n",
    "    \n",
    "#     C_HIxmag_tab1, Cshot1, C_DM_tab1, bias_g_tab1, Weight1, N_g_tab1, alphaminusone_tab1 = args1\n",
    "#     C_HIxmag_tab2, Cshot2, C_DM_tab2, bias_g_tab2, Weight2, N_g_tab2, alphaminusone_tab2 = args2\n",
    "#     Cshot2 = Cshot1\n",
    "# #     C_HIxmag_tab2 = C_HIxmag_tab2[:,:24]\n",
    "# #     bias_g_tab2 = bias_g_tab2[:24]\n",
    "# #     Weight2 = Weight2[:,:24]\n",
    "# #     N_g_tab2 = N_g_tab2[:24]\n",
    "# #     alphaminusone_tab2 = alphaminusone_tab2[:24]\n",
    "    \n",
    "#     args1 = (C_HIxmag_tab1, Cshot1, C_DM_tab1, bias_g_tab1, Weight1, N_g_tab1, alphaminusone_tab1)\n",
    "#     args2 = (C_HIxmag_tab2, Cshot2, C_DM_tab2, bias_g_tab2, Weight2, N_g_tab2, alphaminusone_tab2)\n",
    "\n",
    "    \n",
    "# #     Cfg1 = gXhi_magnification1.get_C_HIHI()\n",
    "# #     CSfg1 = gXhi_magnification1.experiment.radio_noise\n",
    "# #     ltab1 = gXhi_magnification1.experiment.ell_tab\n",
    "# #     Cfg2 = gXhi_magnification2.get_C_HIHI()\n",
    "# #     CSfg2 = gXhi_magnification2.experiment.radio_noise\n",
    "# #     ltab2 = gXhi_magnification2.experiment.ell_tab\n",
    "    \n",
    "# #     denom1 = (Cfg1 + CSfg1) * (gXhi_magnification1.average(\n",
    "# #         bias_g_tab1, Weight1, N_g_tab1)**2 * C_DM_tab1 + gXhi_magnification1.average(\n",
    "# #         Weight1, Weight1, N_g_tab1) * Cshot1) / (gXhi_magnification1.average(\n",
    "# #         C_HIxmag_tab1, Weight1, N_g_tab1)**2)\n",
    "    \n",
    "# #     denom2 = (Cfg2 + CSfg2) * (gXhi_magnification2.average(\n",
    "# #         bias_g_tab2, Weight2, N_g_tab2)**2 * C_DM_tab2 + gXhi_magnification2.average(\n",
    "# #         Weight2, Weight2, N_g_tab2) * Cshot2) / (gXhi_magnification2.average(\n",
    "# #         C_HIxmag_tab2, Weight2, N_g_tab2)**2)\n",
    "# #     Q1.append(1/denom1)\n",
    "# #     Q2.append(1/denom2)\n",
    "#     S2N1.append(gXhi_magnification1._get_S2N_weighted(*args1))\n",
    "#     S2N2.append(gXhi_magnification2._get_S2N_weighted(*args2))\n",
    "    \n",
    "# #     print(Cshot1 / Cshot2)\n",
    "#     print(\"-\"*10)\n",
    "# #     print(C_HIxmag_tab1[:,:23]/C_HIxmag_tab2[:,:23])\n",
    "#     print(\"-\"*10)\n",
    "# #     print(bias_g_tab1[:23] / bias_g_tab2[:23])\n",
    "# #     print(bias_g_tab1, bias_g_tab2)\n",
    "# #     print(C_HIxmag_tab1/C_HIxmag_tab2[:,:24])\n",
    "# #     print(Weight1/Weight2[:,:24])\n",
    "# #     print(N_g_tab1/N_g_tab2[:24])\n",
    "# #     print(S2Ntab1/S2Ntab2)\n",
    "# #     print(S2N1/S2N2)\n",
    "#     print(\"#\"*50)\n",
    "    \n"
   ]
  },
  {
   "cell_type": "code",
   "execution_count": 6,
   "metadata": {},
   "outputs": [],
   "source": [
    "# S2N1 = np.array(S2N1)\n",
    "# S2N2 = np.array(S2N2)\n",
    "# Q1 = np.array(Q1)\n",
    "# Q2 = np.array(Q2)\n",
    "# print(Q2.shape)\n",
    "\n",
    "# fig = P.figure()\n",
    "# ax = fig.add_subplot(111)\n",
    "# ax.plot(galaxy_redshift_tab[:-1], S2N1, color = 'black')\n",
    "# ax.plot(galaxy_redshift_tab[:-1], S2N2, ls = \":\")\n",
    "# # ax.plot(galaxy_redshift_tab[:-1], Q1, color = 'black')\n",
    "# # ax.plot(galaxy_redshift_tab[:-1], Q2)"
   ]
  },
  {
   "cell_type": "code",
   "execution_count": null,
   "metadata": {
    "scrolled": false
   },
   "outputs": [
    {
     "name": "stdout",
     "output_type": "stream",
     "text": [
      "ell table goes from 60.0 to 2200.0, with new delta ell 62.94117647058823 and old one 60\n",
      "Using interferometer mode.\n"
     ]
    },
    {
     "name": "stderr",
     "output_type": "stream",
     "text": [
      "/Users/amadeus/Documents/PhD/work/MagBias/lf_photometric.py:272: RuntimeWarning: divide by zero encountered in true_divide\n",
      "  return 0.4*lumphi/lumPhi\n",
      "/Users/amadeus/Documents/PhD/work/MagBias/lf_photometric.py:272: RuntimeWarning: invalid value encountered in true_divide\n",
      "  return 0.4*lumphi/lumPhi\n",
      "/Users/amadeus/Documents/PhD/work/MagBias/magmod.py:337: RuntimeWarning: invalid value encountered in multiply\n",
      "  sgngnow = np.float128(sg(ztab[iz], experiment = LSST, MAXMAG = mag_interval[-1])*dndznow)\n",
      "/Users/amadeus/Documents/PhD/work/MagBias/modules/galaxy_hi_magnification.py:66: RuntimeWarning: invalid value encountered in less\n",
      "  if (S2N_tab < 0).any():\n"
     ]
    },
    {
     "name": "stdout",
     "output_type": "stream",
     "text": [
      "delta_ell = 62.94117647058823, fsky = 0.3625\n",
      "z from 0.7755075 to 1.2755075\n",
      "Magnitude cut is 27\n",
      "S2N in bin H1: 57.53482303977065\n",
      "--------------------\n",
      "ell table goes from 60.0 to 2200.0, with new delta ell 62.94117647058823 and old one 60\n",
      "Using interferometer mode.\n",
      "delta_ell = 62.94117647058823, fsky = 0.3625\n",
      "z from 1.2755075 to 1.7755075\n",
      "Magnitude cut is 27\n",
      "S2N in bin H2: 21.518281648531108\n",
      "--------------------\n",
      "ell table goes from 60.0 to 2200.0, with new delta ell 62.94117647058823 and old one 60\n",
      "Using interferometer mode.\n",
      "delta_ell = 62.94117647058823, fsky = 0.3625\n",
      "z from 1.7755075 to 2.2755075\n",
      "Magnitude cut is 27\n",
      "S2N in bin H3: 6.29764204439733\n",
      "--------------------\n",
      "ell table goes from 10.0 to 2200.0, with new delta ell 10.045871559633028 and old one 10\n",
      "Using single dish mode.\n"
     ]
    },
    {
     "name": "stderr",
     "output_type": "stream",
     "text": [
      "/Users/amadeus/Documents/PhD/work/MagBias/lf_photometric.py:190: IntegrationWarning: The integral is probably divergent, or slowly convergent.\n",
      "  clblue=[quad(lumfun,norm*mag_lim_blue[i],lnlum_max,args=(z[i],\"blue\"))[0] for i in range(len(z))]\n",
      "/Users/amadeus/Documents/PhD/work/MagBias/modules/galaxy_hi_magnification.py:81: RuntimeWarning: overflow encountered in true_divide\n",
      "  self.average(Weight, Weight, Ngal) * CSbg) / (self.average(CHImu, Weight, Ngal)**2)\n"
     ]
    },
    {
     "name": "stdout",
     "output_type": "stream",
     "text": [
      "delta_ell = 10.045871559633028, fsky = 0.40982397846163054\n",
      "z from 0.34127101 to 0.84127101\n",
      "Magnitude cut is 27\n",
      "S2N in bin SKA11: 16.02680744249129\n",
      "--------------------\n",
      "ell table goes from 10.0 to 2200.0, with new delta ell 10.045871559633028 and old one 10\n",
      "Using single dish mode.\n"
     ]
    },
    {
     "name": "stderr",
     "output_type": "stream",
     "text": [
      "/Users/amadeus/Documents/PhD/work/MagBias/magmod.py:1154: RuntimeWarning: overflow encountered in exp\n",
      "  oneover_W_ell = np.exp( ltab**2 * sigb**2) #beam smoothing function.\n"
     ]
    },
    {
     "name": "stdout",
     "output_type": "stream",
     "text": [
      "delta_ell = 10.045871559633028, fsky = 0.40982397846163054\n",
      "z from 0.84127101 to 1.34127101\n",
      "Magnitude cut is 27\n",
      "S2N in bin SKA12: 7.116068803313662\n",
      "--------------------\n",
      "ell table goes from 10.0 to 2200.0, with new delta ell 10.045871559633028 and old one 10\n",
      "Using single dish mode.\n",
      "delta_ell = 10.045871559633028, fsky = 0.40982397846163054\n",
      "z from 1.34127101 to 1.84127101\n",
      "Magnitude cut is 27\n",
      "S2N in bin SKA13: 2.6278849874200754\n",
      "--------------------\n",
      "ell table goes from 10.0 to 2200.0, with new delta ell 10.045871559633028 and old one 10\n",
      "Using single dish mode.\n",
      "delta_ell = 10.045871559633028, fsky = 0.40982397846163054\n",
      "z from 1.84127101 to 2.34127101\n",
      "Magnitude cut is 27\n",
      "S2N in bin SKA14: 0.714567295728947\n",
      "--------------------\n",
      "ell table goes from 10.0 to 2200.0, with new delta ell 10.045871559633028 and old one 10\n",
      "Using single dish mode.\n"
     ]
    }
   ],
   "source": [
    "for idx_fg_bin in range(len(redshifts)):\n",
    "    #     if idx_fg_bin != 0:\n",
    "    #         continue\n",
    "    redshift = redshifts[idx_fg_bin]\n",
    "    radio_experiment = radio_experiments[idx_fg_bin]\n",
    "\n",
    "    # load the configuration\n",
    "    gXhi_config = MagnificationConfig()\n",
    "\n",
    "    # set magnitude cut:\n",
    "#     gXhi_config.max_magnitude = mag_cuts[idx_fg_bin]\n",
    "\n",
    "    # decide on conservative forecasts (fg subtraction)\n",
    "    gXhi_config.conservative_fg_forecast = False\n",
    "\n",
    "    # load magnification experiment\n",
    "    gXhi_experiment = GalaxyHIExperiment(redshift, radio_experiment, LSST, gXhi_config)\n",
    "\n",
    "    # calculate weighted S2N\n",
    "    unityweight = False  # weight is always = 1\n",
    "    gXhi_magnification = GalaxyHIMagnification(gXhi_experiment, unityweight=unityweight)\n",
    "    S2N = gXhi_magnification.get_S2N_weighted()\n",
    "\n",
    "    print(\"delta_ell = {}, fsky = {}\".format(\n",
    "        gXhi_magnification.experiment.delta_ell, gXhi_magnification.experiment.fsky))\n",
    "    print(\"z from {} to {}\".format(\n",
    "        gXhi_magnification.experiment.lower_redshift, gXhi_magnification.experiment.upper_redshift))\n",
    "    print(\"Magnitude cut is {}\".format(gXhi_experiment.config_class.max_magnitude))\n",
    "    print(\"S2N in bin {}: {}\".format(fg_bin_labels[idx_fg_bin], S2N))\n",
    "    print(\"-\" * 20)\n"
   ]
  }
 ],
 "metadata": {
  "kernelspec": {
   "display_name": "Python 3",
   "language": "python",
   "name": "python3"
  },
  "language_info": {
   "codemirror_mode": {
    "name": "ipython",
    "version": 3
   },
   "file_extension": ".py",
   "mimetype": "text/x-python",
   "name": "python",
   "nbconvert_exporter": "python",
   "pygments_lexer": "ipython3",
   "version": "3.7.5"
  }
 },
 "nbformat": 4,
 "nbformat_minor": 2
}
