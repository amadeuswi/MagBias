{
 "cells": [
  {
   "cell_type": "markdown",
   "metadata": {},
   "source": [
    "# reproduce the yang zhang paper (1104.2487v2) on weighting for magnification bias"
   ]
  },
  {
   "cell_type": "markdown",
   "metadata": {},
   "source": [
    "We need a lot of averages for this, all with respect to magnitude, in particular we need:\n",
    "\n",
    "$\\alpha-1$\n",
    "$b_g$ and\n",
    "$W$\n",
    "\n",
    "$W$ itself requires the same averages."
   ]
  },
  {
   "cell_type": "code",
   "execution_count": 1,
   "metadata": {},
   "outputs": [
    {
     "name": "stdout",
     "output_type": "stream",
     "text": [
      "\n",
      "#$#$#$#$#$#$#$#$#$#$#$#$#$#$#$#$#$#$#$#$#$#$#$#$#$#$#$#$#$#$ \n",
      "Rescaling the galaxy number density by a factor of 104185.986576 to match the gold sample with 6330073646.61 total galaxies \n",
      "#$#$#$#$#$#$#$#$#$#$#$#$#$#$#$#$#$#$#$#$#$#$#$#$#$#$#$#$#$#$ \n",
      "\n"
     ]
    }
   ],
   "source": [
    "# from magmod import shotnoise, C_l_DM_CAMB, bgal_new, sg\n",
    "from magmod import *\n",
    "from magbias_experiments import SKA_zhangpen, CLAR_zhangpen, SKA1, SKA2, cb_hirax as hirax, hirax512, LSST, LSST_nosgfit, n\n",
    "\n",
    "MAXMAG = 27"
   ]
  },
  {
   "cell_type": "markdown",
   "metadata": {},
   "source": [
    "bgal_new has the same magnitude dependence as sg, ONLY ON THE BIN CENTER\n",
    "\n",
    "shotnoise for the magnitude bin is straight forward\n",
    "\n",
    "C_DM does not depend on magnitude"
   ]
  },
  {
   "cell_type": "code",
   "execution_count": 2,
   "metadata": {},
   "outputs": [],
   "source": [
    "def Ngal_in_bin(zmin, mtab_edges, galsurv, NINT = 2000, maxmag = MAXMAG, ZMAX = False):\n",
    "    \"\"\"mtab_edges is magnitude bin edges, \n",
    "    upper means higher number and fainter, thus more galaxies\"\"\"\n",
    "\n",
    "    if type(ZMAX)==bool and not ZMAX:\n",
    "        zmax = zbg_max(maxmag, galsurv)\n",
    "    elif type(ZMAX)==bool and ZMAX:\n",
    "        raise ValueError(\"ZMAX must either be False or float!\")\n",
    "    else:\n",
    "        zmax = ZMAX\n",
    "    z_integrate = np.linspace(zmin,zmax, NINT)\n",
    "\n",
    "\n",
    "    dNdztab = np.array([nofz(z_integrate, mmm) for mmm in mtab_edges])\n",
    "    dNdzdOm = np.trapz(dNdztab, z_integrate, axis = 1)\n",
    "    \n",
    "\n",
    "    \n",
    "    #now subtract lower from upper\n",
    "    Nz = (dNdzdOm[1:] - dNdzdOm[:-1]) * 4 * np.pi #already in rad!!!! and multiplying with all sky\n",
    "    Nz = np.atleast_1d(Nz)\n",
    "    if (Nz<0).any():\n",
    "#         print Nz\n",
    "        raise ValueError(\"cannot have negative number of galaxies, most likely we confused magnitudes here\")\n",
    "    return Nz\n",
    "\n",
    "\n",
    "\n",
    "\n",
    "\n",
    "def alphaminusone(z, maxmag, exp = LSST): #2(alpha-1) = 5sg-2\n",
    "    \"\"\"should take the mean redshift in the bin!\"\"\"\n",
    "    maxmag = np.atleast_1d(maxmag)\n",
    "    res = np.array( [ 5*sg(z, exp, mmm) - 2 for mmm in maxmag])\n",
    "    return res\n",
    "\n",
    "def average_no_W(A,B,N, VECTORINPUT = False):\n",
    "    \"\"\"A,B are the arrays to be averaged, same length as N which is the bg number density of galaxies\"\"\"\n",
    "    if VECTORINPUT:\n",
    "        sumaxis = 0\n",
    "    else:\n",
    "        sumaxis = 1\n",
    "    return np.sum(A*B*N, axis = sumaxis)/np.sum(N) #A and B are matrices, ell x mag\n",
    "\n",
    "\n",
    "\n",
    "def W_weight(C_DMtab, Cshottab, alpha_m_one_tab, bgal_tab, Ngal_tab, exp = LSST):\n",
    "    \"\"\"the optimal, scale dependent weight, eq. 10\n",
    "    input: background redshift z, magnitude bin center mag (later will be full array, now just needs to be inside the table used for bgal_tab),\n",
    "    array (for ell values) of dark matter power spectrum and the shot noise (number). \n",
    "    Then there are tables of alpha-1, bgal, Cshot and Ngal on a given magnitude binning (the binning itself not needed here)\"\"\"\n",
    "\n",
    "    DM_by_shot = np.outer(C_DMtab,1/Cshottab) #this need to have right shape, as C_DM is length ell and Cshot is length magtab\n",
    "    num = -average_no_W(alpha_m_one_tab, bgal_tab, Ngal_tab, VECTORINPUT = True) * DM_by_shot\n",
    "    denom = 1 + average_no_W(bgal_tab,bgal_tab, Ngal_tab, VECTORINPUT = True) * DM_by_shot\n",
    "    fac1 = num/denom\n",
    "\n",
    "    \n",
    "#     return np.outer( np.ones( len(C_DMtab)),alpha_m_one_tab) + bgal_tab * fac1 #outer product to get right shape\n",
    "    return alpha_m_one_tab + bgal_tab * fac1 #outer product to get right shape\n",
    "\n",
    "\n",
    "\n",
    "# def W_weight_singlebin(z, mag, C_DMtab, Cshottt, alpha_m_one_tab, bgal_tab, Ngal_tab, exp = LSST):\n",
    "#     \"\"\"the optimal, scale dependent weight, eq. 10\n",
    "#     input: mean background redshift z, magnitude bin center mag (later will be full array, now just needs to be inside the table used for bgal_tab),\n",
    "#     array (for ell values) of dark matter power spectrum and the shot noise (number). \n",
    "#     Then there are tables of alpha-1, bgal, Cshot and Ngal on a given magnitude binning (the binning itself not needed here)\"\"\"\n",
    "\n",
    "#     DM_by_shot = C_DMtab/Cshottt #this need to have right shape, as C_DM is length ell and Cshot is length magtab\n",
    "    \n",
    "#     num = -average_no_W(alpha_m_one_tab, bgal_tab, Ngal_tab) * DM_by_shot\n",
    "#     denom = 1 + average_no_W(bgal_tab,bgal_tab, Ngal_tab) * DM_by_shot\n",
    "#     fac1 = num/denom\n",
    "#     bgalll = bgal_new(z, mag, experiment = exp)\n",
    "#     almino = alphaminusone(z, mag, exp = exp)\n",
    "    \n",
    "    \n",
    "#     print bgalll, \"bg\"\n",
    "#     print almino, \"alpha minus one\"\n",
    "#     print Cshottt, \"Cshot\"\n",
    "    \n",
    "#     return almino + fac1 * bgalll\n",
    "    \n",
    "    \n",
    "\n",
    "def S2N_weighted(ltab, deltaell, fsky, Cfg, CSfg, CSbg, CHImu, biasg, Weight, Ngal):\n",
    "    num = (2*ltab + 1) * deltaell * fsky\n",
    "    denom = 1 + (Cfg + CSfg) * ( \n",
    "        average_no_W(biasg, Weight, Ngal)**2 * C_DM_tab + \n",
    "#         average_no_W(Weight**2, CSbg, Ngal)) / (average_no_W(CHImu, Weight, Ngal)**2) #I put the shot noise into the average\n",
    "        average_no_W(Weight, Weight, Ngal) * CSbg) / (average_no_W(CHImu, Weight, Ngal)**2)\n",
    "    frac = num/denom\n",
    "    res = np.sum(frac, axis = 0)\n",
    "    return np.sqrt(res)"
   ]
  },
  {
   "cell_type": "markdown",
   "metadata": {},
   "source": [
    "testing things:"
   ]
  },
  {
   "cell_type": "code",
   "execution_count": 21,
   "metadata": {},
   "outputs": [
    {
     "name": "stdout",
     "output_type": "stream",
     "text": [
      "[25.   25.25 25.5  25.75 26.   26.25 26.5  26.75 27.  ]\n",
      "WARNING: lminSKA is set to large value 50!\n"
     ]
    }
   ],
   "source": [
    "# B1 1st bin:\n",
    "zflow = 0.34127101; zfhigh = 0.84127101; zfmean = (zfhigh+zflow)/2; delta_zf = (zfhigh-zflow)/2\n",
    "\n",
    "#background z:\n",
    "buffer_z = 0.1; \n",
    "dzb = 0.1\n",
    "zlow_LSST = zfhigh + buffer_z\n",
    "\n",
    "zmax_LSST = LSST[\"zmax\"]\n",
    "\n",
    "#zhigh should not be needed\n",
    "\n",
    "#small mag range:\n",
    "magmin = 25; magmax = 27; \n",
    "# Nmag = 2\n",
    "Nmag = 8\n",
    "# Nmag = 30\n",
    "magtab_edges = np.linspace(magmin, magmax, Nmag+1)\n",
    "print magtab_edges\n",
    "magtab_centers = (magtab_edges[1:] + magtab_edges[:-1])/2\n",
    "\n",
    "mag_test = magtab_centers[1]\n",
    "magmin_test = magtab_edges[1]; magmax_test = magtab_edges[2]\n",
    "\n",
    "\n",
    "#small ell range\n",
    "SKAarea = SKA['S_area']\n",
    "lminSKA = np.amax([10,np.int(np.around(2*pi/np.sqrt(SKAarea)))]) #never use lmin <20\n",
    "# lminSKA = 200\n",
    "lminSKA*=5\n",
    "print \"WARNING: lminSKA is set to large value {}!\".format(lminSKA)\n",
    "lend = 2200;\n",
    "ltabSKA = np.arange(lminSKA, lend + lminSKA, lminSKA)\n"
   ]
  },
  {
   "cell_type": "markdown",
   "metadata": {},
   "source": [
    "We split the background bin into fine bins of dz = 0.1 and add their S2N up in quadrature."
   ]
  },
  {
   "cell_type": "code",
   "execution_count": 22,
   "metadata": {},
   "outputs": [
    {
     "name": "stdout",
     "output_type": "stream",
     "text": [
      "[0.94127101 0.99141896 1.04156691 1.09171486 1.14186281 1.19201075\n",
      " 1.2421587  1.29230665 1.3424546  1.39260255 1.4427505  1.49289845\n",
      " 1.5430464  1.59319435 1.6433423  1.69349024 1.74363819 1.79378614\n",
      " 1.84393409 1.89408204 1.94422999 1.99437794 2.04452589 2.09467384\n",
      " 2.14482179 2.19496973 2.24511768 2.29526563 2.34541358 2.39556153\n",
      " 2.44570948 2.49585743 2.54600538 2.59615333 2.64630128 2.69644922\n",
      " 2.74659717 2.79674512 2.84689307 2.89704102 2.94718897 2.99733692\n",
      " 3.04748487 3.09763282 3.14778077 3.19792871 3.24807666 3.29822461\n",
      " 3.34837256 3.39852051 3.44866846 3.49881641 3.54896436 3.59911231\n",
      " 3.64926026 3.6994082  3.74955615 3.7997041  3.84985205 3.9       ] 0.05014794898305085\n"
     ]
    }
   ],
   "source": [
    "zb_tab, zb_step = np.linspace(zlow_LSST, zmax_LSST, np.int((zmax_LSST-zlow_LSST)/dzb+1), retstep = True)\n",
    "print zb_tab, zb_step"
   ]
  },
  {
   "cell_type": "code",
   "execution_count": 23,
   "metadata": {},
   "outputs": [],
   "source": [
    "alphaminusones = alphaminusone(zb_tab+zb_step/2, magtab_centers) #zb_step added to get mean redshift. shape (mag X ell)"
   ]
  },
  {
   "cell_type": "code",
   "execution_count": 24,
   "metadata": {},
   "outputs": [
    {
     "name": "stdout",
     "output_type": "stream",
     "text": [
      "0.9663449844915255 [25.125 25.375 25.625 25.875 26.125 26.375 26.625 26.875]\n",
      "delta ell = 50\n",
      "1.0164929334745763 [25.125 25.375 25.625 25.875 26.125 26.375 26.625 26.875]\n",
      "delta ell = 50\n",
      "1.066640882457627 [25.125 25.375 25.625 25.875 26.125 26.375 26.625 26.875]\n",
      "delta ell = 50\n",
      "1.116788831440678 [25.125 25.375 25.625 25.875 26.125 26.375 26.625 26.875]\n",
      "delta ell = 50\n",
      "1.166936780423729 [25.125 25.375 25.625 25.875 26.125 26.375 26.625 26.875]\n",
      "delta ell = 50\n",
      "1.2170847294067797 [25.125 25.375 25.625 25.875 26.125 26.375 26.625 26.875]\n",
      "delta ell = 50\n",
      "1.2672326783898304 [25.125 25.375 25.625 25.875 26.125 26.375 26.625 26.875]\n",
      "delta ell = 50\n",
      "1.3173806273728814 [25.125 25.375 25.625 25.875 26.125 26.375 26.625 26.875]\n",
      "delta ell = 50\n",
      "1.3675285763559322 [25.125 25.375 25.625 25.875 26.125 26.375 26.625 26.875]\n",
      "delta ell = 50\n",
      "1.4176765253389831 [25.125 25.375 25.625 25.875 26.125 26.375 26.625 26.875]\n",
      "delta ell = 50\n",
      "1.467824474322034 [25.125 25.375 25.625 25.875 26.125 26.375 26.625 26.875]\n",
      "delta ell = 50\n",
      "1.5179724233050849 [25.125 25.375 25.625 25.875 26.125 26.375 26.625 26.875]\n",
      "delta ell = 50\n",
      "1.5681203722881356 [25.125 25.375 25.625 25.875 26.125 26.375 26.625 26.875]\n",
      "delta ell = 50\n",
      "1.6182683212711864 [25.125 25.375 25.625 25.875 26.125 26.375 26.625 26.875]\n",
      "delta ell = 50\n",
      "1.6684162702542373 [25.125 25.375 25.625 25.875 26.125 26.375 26.625 26.875]\n",
      "delta ell = 50\n",
      "1.718564219237288 [25.125 25.375 25.625 25.875 26.125 26.375 26.625 26.875]\n",
      "delta ell = 50\n",
      "1.768712168220339 [25.125 25.375 25.625 25.875 26.125 26.375 26.625 26.875]\n",
      "delta ell = 50\n",
      "1.8188601172033898 [25.125 25.375 25.625 25.875 26.125 26.375 26.625 26.875]\n",
      "delta ell = 50\n",
      "1.8690080661864408 [25.125 25.375 25.625 25.875 26.125 26.375 26.625 26.875]\n",
      "delta ell = 50\n",
      "1.9191560151694915 [25.125 25.375 25.625 25.875 26.125 26.375 26.625 26.875]\n",
      "delta ell = 50\n",
      "1.9693039641525425 [25.125 25.375 25.625 25.875 26.125 26.375 26.625 26.875]\n",
      "delta ell = 50\n",
      "2.019451913135593 [25.125 25.375 25.625 25.875 26.125 26.375 26.625 26.875]\n",
      "delta ell = 50\n",
      "2.069599862118644 [25.125 25.375 25.625 25.875 26.125 26.375 26.625 26.875]\n",
      "delta ell = 50\n",
      "2.1197478111016945 [25.125 25.375 25.625 25.875 26.125 26.375 26.625 26.875]\n",
      "delta ell = 50\n",
      "2.1698957600847457 [25.125 25.375 25.625 25.875 26.125 26.375 26.625 26.875]\n",
      "delta ell = 50\n",
      "2.220043709067797 [25.125 25.375 25.625 25.875 26.125 26.375 26.625 26.875]\n",
      "delta ell = 50\n",
      "2.270191658050847 [25.125 25.375 25.625 25.875 26.125 26.375 26.625 26.875]\n",
      "delta ell = 50\n",
      "2.3203396070338984 [25.125 25.375 25.625 25.875 26.125 26.375 26.625 26.875]\n",
      "delta ell = 50\n",
      "2.370487556016949 [25.125 25.375 25.625 25.875 26.125 26.375 26.625 26.875]\n",
      "delta ell = 50\n",
      "2.420635505 [25.125 25.375 25.625 25.875 26.125 26.375 26.625 26.875]\n",
      "delta ell = 50\n",
      "2.470783453983051 [25.125 25.375 25.625 25.875 26.125 26.375 26.625 26.875]\n",
      "delta ell = 50\n",
      "2.5209314029661014 [25.125 25.375 25.625 25.875 26.125 26.375 26.625 26.875]\n",
      "delta ell = 50\n",
      "2.5710793519491526 [25.125 25.375 25.625 25.875 26.125 26.375 26.625 26.875]\n",
      "delta ell = 50\n",
      "2.6212273009322034 [25.125 25.375 25.625 25.875 26.125 26.375 26.625 26.875]\n",
      "delta ell = 50\n",
      "2.671375249915254 [25.125 25.375 25.625 25.875 26.125 26.375 26.625 26.875]\n",
      "delta ell = 50\n",
      "2.7215231988983053 [25.125 25.375 25.625 25.875 26.125 26.375 26.625 26.875]\n",
      "delta ell = 50\n",
      "2.7716711478813556 [25.125 25.375 25.625 25.875 26.125 26.375 26.625 26.875]\n",
      "delta ell = 50\n",
      "2.821819096864407 [25.125 25.375 25.625 25.875 26.125 26.375 26.625 26.875]\n",
      "delta ell = 50\n",
      "2.871967045847458 [25.125 25.375 25.625 25.875 26.125 26.375 26.625 26.875]\n",
      "delta ell = 50\n",
      "2.9221149948305083 [25.125 25.375 25.625 25.875 26.125 26.375 26.625 26.875]\n",
      "delta ell = 50\n"
     ]
    },
    {
     "name": "stderr",
     "output_type": "stream",
     "text": [
      "/opt/local/Library/Frameworks/Python.framework/Versions/2.7/lib/python2.7/site-packages/ipykernel_launcher.py:92: RuntimeWarning: overflow encountered in true_divide\n"
     ]
    },
    {
     "name": "stdout",
     "output_type": "stream",
     "text": [
      "2.9722629438135595 [25.125 25.375 25.625 25.875 26.125 26.375 26.625 26.875]\n",
      "delta ell = 50\n",
      "3.02241089279661 [25.125 25.375 25.625 25.875 26.125 26.375 26.625 26.875]\n",
      "delta ell = 50\n",
      "3.072558841779661 [25.125 25.375 25.625 25.875 26.125 26.375 26.625 26.875]\n",
      "delta ell = 50\n",
      "3.1227067907627117 [25.125 25.375 25.625 25.875 26.125 26.375 26.625 26.875]\n"
     ]
    },
    {
     "name": "stderr",
     "output_type": "stream",
     "text": [
      "/opt/local/Library/Frameworks/Python.framework/Versions/2.7/lib/python2.7/site-packages/ipykernel_launcher.py:43: RuntimeWarning: overflow encountered in multiply\n",
      "/opt/local/Library/Frameworks/Python.framework/Versions/2.7/lib/python2.7/site-packages/ipykernel_launcher.py:56: RuntimeWarning: invalid value encountered in true_divide\n"
     ]
    },
    {
     "name": "stdout",
     "output_type": "stream",
     "text": [
      "delta ell = 50\n"
     ]
    }
   ],
   "source": [
    "S2Ntab = []\n",
    "\n",
    "NINTEGRATE = 5 #coarse because z bins are small\n",
    "for iz in range(len(zb_tab)-1):#all but the last entry\n",
    "\n",
    "    zlow = zb_tab[iz]\n",
    "    zhigh = zb_tab[iz+1]\n",
    "    zbmean = (zlow + zhigh)/2\n",
    "\n",
    "    alphaminusone_tab = alphaminusones[:,iz]\n",
    "\n",
    "    C_DM_tab = C_l_DM_CAMB(ltabSKA, zlow, galsurv = LSST, ZMAX = zhigh)\n",
    "\n",
    "    Cshot = shotnoise(zlow, LSST, MAXMAG, ZMAX = zhigh, NINT = NINTEGRATE) #coarse integration okay because we use thin redshift bin \n",
    "\n",
    "    print zbmean, magtab_centers\n",
    "    bias_g_tab = np.array([bgal_new(zbmean, mmm) for mmm in magtab_centers])\n",
    "    N_g_tab = Ngal_in_bin(zlow,magtab_edges, LSST, ZMAX = zhigh, NINT = NINTEGRATE) #takes the lower redshift edge\n",
    "\n",
    "\n",
    "    Weight = W_weight(C_DM_tab, Cshot, alphaminusone_tab, bias_g_tab, N_g_tab)\n",
    "\n",
    "    C_HIHI_tab = C_l_HIHI_CAMB(ltabSKA, zflow, zfhigh)\n",
    "    C_noise_fg_tab = noise_cls_single_dish(ltabSKA, ztonu21(zfmean), SKA1, 256) * np.ones( len(ltabSKA) )\n",
    "    C_HIxmag_tab = np.array( [Cl_HIxmag_CAMB(ltabSKA, zfmean, delta_zf, zlow, MAXMAG = mmm, ZMAX = zhigh, NINT_gkernel = NINTEGRATE)\n",
    "                              for mmm in magtab_centers]).T #transpose to match shape\n",
    "\n",
    "    print \"delta ell = {}\".format(lminSKA)\n",
    "    fsky = SKA1[\"S_area\"] / (4*np.pi)\n",
    "\n",
    "    S2N = S2N_weighted(ltabSKA, lminSKA, fsky, C_HIHI_tab, C_noise_fg_tab, Cshot, C_HIxmag_tab, bias_g_tab, Weight, N_g_tab)\n",
    "    S2Ntab.append(S2N)\n",
    "    if np.isnan(S2N):\n",
    "        break #no more S2N to get"
   ]
  },
  {
   "cell_type": "code",
   "execution_count": 25,
   "metadata": {},
   "outputs": [
    {
     "name": "stdout",
     "output_type": "stream",
     "text": [
      "[ 6.13369731  7.26570455  8.40554358  9.53017312 10.62590181 11.6847965\n",
      " 12.69902806 13.65612705 14.53731958 15.31649665 15.96130497 16.43484986\n",
      " 16.69846281 16.71540437 16.45543045 15.90011398 15.04742787 13.91532551\n",
      " 12.54353811 10.99330168  9.26553096  7.51445369  5.85801038  4.28685553\n",
      "  2.99208299  1.92301393  1.13573413  0.67735247  0.41463191  0.39702451\n",
      "  0.49395804  0.67302763  0.90941204  1.08582277  1.18875842  1.19372603\n",
      "  1.08279181  0.92443135  0.72834913  0.52464263  0.36004074  0.23363477\n",
      "  0.14232007         nan]\n",
      "61.79236181849793\n"
     ]
    }
   ],
   "source": [
    "S2Ntab = np.array(S2Ntab)\n",
    "print S2Ntab\n",
    "print np.sqrt(np.nansum(S2Ntab**2))"
   ]
  },
  {
   "cell_type": "markdown",
   "metadata": {},
   "source": [
    "This is a massive improvement of S2N when compared to the optimization approach, about a factor of 10!\n",
    "\n",
    "\n",
    "-- we must keep in mind that we fixed (alpha - 1)bg ourselves, and this has a big impact here too."
   ]
  },
  {
   "cell_type": "code",
   "execution_count": null,
   "metadata": {},
   "outputs": [],
   "source": []
  }
 ],
 "metadata": {
  "kernelspec": {
   "display_name": "Python 2",
   "language": "python",
   "name": "python2"
  },
  "language_info": {
   "codemirror_mode": {
    "name": "ipython",
    "version": 2
   },
   "file_extension": ".py",
   "mimetype": "text/x-python",
   "name": "python",
   "nbconvert_exporter": "python",
   "pygments_lexer": "ipython2",
   "version": "2.7.16"
  }
 },
 "nbformat": 4,
 "nbformat_minor": 2
}
