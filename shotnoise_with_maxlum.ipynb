{
 "cells": [
  {
   "cell_type": "code",
   "execution_count": 1,
   "metadata": {},
   "outputs": [
    {
     "name": "stdout",
     "output_type": "stream",
     "text": [
      "sigma_8_BBKS = 0.833959881058\n"
     ]
    }
   ],
   "source": [
    "#little notebook to compare shot noise from david's ultra large scales paper, and the table we use for LSST\n",
    "\n",
    "%matplotlib inline\n",
    "\n",
    "from __future__ import division\n",
    "import os\n",
    "import sys\n",
    "from scipy import integrate, optimize\n",
    "from scipy.interpolate import interp2d, interp1d\n",
    "\n",
    "import numpy as np\n",
    "from numpy import pi,sin,cos,tan,e,arctan,arcsin,arccos,sqrt\n",
    "from numpy.random import randn\n",
    "import matplotlib\n",
    "import matplotlib.pyplot as P\n",
    "from time import clock\n",
    "\n",
    "\n",
    "matplotlib.rcParams['figure.figsize'] = (7, 5)\n",
    "P.rcParams['text.usetex'] = True  # not really needed\n",
    "P.rcParams['text.latex.preamble'] = [r'\\usepackage{amsmath}'] #for \\text command\n",
    "P.rcParams[\"font.size\"] = 24\n",
    "P.rc('xtick', labelsize=18) \n",
    "P.rc('ytick', labelsize=18)\n",
    "# P.rc('xtick', labelsize=20) \n",
    "# P.rc('ytick', labelsize=20)\n",
    "np.set_printoptions(threshold=np.nan)\n",
    "\n",
    "\n",
    "from magmod import *\n",
    "# from magbias_experiments import SKA_zhangpen, CLAR_zhangpen, SKA, cb_hirax as hirax, hirax512, LSST, LSST_nosgfit, n\n",
    "from lf_photometric import nz_distribution\n",
    "from magbias_experiments import LSST"
   ]
  },
  {
   "cell_type": "code",
   "execution_count": 2,
   "metadata": {},
   "outputs": [],
   "source": [
    "#background redshift for galaxy sample:\n",
    "ztab = np.linspace(0.4,2.0, 9) #crude array to compare both N(z) functions...\n",
    "dz = 0.2\n",
    "\n",
    "NINT = 200\n",
    "\n",
    "zmintab = ztab - dz/2\n",
    "zmaxtab = ztab + dz/2\n",
    "\n",
    "#calculate the N(z) using the .txt file for best max lum\n",
    "zztab, dNdztab = np.loadtxt(LSST[\"dNdz\"], unpack = True)\n",
    "\n",
    "#using function from David Alonso:\n",
    "\n",
    "dNdzinterp = interp1d(zztab, dNdztab, kind='linear', bounds_error=False)\n",
    "\n",
    "Nznew = np.zeros(len(ztab))\n",
    "Nz = np.zeros(len(ztab))\n",
    "\n",
    "for i in range(len(ztab)):\n",
    "    z = ztab[i]\n",
    "    zmin = zmintab[i]\n",
    "    zmax = zmaxtab[i]\n",
    "    z_integrate = np.linspace(zmin,zmax, NINT)\n",
    "    dNdztabnew = np.array([nz_distribution(zzz, 27, \"all\")[0] for zzz in z_integrate])\n",
    "\n",
    "\n",
    "    dNzdOm = np.trapz(dNdzinterp(z_integrate), z_integrate)\n",
    "    dNzdOmnew = np.trapz(dNdztabnew, z_integrate)\n",
    "\n",
    "    Nznew[i] =  dNzdOmnew / (np.pi/180)**2 * 4 * np.pi  #changing degrees to rad, and multiplying with survey area\n",
    "    Nz[i] = dNzdOm / (np.pi/180)**2 * 4 * np.pi  #changing degrees to rad, and multiplying with survey area"
   ]
  },
  {
   "cell_type": "code",
   "execution_count": 3,
   "metadata": {},
   "outputs": [
    {
     "name": "stdout",
     "output_type": "stream",
     "text": [
      "[0.96785518 0.96806338 0.96827762 0.96848696 0.96882916 0.96934545\n",
      " 0.96969609 0.9700031  0.97042373]\n"
     ]
    }
   ],
   "source": [
    "print (Nz - Nznew)/Nz"
   ]
  },
  {
   "cell_type": "code",
   "execution_count": 4,
   "metadata": {},
   "outputs": [
    {
     "data": {
      "text/plain": [
       "Text(0.5,1,'our galaxy numbers agree pretty well:')"
      ]
     },
     "execution_count": 4,
     "metadata": {},
     "output_type": "execute_result"
    },
    {
     "data": {
      "image/png": "[encoded data removed]",
      "text/plain": [
       "<Figure size 504x360 with 1 Axes>"
      ]
     },
     "metadata": {
      "needs_background": "light"
     },
     "output_type": "display_data"
    }
   ],
   "source": [
    "fig = P.figure(); ax = fig.add_subplot(111);\n",
    "ax.plot(ztab, (Nz-Nznew)/Nz)# / (np.pi/180)**2 )\n",
    "# ax.plot(ztab, Nznew, ls = \":\") #max rmax for LSST\n",
    "\n",
    "ax.set_ylim((0.96,.98))\n",
    "ax.set_title(\"our galaxy numbers agree pretty well:\")"
   ]
  },
  {
   "cell_type": "code",
   "execution_count": 5,
   "metadata": {},
   "outputs": [
    {
     "name": "stdout",
     "output_type": "stream",
     "text": [
      "[4.96657818e+06 6.34865967e+06 8.07327331e+06 1.02000459e+07\n",
      " 1.27845435e+07 1.58744025e+07 1.95078032e+07 2.37144213e+07\n",
      " 2.85180906e+07 3.39400998e+07 4.00022646e+07 4.67293340e+07\n",
      " 5.41506475e+07 6.23011652e+07 7.12220603e+07 8.09610512e+07\n",
      " 9.15726106e+07 1.03118142e+08 1.15666176e+08 1.29292625e+08]\n"
     ]
    }
   ],
   "source": [
    "zz = 1.\n",
    "zint = np.linspace(0,zz,100)\n",
    "magtab = np.linspace(22,27,20)\n",
    "\n",
    "Ntab = np.zeros(len(magtab))\n",
    "for i in range(len(magtab)):\n",
    "    mm = magtab[i]\n",
    "    ntab = np.array( [nz_distribution(zzz, mm, \"all\")[0] for zzz in zint])\n",
    "    Ntab[i] = np.trapz(ntab, zint) / (np.pi/180)**2 * 4 * np.pi\n",
    "print Ntab"
   ]
  },
  {
   "cell_type": "code",
   "execution_count": 6,
   "metadata": {},
   "outputs": [
    {
     "name": "stdout",
     "output_type": "stream",
     "text": [
      "We use all sky for calculating N(z)\n",
      "shot noise for LSST!\n",
      "We use all sky for calculating N(z)\n",
      "shot noise for LSST!\n",
      "We use all sky for calculating N(z)\n",
      "shot noise for LSST!\n",
      "We use all sky for calculating N(z)\n",
      "shot noise for LSST!\n",
      "We use all sky for calculating N(z)\n",
      "shot noise for LSST!\n",
      "We use all sky for calculating N(z)\n",
      "shot noise for LSST!\n",
      "We use all sky for calculating N(z)\n",
      "shot noise for LSST!\n",
      "We use all sky for calculating N(z)\n",
      "shot noise for LSST!\n",
      "We use all sky for calculating N(z)\n",
      "shot noise for LSST!\n",
      "We use all sky for calculating N(z)\n",
      "shot noise for LSST!\n",
      "We use all sky for calculating N(z)\n",
      "shot noise for LSST!\n",
      "We use all sky for calculating N(z)\n",
      "shot noise for LSST!\n",
      "We use all sky for calculating N(z)\n",
      "shot noise for LSST!\n",
      "We use all sky for calculating N(z)\n",
      "shot noise for LSST!\n",
      "We use all sky for calculating N(z)\n",
      "shot noise for LSST!\n",
      "We use all sky for calculating N(z)\n",
      "shot noise for LSST!\n",
      "We use all sky for calculating N(z)\n",
      "shot noise for LSST!\n",
      "We use all sky for calculating N(z)\n",
      "shot noise for LSST!\n",
      "We use all sky for calculating N(z)\n",
      "shot noise for LSST!\n",
      "We use all sky for calculating N(z)\n",
      "shot noise for LSST!\n"
     ]
    }
   ],
   "source": [
    "shotnoisetab = np.array([shotnoise(0.5, 0.499, LSST, MAXMAG =mm) for mm in magtab])"
   ]
  },
  {
   "cell_type": "code",
   "execution_count": 7,
   "metadata": {},
   "outputs": [
    {
     "data": {
      "text/plain": [
       "Text(0,0.5,'$N_\\\\mathrm{shot}$')"
      ]
     },
     "execution_count": 7,
     "metadata": {},
     "output_type": "execute_result"
    },
    {
     "data": {
      "image/png": "[encoded data removed]",
      "text/plain": [
       "<Figure size 504x360 with 1 Axes>"
      ]
     },
     "metadata": {
      "needs_background": "light"
     },
     "output_type": "display_data"
    }
   ],
   "source": [
    "fig = P.figure(); ax= fig.add_subplot(111);\n",
    "ax.plot(magtab, 4*np.pi/Ntab)\n",
    "ax.plot(magtab, shotnoisetab, ls = \"--\")\n",
    "\n",
    "ax.set_xlabel(\"$m_*$\")\n",
    "ax.set_ylabel(\"$N_\\mathrm{shot}$\")"
   ]
  },
  {
   "cell_type": "code",
   "execution_count": null,
   "metadata": {},
   "outputs": [],
   "source": []
  }
 ],
 "metadata": {
  "kernelspec": {
   "display_name": "Python 2",
   "language": "python",
   "name": "python2"
  },
  "language_info": {
   "codemirror_mode": {
    "name": "ipython",
    "version": 2
   },
   "file_extension": ".py",
   "mimetype": "text/x-python",
   "name": "python",
   "nbconvert_exporter": "python",
   "pygments_lexer": "ipython2",
   "version": "2.7.15"
  }
 },
 "nbformat": 4,
 "nbformat_minor": 2
}
