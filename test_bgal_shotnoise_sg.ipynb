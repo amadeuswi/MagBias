{
 "cells": [
  {
   "cell_type": "code",
   "execution_count": 1,
   "metadata": {},
   "outputs": [],
   "source": [
    "#testing galaxy related functions\n",
    "#for bgal, shotnoise and magnification bias"
   ]
  },
  {
   "cell_type": "code",
   "execution_count": 1,
   "metadata": {},
   "outputs": [
    {
     "name": "stdout",
     "output_type": "stream",
     "text": [
      "\n",
      "#$#$#$#$#$#$#$#$#$#$#$#$#$#$#$#$#$#$#$#$#$#$#$#$#$#$#$#$#$#$ \n",
      "Rescaling the galaxy number density by a factor of 104185.986576 to match the gold sample with 6330073646.61 total galaxies \n",
      "#$#$#$#$#$#$#$#$#$#$#$#$#$#$#$#$#$#$#$#$#$#$#$#$#$#$#$#$#$#$ \n",
      "\n"
     ]
    }
   ],
   "source": [
    "%matplotlib inline\n",
    "\n",
    "from __future__ import division\n",
    "import os\n",
    "import sys\n",
    "from scipy import integrate, optimize\n",
    "from scipy.interpolate import interp2d, interp1d\n",
    "\n",
    "import numpy as np\n",
    "from numpy import pi,sin,cos,tan,e,arctan,arcsin,arccos,sqrt\n",
    "from numpy.random import randn\n",
    "import matplotlib\n",
    "import matplotlib.pyplot as P\n",
    "from time import clock\n",
    "\n",
    "\n",
    "matplotlib.rcParams['figure.figsize'] = (7, 5)\n",
    "P.rcParams['text.usetex'] = True  # not really needed\n",
    "P.rcParams['text.latex.preamble'] = [r'\\usepackage{amsmath}'] #for \\text command\n",
    "P.rcParams[\"font.size\"] = 24\n",
    "P.rc('xtick', labelsize=18) \n",
    "P.rc('ytick', labelsize=18)\n",
    "# P.rc('xtick', labelsize=20) \n",
    "# P.rc('ytick', labelsize=20)\n",
    "np.set_printoptions(threshold=np.nan)\n",
    "\n",
    "from mpl_toolkits.mplot3d import axes3d\n",
    "\n",
    "\n",
    "\n",
    "# sys.path.append(\"/Users/amadeus/Documents/10.semester/ma\")\n",
    "# from magmod import P_cdm_BBKS, D_z, rCom, H_0, c, H_z, E_z, Omega_m, W_tophat, T_obs, nutoz21, h\n",
    "# from magmod import P_cdm_BBKS, D_z, rCom, H_0, c, H_z, E_z, Omega_m, T_obs, nutoz21, h\n",
    "from magmod import bgal_new, sg, bgal, shotnoise, nofz, zbg_max\n",
    "from magbias_experiments import LSST, SKA2\n"
   ]
  },
  {
   "cell_type": "code",
   "execution_count": 2,
   "metadata": {},
   "outputs": [],
   "source": [
    "# shotnoise(z, dz, galsurv, MAXMAG = False, NINT = 2000)"
   ]
  },
  {
   "cell_type": "code",
   "execution_count": 3,
   "metadata": {},
   "outputs": [],
   "source": [
    "ztab = np.linspace(0.01, 3.9, 200)\n",
    "mtab = np.array([23,25,27])"
   ]
  },
  {
   "cell_type": "code",
   "execution_count": 13,
   "metadata": {
    "scrolled": true
   },
   "outputs": [
    {
     "name": "stdout",
     "output_type": "stream",
     "text": [
      "Using non default rmax = 27 for experiment\n",
      "Using non default rmax = 27 for experiment\n",
      "Using non default rmax = 27 for experiment\n",
      "Using non default rmax = 27 for experiment\n",
      "Using non default rmax = 27 for experiment\n",
      "Using non default rmax = 27 for experiment\n",
      "Using non default rmax = 27 for experiment\n",
      "Using non default rmax = 27 for experiment\n",
      "Using non default rmax = 27 for experiment\n",
      "Using non default rmax = 27 for experiment\n",
      "Using non default rmax = 27 for experiment\n",
      "Using non default rmax = 27 for experiment\n",
      "Using non default rmax = 27 for experiment\n",
      "Using non default rmax = 27 for experiment\n",
      "Using non default rmax = 27 for experiment\n",
      "Using non default rmax = 27 for experiment\n",
      "Using non default rmax = 27 for experiment\n",
      "Using non default rmax = 27 for experiment\n",
      "Using non default rmax = 27 for experiment\n",
      "Using non default rmax = 27 for experiment\n",
      "Using non default rmax = 27 for experiment\n",
      "Using non default rmax = 27 for experiment\n",
      "Using non default rmax = 27 for experiment\n",
      "Using non default rmax = 27 for experiment\n",
      "Using non default rmax = 27 for experiment\n",
      "Using non default rmax = 27 for experiment\n",
      "Using non default rmax = 27 for experiment\n",
      "Using non default rmax = 27 for experiment\n",
      "Using non default rmax = 27 for experiment\n",
      "Using non default rmax = 27 for experiment\n",
      "Using non default rmax = 27 for experiment\n",
      "Using non default rmax = 27 for experiment\n",
      "Using non default rmax = 27 for experiment\n",
      "Using non default rmax = 27 for experiment\n",
      "Using non default rmax = 27 for experiment\n",
      "Using non default rmax = 27 for experiment\n",
      "Using non default rmax = 27 for experiment\n",
      "Using non default rmax = 27 for experiment\n",
      "Using non default rmax = 27 for experiment\n",
      "Using non default rmax = 27 for experiment\n",
      "Using non default rmax = 27 for experiment\n",
      "Using non default rmax = 27 for experiment\n",
      "Using non default rmax = 27 for experiment\n",
      "Using non default rmax = 27 for experiment\n",
      "Using non default rmax = 27 for experiment\n",
      "Using non default rmax = 27 for experiment\n",
      "Using non default rmax = 27 for experiment\n",
      "Using non default rmax = 27 for experiment\n",
      "Using non default rmax = 27 for experiment\n",
      "Using non default rmax = 27 for experiment\n",
      "Using non default rmax = 27 for experiment\n",
      "Using non default rmax = 27 for experiment\n",
      "Using non default rmax = 27 for experiment\n",
      "Using non default rmax = 27 for experiment\n",
      "Using non default rmax = 27 for experiment\n",
      "Using non default rmax = 27 for experiment\n",
      "Using non default rmax = 27 for experiment\n",
      "Using non default rmax = 27 for experiment\n",
      "Using non default rmax = 27 for experiment\n",
      "Using non default rmax = 27 for experiment\n",
      "Using non default rmax = 27 for experiment\n",
      "Using non default rmax = 27 for experiment\n",
      "Using non default rmax = 27 for experiment\n",
      "Using non default rmax = 27 for experiment\n",
      "Using non default rmax = 27 for experiment\n",
      "Using non default rmax = 27 for experiment\n",
      "Using non default rmax = 27 for experiment\n",
      "Using non default rmax = 27 for experiment\n",
      "Using non default rmax = 27 for experiment\n",
      "Using non default rmax = 27 for experiment\n",
      "Using non default rmax = 27 for experiment\n",
      "Using non default rmax = 27 for experiment\n",
      "Using non default rmax = 27 for experiment\n",
      "Using non default rmax = 27 for experiment\n",
      "Using non default rmax = 27 for experiment\n",
      "Using non default rmax = 27 for experiment\n",
      "Using non default rmax = 27 for experiment\n",
      "Using non default rmax = 27 for experiment\n",
      "Using non default rmax = 27 for experiment\n",
      "Using non default rmax = 27 for experiment\n",
      "Using non default rmax = 27 for experiment\n",
      "Using non default rmax = 27 for experiment\n",
      "Using non default rmax = 27 for experiment\n",
      "Using non default rmax = 27 for experiment\n",
      "Using non default rmax = 27 for experiment\n",
      "Using non default rmax = 27 for experiment\n",
      "Using non default rmax = 27 for experiment\n",
      "Using non default rmax = 27 for experiment\n",
      "Using non default rmax = 27 for experiment\n",
      "Using non default rmax = 27 for experiment\n",
      "Using non default rmax = 27 for experiment\n",
      "Using non default rmax = 27 for experiment\n",
      "Using non default rmax = 27 for experiment\n",
      "Using non default rmax = 27 for experiment\n",
      "Using non default rmax = 27 for experiment\n",
      "Using non default rmax = 27 for experiment\n",
      "Using non default rmax = 27 for experiment\n",
      "Using non default rmax = 27 for experiment\n",
      "Using non default rmax = 27 for experiment\n",
      "Using non default rmax = 27 for experiment\n",
      "Using non default rmax = 27 for experiment\n",
      "Using non default rmax = 27 for experiment\n",
      "Using non default rmax = 27 for experiment\n",
      "Using non default rmax = 27 for experiment\n",
      "Using non default rmax = 27 for experiment\n",
      "Using non default rmax = 27 for experiment\n",
      "Using non default rmax = 27 for experiment\n",
      "Using non default rmax = 27 for experiment\n",
      "Using non default rmax = 27 for experiment\n",
      "Using non default rmax = 27 for experiment\n",
      "Using non default rmax = 27 for experiment\n",
      "Using non default rmax = 27 for experiment\n",
      "Using non default rmax = 27 for experiment\n",
      "Using non default rmax = 27 for experiment\n",
      "Using non default rmax = 27 for experiment\n",
      "Using non default rmax = 27 for experiment\n",
      "Using non default rmax = 27 for experiment\n",
      "Using non default rmax = 27 for experiment\n",
      "Using non default rmax = 27 for experiment\n",
      "Using non default rmax = 27 for experiment\n",
      "Using non default rmax = 27 for experiment\n",
      "Using non default rmax = 27 for experiment\n",
      "Using non default rmax = 27 for experiment\n",
      "Using non default rmax = 27 for experiment\n",
      "Using non default rmax = 27 for experiment\n",
      "Using non default rmax = 27 for experiment\n",
      "Using non default rmax = 27 for experiment\n",
      "Using non default rmax = 27 for experiment\n",
      "Using non default rmax = 27 for experiment\n",
      "Using non default rmax = 27 for experiment\n",
      "Using non default rmax = 27 for experiment\n",
      "Using non default rmax = 27 for experiment\n",
      "Using non default rmax = 27 for experiment\n",
      "Using non default rmax = 27 for experiment\n",
      "Using non default rmax = 27 for experiment\n",
      "Using non default rmax = 27 for experiment\n",
      "Using non default rmax = 27 for experiment\n",
      "Using non default rmax = 27 for experiment\n",
      "Using non default rmax = 27 for experiment\n",
      "Using non default rmax = 27 for experiment\n",
      "Using non default rmax = 27 for experiment\n",
      "Using non default rmax = 27 for experiment\n",
      "Using non default rmax = 27 for experiment\n",
      "Using non default rmax = 27 for experiment\n",
      "Using non default rmax = 27 for experiment\n",
      "Using non default rmax = 27 for experiment\n",
      "Using non default rmax = 27 for experiment\n",
      "Using non default rmax = 27 for experiment\n",
      "Using non default rmax = 27 for experiment\n",
      "Using non default rmax = 27 for experiment\n",
      "Using non default rmax = 27 for experiment\n",
      "Using non default rmax = 27 for experiment\n",
      "Using non default rmax = 27 for experiment\n",
      "Using non default rmax = 27 for experiment\n",
      "Using non default rmax = 27 for experiment\n",
      "Using non default rmax = 27 for experiment\n",
      "Using non default rmax = 27 for experiment\n",
      "Using non default rmax = 27 for experiment\n",
      "Using non default rmax = 27 for experiment\n",
      "Using non default rmax = 27 for experiment\n",
      "Using non default rmax = 27 for experiment\n",
      "Using non default rmax = 27 for experiment\n",
      "Using non default rmax = 27 for experiment\n",
      "Using non default rmax = 27 for experiment\n",
      "Using non default rmax = 27 for experiment\n",
      "Using non default rmax = 27 for experiment\n",
      "Using non default rmax = 27 for experiment\n",
      "Using non default rmax = 27 for experiment\n",
      "Using non default rmax = 27 for experiment\n",
      "Using non default rmax = 27 for experiment\n",
      "Using non default rmax = 27 for experiment\n",
      "Using non default rmax = 27 for experiment\n",
      "Using non default rmax = 27 for experiment\n",
      "Using non default rmax = 27 for experiment\n",
      "Using non default rmax = 27 for experiment\n",
      "Using non default rmax = 27 for experiment\n",
      "Using non default rmax = 27 for experiment\n",
      "Using non default rmax = 27 for experiment\n",
      "Using non default rmax = 27 for experiment\n",
      "Using non default rmax = 27 for experiment\n",
      "Using non default rmax = 27 for experiment\n",
      "Using non default rmax = 27 for experiment\n",
      "Using non default rmax = 27 for experiment\n",
      "Using non default rmax = 27 for experiment\n",
      "Using non default rmax = 27 for experiment\n",
      "Using non default rmax = 27 for experiment\n",
      "Using non default rmax = 27 for experiment\n",
      "Using non default rmax = 27 for experiment\n",
      "Using non default rmax = 27 for experiment\n",
      "Using non default rmax = 27 for experiment\n",
      "Using non default rmax = 27 for experiment\n",
      "Using non default rmax = 27 for experiment\n",
      "Using non default rmax = 27 for experiment\n",
      "Using non default rmax = 27 for experiment\n",
      "Using non default rmax = 27 for experiment\n",
      "Using non default rmax = 27 for experiment\n",
      "Using non default rmax = 27 for experiment\n",
      "Using non default rmax = 27 for experiment\n",
      "Using non default rmax = 27 for experiment\n",
      "Using non default rmax = 27 for experiment\n"
     ]
    }
   ],
   "source": [
    "m = 27\n",
    "\n",
    "bnewtab = np.array( [bgal_new(zz, m) for zz in ztab] )\n",
    "btab = bgal(ztab)\n",
    "ntab = nofz(ztab, m)\n",
    "# nbehindtab = np.array([ngal_behind(zz, m) for zz in ztab])\n"
   ]
  },
  {
   "cell_type": "code",
   "execution_count": 14,
   "metadata": {},
   "outputs": [
    {
     "name": "stdout",
     "output_type": "stream",
     "text": [
      "3.9\n"
     ]
    }
   ],
   "source": [
    "zbgmax = zbg_max(m, LSST, THRESHOLD = 1e-12)\n",
    "print zbgmax"
   ]
  },
  {
   "cell_type": "code",
   "execution_count": 15,
   "metadata": {},
   "outputs": [
    {
     "data": {
      "text/plain": [
       "(1e-12, 10000000000.0)"
      ]
     },
     "execution_count": 15,
     "metadata": {},
     "output_type": "execute_result"
    },
    {
     "data": {
      "image/png": "[encoded data removed]",
      "text/plain": [
       "<Figure size 504x360 with 1 Axes>"
      ]
     },
     "metadata": {
      "needs_background": "light"
     },
     "output_type": "display_data"
    }
   ],
   "source": [
    "fig = P.figure(); ax=fig.add_subplot(111);\n",
    "ax.semilogy(ztab, bnewtab)\n",
    "ax.semilogy(ztab, btab, ls = \"--\")\n",
    "ax.semilogy(ztab, ntab, c=\"black\")\n",
    "ax.axhline((1e-8))\n",
    "ax.axvline(zbgmax)\n",
    "ax.set_ylim((1e-12,1e10))"
   ]
  },
  {
   "cell_type": "code",
   "execution_count": null,
   "metadata": {},
   "outputs": [],
   "source": []
  },
  {
   "cell_type": "code",
   "execution_count": null,
   "metadata": {},
   "outputs": [],
   "source": []
  }
 ],
 "metadata": {
  "kernelspec": {
   "display_name": "Python 2",
   "language": "python",
   "name": "python2"
  },
  "language_info": {
   "codemirror_mode": {
    "name": "ipython",
    "version": 2
   },
   "file_extension": ".py",
   "mimetype": "text/x-python",
   "name": "python",
   "nbconvert_exporter": "python",
   "pygments_lexer": "ipython2",
   "version": "2.7.15"
  }
 },
 "nbformat": 4,
 "nbformat_minor": 2
}
