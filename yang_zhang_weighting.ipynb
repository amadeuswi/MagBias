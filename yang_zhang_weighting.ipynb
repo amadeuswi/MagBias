{
 "cells": [
  {
   "cell_type": "markdown",
   "metadata": {},
   "source": [
    "# use the yang zhang paper (1104.2487v2) on weighting for magnification bias. We want the same forecasts as in the S2N notebook, but using the weighting function from menard and bartelmann"
   ]
  },
  {
   "cell_type": "markdown",
   "metadata": {},
   "source": [
    "We need a lot of averages for this, all with respect to magnitude, in particular we need:\n",
    "\n",
    "$\\alpha-1$\n",
    "$b_g$ and\n",
    "$W$\n",
    "\n",
    "$W$ itself requires the same averages."
   ]
  },
  {
   "cell_type": "code",
   "execution_count": 1,
   "metadata": {},
   "outputs": [
    {
     "name": "stdout",
     "output_type": "stream",
     "text": [
      "\n",
      "#$#$#$#$#$#$#$#$#$#$#$#$#$#$#$#$#$#$#$#$#$#$#$#$#$#$#$#$#$#$ \n",
      "Rescaling the galaxy number density by a factor of 104185.986576 to match the gold sample with 6330073646.61 total galaxies \n",
      "#$#$#$#$#$#$#$#$#$#$#$#$#$#$#$#$#$#$#$#$#$#$#$#$#$#$#$#$#$#$ \n",
      "\n"
     ]
    }
   ],
   "source": [
    "%matplotlib inline\n",
    "\n",
    "from __future__ import division\n",
    "import numpy as np\n",
    "from numpy import pi,sin,cos,tan,e,arctan,arcsin,arccos,sqrt\n",
    "import matplotlib\n",
    "import matplotlib.pyplot as P\n",
    "\n",
    "from matplotlib.legend import Legend\n",
    "\n",
    "matplotlib.rcParams['figure.figsize'] = (9, 6)\n",
    "P.rcParams['text.usetex'] = True  # not really needed\n",
    "P.rcParams['text.latex.preamble'] = [r'\\usepackage{amsmath}'] #for \\text command\n",
    "P.rcParams[\"font.size\"] = 26\n",
    "P.rc('xtick', labelsize=23) \n",
    "P.rc('ytick', labelsize=23)\n",
    "# P.rc('xtick', labelsize=20) \n",
    "# P.rc('ytick', labelsize=20)\n",
    "np.set_printoptions(threshold=100000)\n",
    "\n",
    "\n",
    "from magmod import *\n",
    "from magbias_experiments import SKA1, SKA2, cb_hirax as hirax, LSST, n\n",
    "\n",
    "#max magnitude for LSST...\n",
    "MAXMAG = 27"
   ]
  },
  {
   "cell_type": "markdown",
   "metadata": {},
   "source": [
    "bgal_new has the same magnitude dependence as sg, ONLY ON THE BIN CENTER\n",
    "\n",
    "shotnoise for the magnitude bin is straight forward\n",
    "\n",
    "C_DM does not depend on magnitude"
   ]
  },
  {
   "cell_type": "code",
   "execution_count": 2,
   "metadata": {},
   "outputs": [],
   "source": [
    "def Ngal_in_bin(zmin, mtab_edges, galsurv, NINT = 2000, maxmag = MAXMAG, ZMAX = False):\n",
    "    \"\"\"mtab_edges is magnitude bin edges, \n",
    "    upper means higher number and fainter, thus more galaxies\"\"\"\n",
    "\n",
    "    if type(ZMAX)==bool and not ZMAX:\n",
    "        zmax = zbg_max(maxmag, galsurv)\n",
    "    elif type(ZMAX)==bool and ZMAX:\n",
    "        raise ValueError(\"ZMAX must either be False or float!\")\n",
    "    else:\n",
    "        zmax = ZMAX\n",
    "    z_integrate = np.linspace(zmin,zmax, NINT)\n",
    "\n",
    "\n",
    "    dNdztab = np.array([nofz(z_integrate, mmm) for mmm in mtab_edges])\n",
    "    dNdzdOm = np.trapz(dNdztab, z_integrate, axis = 1)\n",
    "    \n",
    "\n",
    "    \n",
    "    #now subtract lower from upper\n",
    "    Nz = (dNdzdOm[1:] - dNdzdOm[:-1]) * 4 * np.pi #already in rad!!!! and multiplying with all sky\n",
    "    Nz = np.atleast_1d(Nz)\n",
    "    if (Nz<0).any():\n",
    "#         print Nz\n",
    "        raise ValueError(\"cannot have negative number of galaxies, most likely we confused magnitudes here\")\n",
    "    return Nz\n",
    "\n",
    "\n",
    "\n",
    "\n",
    "\n",
    "def alphaminusone(z, maxmag, exp = LSST): #2(alpha-1) = 5sg-2\n",
    "    \"\"\"should take the mean redshift in the bin!\"\"\"\n",
    "    maxmag = np.atleast_1d(maxmag)\n",
    "    res = np.array( [ 5*sg(z, exp, mmm) - 2 for mmm in maxmag])\n",
    "    return res\n",
    "\n",
    "def average_no_W(A,B,N, VECTORINPUT = False):\n",
    "    \"\"\"A,B are the arrays to be averaged, same length as N which is the bg number density of galaxies\"\"\"\n",
    "    if VECTORINPUT:\n",
    "        sumaxis = 0\n",
    "    else:\n",
    "        sumaxis = 1\n",
    "    return np.sum(A*B*N, axis = sumaxis)/np.sum(N) #A and B are matrices, ell x mag\n",
    "\n",
    "\n",
    "\n",
    "def W_weight(C_DMtab, Cshottab, alpha_m_one_tab, bgal_tab, Ngal_tab, exp = LSST, MENARD_BARTELMANN = False):\n",
    "    \"\"\"the optimal, scale dependent weight, eq. 10\n",
    "    input: background redshift z, magnitude bin center mag (later will be full array, now just needs to be inside the table used for bgal_tab),\n",
    "    array (for ell values) of dark matter power spectrum and the shot noise (number). \n",
    "    Then there are tables of alpha-1, bgal, Cshot and Ngal on a given magnitude binning (the binning itself not needed here)\n",
    "    if MENARD_BARTELMANN is True we use their weighting function, which ignores the galaxy bias term\"\"\"\n",
    "\n",
    "    DM_by_shot = np.outer(C_DMtab,1/Cshottab) #this need to have right shape, as C_DM is length ell and Cshot is length magtab\n",
    "    \n",
    "    if MENARD_BARTELMANN:\n",
    "        res = alpha_m_one_tab + np.zeros(DM_by_shot.shape)\n",
    "        return res\n",
    "    \n",
    "    num = -average_no_W(alpha_m_one_tab, bgal_tab, Ngal_tab, VECTORINPUT = True) * DM_by_shot\n",
    "    denom = 1 + average_no_W(bgal_tab,bgal_tab, Ngal_tab, VECTORINPUT = True) * DM_by_shot\n",
    "    fac1 = num/denom\n",
    "    res = alpha_m_one_tab + bgal_tab * fac1\n",
    "    return res #outer product to get right shape\n",
    "\n",
    "\n",
    "\n",
    "def S2N_weighted(ltab, deltaell, fsky, Cfg, CSfg, CSbg, CHImu, biasg, Weight, Ngal):\n",
    "    num = (2*ltab + 1) * deltaell * fsky\n",
    "    denom = 1 + (Cfg + CSfg) * ( \n",
    "        average_no_W(biasg, Weight, Ngal)**2 * C_DM_tab + \n",
    "#         average_no_W(Weight**2, CSbg, Ngal)) / (average_no_W(CHImu, Weight, Ngal)**2) #I put the shot noise into the average\n",
    "        average_no_W(Weight, Weight, Ngal) * CSbg) / (average_no_W(CHImu, Weight, Ngal)**2)\n",
    "    frac = num/denom\n",
    "    if (frac<0).any():\n",
    "        print \"We are having negative S2N, therefore we use the absolute values.\"\n",
    "        frac = np.abs(frac)\n",
    "    res = np.sum(frac, axis = 0)\n",
    "    return np.sqrt(res)"
   ]
  },
  {
   "cell_type": "markdown",
   "metadata": {},
   "source": [
    "setting up experiments and plotting like in the S2N notebook:"
   ]
  },
  {
   "cell_type": "code",
   "execution_count": 3,
   "metadata": {},
   "outputs": [],
   "source": [
    "lw = 2.5 #line width forplots\n",
    "\n",
    "buffer_z = 0.1 #buffer between fg and bg to avoid correlation, \n",
    "zfg_max = 2. # last bin goes slightly beyond that. more does not make sense otherwise we have no galaxies left to cross correlate with"
   ]
  },
  {
   "cell_type": "code",
   "execution_count": 4,
   "metadata": {},
   "outputs": [
    {
     "name": "stdout",
     "output_type": "stream",
     "text": [
      "HIRAX fov = 0.0045692612968 to 0.0170585755081 rad\n",
      "min ell SKA: 10, min ell HIRAX: 60\n",
      "we are using rough ell res for speedup\n"
     ]
    }
   ],
   "source": [
    "#get lmin = delta_l for HIRAX and ska:\n",
    "\n",
    "# allskydegree = 4*pi*(180/pi)**2\n",
    "\n",
    "SKAarea = SKA['S_area']\n",
    "HIRAXarea = hirax['S_area']\n",
    "HIRAXfov1 = 15 * (pi/180)**2 #this is from table one of the HIRAX white paper\n",
    "HIRAXfov2 = 56 * (pi/180)**2\n",
    "HIRAXfov0 = (HIRAXfov1+HIRAXfov2)/2\n",
    "\n",
    "print \"HIRAX fov = {} to {} rad\".format(HIRAXfov1, HIRAXfov2)\n",
    "\n",
    "lminSKA = np.amax([10,np.int(np.around(2*pi/np.sqrt(SKAarea)))]) #never use lmin <20\n",
    "lminHIRAX = np.amax([10, np.int(np.around(2*pi/np.sqrt(HIRAXfov0)))]) #never use lmin<20\n",
    "print \"min ell SKA: {}, min ell HIRAX: {}\".format(lminSKA,lminHIRAX)\n",
    "#less ell resolution for speedup:\n",
    "deltaell_HIRAX=10*lminHIRAX\n",
    "deltaell_SKA=10*lminSKA\n",
    "print \"we are using rough ell res for speedup\""
   ]
  },
  {
   "cell_type": "code",
   "execution_count": 5,
   "metadata": {},
   "outputs": [],
   "source": [
    "#set the magnitude range:\n",
    "magmax = 27;\n",
    "magmin = 19;\n",
    "# magmin = 22;\n",
    "\n",
    "#make ell table:\n",
    "lend = 2200;\n",
    "ltabH = np.arange(lminHIRAX, lend + deltaell_HIRAX, deltaell_HIRAX)\n",
    "ltabSKA = np.arange(lminSKA, lend + deltaell_SKA, deltaell_SKA)\n",
    "\n",
    "# lN = len(ltab)\n",
    "lNH = len(ltabH)\n",
    "lNSKA = len(ltabSKA)"
   ]
  },
  {
   "cell_type": "markdown",
   "metadata": {},
   "source": [
    "HIRAX redshift bins:"
   ]
  },
  {
   "cell_type": "code",
   "execution_count": 6,
   "metadata": {},
   "outputs": [
    {
     "name": "stdout",
     "output_type": "stream",
     "text": [
      "2.0 0.7755075 zmax, zmin for HIRAX\n",
      "[0.7755075 1.2755075 1.7755075 2.2755075] all\n",
      "[0.7755075 1.2755075 1.7755075] low\n",
      "[1.2755075 1.7755075 2.2755075] high\n",
      "[1.0255075 1.5255075 2.0255075] mean\n",
      "[1.3755075 1.8755075 2.3755075] bg min\n",
      "3 Nbin\n"
     ]
    }
   ],
   "source": [
    "\n",
    "########################################################################\n",
    "########################################################################\n",
    "############WORKING ON HIRAX:####################################\n",
    "\n",
    "dz = 0.5 #bin width for HIRAX and SKA\n",
    "\n",
    "\n",
    "########################################################################\n",
    "########################################################################\n",
    "############MAKING HIRAX REDSHIFT BINS:####################################\n",
    "########################################################################\n",
    "########################################################################\n",
    "\n",
    "numax_HIRAX = hirax[\"survey_numax\"] #800\n",
    "\n",
    "zHIRAX_min = nutoz21(numax_HIRAX) # minimum of HIRAX\n",
    "\n",
    "print zfg_max, zHIRAX_min, \"zmax, zmin for HIRAX\"\n",
    "zHIRAX_allbin = np.arange( zHIRAX_min, zfg_max + dz, step = dz)\n",
    "print zHIRAX_allbin, \"all\"\n",
    "zHIRAX_lowbin = zHIRAX_allbin[:-1]\n",
    "zHIRAX_highbin = zHIRAX_allbin[1:]\n",
    "zHIRAX_meanbin = (zHIRAX_lowbin + zHIRAX_highbin)/2\n",
    "\n",
    "\n",
    "zbmin_HIRAX = zHIRAX_highbin + buffer_z\n",
    "\n",
    "nbinH = len(zHIRAX_lowbin)\n",
    "print zHIRAX_lowbin, \"low\"\n",
    "print zHIRAX_highbin, \"high\"\n",
    "print zHIRAX_meanbin, \"mean\"\n",
    "print zbmin_HIRAX, \"bg min\"\n",
    "print nbinH, \"Nbin\"\n",
    "\n",
    "\n"
   ]
  },
  {
   "cell_type": "markdown",
   "metadata": {},
   "source": [
    "SKA redshift bins:"
   ]
  },
  {
   "cell_type": "code",
   "execution_count": 7,
   "metadata": {},
   "outputs": [
    {
     "name": "stdout",
     "output_type": "stream",
     "text": [
      "Band 1:\n",
      "zmax 2.0 and zmin 0.341271010387\n",
      "[0.34127101 0.84127101 1.34127101 1.84127101 2.34127101] all\n",
      "[0.34127101 0.84127101 1.34127101 1.84127101] low\n",
      "[0.84127101 1.34127101 1.84127101 2.34127101] high\n",
      "[0.59127101 1.09127101 1.59127101 2.09127101] mean\n",
      "4 BINS\n",
      "\n",
      "Band 2:\n",
      "zmax 0.470399585921 and zmin 0.0005\n",
      "0.469899585921325 dz\n",
      "[0.0005     0.47039959] all\n",
      "[0.0005] low\n",
      "[0.47039959] high\n",
      "[0.23544979] mean\n",
      "1 BIN\n"
     ]
    }
   ],
   "source": [
    "\n",
    "# Band1:\n",
    "zSKA1_min = np.amax([0.0005, nutoz21(SKA1[\"numax\"])]) # minimum of HIRAX\n",
    "\n",
    "zSKA1_max = np.amin([zfg_max, nutoz21(SKA1[\"numin\"])]) # last bin goes slightly beyond that. more does not make sense otherwise we have no galaxies left to cross correlate with\n",
    "\n",
    "print \"Band 1:\"\n",
    "print \"zmax {} and zmin {}\".format(zSKA1_max, zSKA1_min)\n",
    "\n",
    "zSKA1_allbin = np.arange( zSKA1_min, zSKA1_max + dz, step = dz)\n",
    "print zSKA1_allbin, \"all\"\n",
    "zSKA1_lowbin = zSKA1_allbin[:-1]\n",
    "zSKA1_highbin = zSKA1_allbin[1:]\n",
    "zSKA1_meanbin = (zSKA1_lowbin + zSKA1_highbin)/2\n",
    "\n",
    "zbSKA1_min = zSKA1_highbin + buffer_z #background\n",
    "\n",
    "\n",
    "nbinS1 = len(zSKA1_lowbin)\n",
    "print zSKA1_lowbin, \"low\"\n",
    "print zSKA1_highbin, \"high\"\n",
    "print zSKA1_meanbin, \"mean\"\n",
    "print nbinS1, \"BINS\"\n",
    "\n",
    "\n",
    "# Band2:\n",
    "zSKA2_min = np.amax([0.0005, nutoz21(SKA2[\"numax\"])]) # minimum of HIRAX\n",
    "\n",
    "zSKA2_max = np.amin([zfg_max, nutoz21(SKA2[\"numin\"])]) # last bin goes slightly beyond that. more does not make sense otherwise we have no galaxies left to cross correlate with\n",
    "\n",
    "print \"\\nBand 2:\"\n",
    "print \"zmax {} and zmin {}\".format(zSKA2_max, zSKA2_min)\n",
    "\n",
    "# zSKA2_allbin = np.arange( zSKA2_min, zSKA2_max + dz, step = dz)\n",
    "dzSKA2 = zSKA2_max - zSKA2_min\n",
    "zSKA2_allbin = np.array( [zSKA2_min, zSKA2_max])\n",
    "\n",
    "print dzSKA2, \"dz\"\n",
    "print zSKA2_allbin, \"all\"\n",
    "zSKA2_lowbin = zSKA2_allbin[:-1]\n",
    "zSKA2_highbin = zSKA2_allbin[1:]\n",
    "zSKA2_meanbin = (zSKA2_lowbin + zSKA2_highbin)/2\n",
    "\n",
    "zbSKA2_min = zSKA2_highbin + buffer_z #background\n",
    "\n",
    "\n",
    "nbinS2 = len(zSKA2_lowbin)\n",
    "print zSKA2_lowbin, \"low\"\n",
    "print zSKA2_highbin, \"high\"\n",
    "print zSKA2_meanbin, \"mean\"\n",
    "print nbinS2, \"BIN\"\n",
    "\n"
   ]
  },
  {
   "cell_type": "code",
   "execution_count": 8,
   "metadata": {},
   "outputs": [
    {
     "name": "stdout",
     "output_type": "stream",
     "text": [
      "Bin H1 goes from z = 0.7755075 to z = 1.2755075.\n",
      "the ell table is [  60  660 1260 1860 2460]\n",
      "ellmin = 600\n",
      "mode of fg exp is interferometer \n",
      " \n",
      "\n",
      "Bin H2 goes from z = 1.2755075 to z = 1.7755075.\n",
      "the ell table is [  60  660 1260 1860 2460]\n",
      "ellmin = 600\n",
      "mode of fg exp is interferometer \n",
      " \n",
      "\n",
      "Bin H3 goes from z = 1.7755075 to z = 2.2755075.\n",
      "the ell table is [  60  660 1260 1860 2460]\n",
      "ellmin = 600\n",
      "mode of fg exp is interferometer \n",
      " \n",
      "\n",
      "Bin SKA11 goes from z = 0.341271010387 to z = 0.841271010387.\n",
      "the ell table is [  10  110  210  310  410  510  610  710  810  910 1010 1110 1210 1310\n",
      " 1410 1510 1610 1710 1810 1910 2010 2110 2210]\n",
      "ellmin = 100\n",
      "mode of fg exp is single_dish \n",
      " \n",
      "\n",
      "Bin SKA12 goes from z = 0.841271010387 to z = 1.34127101039.\n",
      "the ell table is [  10  110  210  310  410  510  610  710  810  910 1010 1110 1210 1310\n",
      " 1410 1510 1610 1710 1810 1910 2010 2110 2210]\n",
      "ellmin = 100\n",
      "mode of fg exp is single_dish \n",
      " \n",
      "\n",
      "Bin SKA13 goes from z = 1.34127101039 to z = 1.84127101039.\n",
      "the ell table is [  10  110  210  310  410  510  610  710  810  910 1010 1110 1210 1310\n",
      " 1410 1510 1610 1710 1810 1910 2010 2110 2210]\n",
      "ellmin = 100\n",
      "mode of fg exp is single_dish \n",
      " \n",
      "\n",
      "Bin SKA14 goes from z = 1.84127101039 to z = 2.34127101039.\n",
      "the ell table is [  10  110  210  310  410  510  610  710  810  910 1010 1110 1210 1310\n",
      " 1410 1510 1610 1710 1810 1910 2010 2110 2210]\n",
      "ellmin = 100\n",
      "mode of fg exp is single_dish \n",
      " \n",
      "\n",
      "Bin SKA21 goes from z = 0.0005 to z = 0.470399585921.\n",
      "the ell table is [  10  110  210  310  410  510  610  710  810  910 1010 1110 1210 1310\n",
      " 1410 1510 1610 1710 1810 1910 2010 2110 2210]\n",
      "ellmin = 100\n",
      "mode of fg exp is single_dish \n",
      " \n",
      "\n"
     ]
    }
   ],
   "source": [
    "#\n",
    "zbin_labels = [\"H1\", \"H2\", \"H3\", \"SKA11\", \"SKA12\", \"SKA13\", \"SKA14\", \"SKA21\"]\n",
    "zbin_lowlist = [zzz for zzz in zHIRAX_lowbin] + [zzz for zzz in zSKA1_lowbin] + [zzz for zzz in zSKA2_lowbin]\n",
    "zbin_highlist = [zzz for zzz in zHIRAX_highbin] + [zzz for zzz in zSKA1_highbin] + [zzz for zzz in zSKA2_highbin]\n",
    "\n",
    "elltabs_list = [ltabH]*3 +  [ltabSKA]*5\n",
    "d_ell_list = [deltaell_HIRAX]*3 + [deltaell_SKA]*5\n",
    "\n",
    "fgexp_list = [hirax]*3 + [SKA1]*4 + [SKA2]\n",
    "\n",
    "\n",
    "for i in range(len(zbin_labels)):\n",
    "    print \"Bin {} goes from z = {} to z = {}.\".format(zbin_labels[i], zbin_lowlist[i], zbin_highlist[i])\n",
    "    print \"the ell table is {}\".format(elltabs_list[i])\n",
    "    print \"ellmin = {}\".format(d_ell_list[i])\n",
    "    print \"mode of fg exp is {} \\n \\n\".format(fgexp_list[i][\"mode\"])"
   ]
  },
  {
   "cell_type": "code",
   "execution_count": 9,
   "metadata": {},
   "outputs": [
    {
     "name": "stdout",
     "output_type": "stream",
     "text": [
      "\n",
      "\n",
      "*************************\n",
      "\n",
      "bin H1\n",
      "z from 0.7755075 to 1.2755075\n"
     ]
    },
    {
     "name": "stderr",
     "output_type": "stream",
     "text": [
      "lf_photometric.py:272: RuntimeWarning: divide by zero encountered in divide\n",
      "  return 0.4*lumphi/lumPhi\n",
      "lf_photometric.py:272: RuntimeWarning: invalid value encountered in divide\n",
      "  return 0.4*lumphi/lumPhi\n"
     ]
    },
    {
     "name": "stdout",
     "output_type": "stream",
     "text": [
      "using interferometer mode for foreground\n",
      "delta ell = 600, fsky = 0.3625\n"
     ]
    },
    {
     "name": "stderr",
     "output_type": "stream",
     "text": [
      "/opt/local/Library/Frameworks/Python.framework/Versions/2.7/lib/python2.7/site-packages/ipykernel_launcher.py:43: RuntimeWarning: invalid value encountered in true_divide\n",
      "/opt/local/Library/Frameworks/Python.framework/Versions/2.7/lib/python2.7/site-packages/ipykernel_launcher.py:75: RuntimeWarning: invalid value encountered in less\n"
     ]
    },
    {
     "name": "stdout",
     "output_type": "stream",
     "text": [
      "S2N in this bin: 72.9086681946\n",
      "\n",
      "\n",
      "*************************\n",
      "\n",
      "bin H2\n",
      "z from 1.2755075 to 1.7755075\n",
      "using interferometer mode for foreground\n",
      "delta ell = 600, fsky = 0.3625\n",
      "S2N in this bin: 21.1566133877\n",
      "\n",
      "\n",
      "*************************\n",
      "\n",
      "bin H3\n",
      "z from 1.7755075 to 2.2755075\n",
      "using interferometer mode for foreground\n",
      "delta ell = 600, fsky = 0.3625\n",
      "S2N in this bin: 5.3490798496\n",
      "\n",
      "\n",
      "*************************\n",
      "\n",
      "bin SKA11\n",
      "z from 0.341271010387 to 0.841271010387\n",
      "using single_dish mode for foreground\n",
      "delta ell = 100, fsky = 0.409823978462\n"
     ]
    },
    {
     "name": "stderr",
     "output_type": "stream",
     "text": [
      "/opt/local/Library/Frameworks/Python.framework/Versions/2.7/lib/python2.7/site-packages/ipykernel_launcher.py:73: RuntimeWarning: overflow encountered in true_divide\n",
      "lf_photometric.py:190: IntegrationWarning: The integral is probably divergent, or slowly convergent.\n",
      "  clblue=[quad(lumfun,norm*mag_lim_blue[i],lnlum_max,args=(z[i],\"blue\"))[0] for i in range(len(z))]\n"
     ]
    },
    {
     "name": "stdout",
     "output_type": "stream",
     "text": [
      "S2N in this bin: 20.9596660508\n",
      "\n",
      "\n",
      "*************************\n",
      "\n",
      "bin SKA12\n",
      "z from 0.841271010387 to 1.34127101039\n"
     ]
    },
    {
     "name": "stderr",
     "output_type": "stream",
     "text": [
      "magmod.py:1105: RuntimeWarning: overflow encountered in exp\n",
      "  oneover_W_ell = np.exp( ltab**2 * sigb**2) #beam smoothing function.\n"
     ]
    },
    {
     "name": "stdout",
     "output_type": "stream",
     "text": [
      "using single_dish mode for foreground\n",
      "delta ell = 100, fsky = 0.409823978462\n",
      "S2N in this bin: 8.0985404375\n",
      "\n",
      "\n",
      "*************************\n",
      "\n",
      "bin SKA13\n",
      "z from 1.34127101039 to 1.84127101039\n",
      "using single_dish mode for foreground\n",
      "delta ell = 100, fsky = 0.409823978462\n",
      "S2N in this bin: 2.42485230303\n",
      "\n",
      "\n",
      "*************************\n",
      "\n",
      "bin SKA14\n",
      "z from 1.84127101039 to 2.34127101039\n",
      "using single_dish mode for foreground\n",
      "delta ell = 100, fsky = 0.409823978462\n",
      "S2N in this bin: 0.437294203854\n",
      "\n",
      "\n",
      "*************************\n",
      "\n",
      "bin SKA21\n",
      "z from 0.0005 to 0.470399585921\n",
      "using single_dish mode for foreground\n",
      "delta ell = 100, fsky = 0.409823978462\n",
      "S2N in this bin: 28.9488065419\n"
     ]
    }
   ],
   "source": [
    "#weighting function by menard and bartelmann:\n",
    "menard_bartelmann = True\n",
    "\n",
    "#set the number of galaxies to zero below a certain threshold. the threshold should correspond to the minimum number of galaxies for a detection.\n",
    "N_g_threshold = 1\n",
    "\n",
    "#subsplitting of LSST bg bin, later added up\n",
    "dzb = 0.1\n",
    "zmax_LSST = LSST[\"zmax\"]\n",
    "\n",
    "#number of magnitude bins:\n",
    "Nmag = 30\n",
    "\n",
    "#magnitude bins:\n",
    "magtab_edges = np.linspace(magmin, magmax, Nmag+1)\n",
    "# print \"magnitude bin edges: {}\".format(magtab_edges)\n",
    "\n",
    "#coarse integration because z bins are small in bg\n",
    "NINTEGRATE = 5\n",
    "\n",
    "#list for all S2N values in each z bin.\n",
    "allS2N = []\n",
    "#loop through all HI z bins:\n",
    "for izfg in range(len(zbin_labels)):\n",
    "# for izfg in range(1):\n",
    "    print \"\\n\"*2, \"*\"*25\n",
    "    print \"\\n\", \"bin {}\".format(zbin_labels[izfg])\n",
    "    zflow = zbin_lowlist[izfg]; zfhigh = zbin_highlist[izfg]; zfmean = (zfhigh+zflow)/2; delta_zf = (zfhigh-zflow)/2\n",
    "    print \"z from {} to {}\".format(zflow, zfhigh)\n",
    "\n",
    "    #the ell tab used for this HI bin:\n",
    "    elll = elltabs_list[izfg]\n",
    "    delll = d_ell_list[izfg]\n",
    "    \n",
    "    \n",
    "    #the fg experiment:\n",
    "    fgexxp = fgexp_list[izfg]\n",
    "    \n",
    "    zlow_LSST = zfhigh + buffer_z\n",
    "    #background LSST zbins\n",
    "    zb_tab, zb_step = np.linspace(zlow_LSST, zmax_LSST, np.int((zmax_LSST-zlow_LSST)/dzb+1), retstep = True)\n",
    "#     print zb_tab, zb_step\n",
    "\n",
    "    #corresponding tab of alpha-1, zb_step added to get mean redshift. shape (mag X ell)\n",
    "    alphaminusones = alphaminusone(zb_tab+zb_step/2, magtab_edges[1:]) \n",
    "\n",
    "    \n",
    "    \n",
    "    if fgexxp[\"mode\"] == \"single_dish\":\n",
    "        C_noise_fg_tab = noise_cls_single_dish(elll, ztonu21(zfmean), fgexxp, 256) * np.ones( len(elll) )\n",
    "\n",
    "    elif fgexxp[\"mode\"] == \"interferometer\":\n",
    "        C_noise_fg_tab = Cl_interferom_noise(elll, zflow, zfhigh, fgexxp)\n",
    "\n",
    "    else:\n",
    "        raise ValueError(\"Foreground experiment needs to be either in single_dish or interferometer mode.\")\n",
    "    print \"using {} mode for foreground\".format(fgexxp[\"mode\"])\n",
    "    \n",
    "    \n",
    "    fsky = fgexxp[\"S_area\"] / (4*np.pi)\n",
    "    print \"delta ell = {}, fsky = {}\".format(delll, fsky)\n",
    "\n",
    "\n",
    "    \n",
    "    \n",
    "    S2Ntab = []\n",
    "    for iz in range(len(zb_tab)-1):#all but the last entry\n",
    "\n",
    "        zlow = zb_tab[iz]\n",
    "        zhigh = zb_tab[iz+1]\n",
    "        zbmean = (zlow + zhigh)/2\n",
    "\n",
    "        N_g_tab = Ngal_in_bin(zlow, magtab_edges, LSST, ZMAX = zhigh, NINT = NINTEGRATE) #takes the lower redshift edge\n",
    "#         print bias_g_tab, \"bg\"\n",
    "        if np.isnan(N_g_tab).any():\n",
    "            print N_g_tab, \"N_g with nan\"\n",
    "        N_g_tab[N_g_tab<N_g_threshold] = 0. #less than one galaxy is the same as no galaxy...\n",
    "\n",
    "#         print N_g_tab, \"Ngal\"\n",
    "        alphaminusone_tab = alphaminusones[:,iz]\n",
    "        \n",
    "        alphaminusone_tab[N_g_tab<N_g_threshold] = 1.#exact value doesn't matter, it's multiplied with 0!\n",
    "        \n",
    "        bias_g_tab = np.array([bgal_new(zbmean, mmm) for mmm in magtab_edges[1:]])\n",
    "        bias_g_tab[N_g_tab<N_g_threshold] = 1. #exact value doesn't matter, it's multiplied with 0!\n",
    "\n",
    "#         print \"alphaminusone\", alphaminusone_tab\n",
    "\n",
    "        C_DM_tab = C_l_DM_CAMB(elll, zlow, galsurv = LSST, ZMAX = zhigh)\n",
    "\n",
    "        Cshot = shotnoise(zlow, LSST, MAXMAG, ZMAX = zhigh, NINT = NINTEGRATE) #coarse integration okay because we use thin redshift bin \n",
    "\n",
    "\n",
    "\n",
    "        Weight = W_weight(C_DM_tab, Cshot, alphaminusone_tab, bias_g_tab, N_g_tab, MENARD_BARTELMANN  = menard_bartelmann)\n",
    "        if (Weight>1e10).any():\n",
    "            print \"ALARM!\"\n",
    "            print Weight[:,N_g_tab<N_g_threshold]\n",
    "#         print Weight, \"Weight\"\n",
    "        C_HIHI_tab = C_l_HIHI_CAMB(elll, zflow, zfhigh)\n",
    "        \n",
    "\n",
    "        C_HIxmag_tab = np.array( [Cl_HIxmag_CAMB(elll, zfmean, delta_zf, zlow, MAXMAG = mmm, ZMAX = zhigh, NINT_gkernel = NINTEGRATE)\n",
    "                                  for mmm in magtab_edges[1:]]).T #transpose to match shape\n",
    "\n",
    "\n",
    "        S2Ntmp = S2N_weighted(elll, delll, fsky, C_HIHI_tab, C_noise_fg_tab, Cshot, C_HIxmag_tab, bias_g_tab, Weight, N_g_tab)\n",
    "        S2Ntab.append(S2Ntmp)\n",
    "        if np.isnan(S2Ntmp):\n",
    "            break #no more S2N to get\n",
    "    S2Ntab = np.array(S2Ntab)\n",
    "    #now squared summation over the background z bins:\n",
    "    S2Nsqsum = np.sqrt(np.nansum(S2Ntab**2))\n",
    "    allS2N.append( S2Nsqsum )\n",
    "    print \"S2N in this bin: {}\".format(S2Nsqsum)\n"
   ]
  },
  {
   "cell_type": "code",
   "execution_count": 11,
   "metadata": {},
   "outputs": [
    {
     "name": "stdout",
     "output_type": "stream",
     "text": [
      "[72.9086681946488, 21.156613387680665, 5.349079849595738, 20.959666050812007, 8.09854043749922, 2.424852303029357, 0.43729420385353296, 28.948806541934204]\n"
     ]
    }
   ],
   "source": [
    "print allS2N"
   ]
  },
  {
   "cell_type": "code",
   "execution_count": 13,
   "metadata": {},
   "outputs": [
    {
     "name": "stdout",
     "output_type": "stream",
     "text": [
      "[73. 21.  5. 21.  8.  2.  0. 29.]\n"
     ]
    }
   ],
   "source": [
    "print np.around(allS2N, 0)"
   ]
  },
  {
   "cell_type": "code",
   "execution_count": null,
   "metadata": {},
   "outputs": [],
   "source": []
  },
  {
   "cell_type": "code",
   "execution_count": null,
   "metadata": {},
   "outputs": [],
   "source": []
  },
  {
   "cell_type": "code",
   "execution_count": null,
   "metadata": {},
   "outputs": [],
   "source": []
  },
  {
   "cell_type": "code",
   "execution_count": null,
   "metadata": {},
   "outputs": [],
   "source": []
  },
  {
   "cell_type": "code",
   "execution_count": null,
   "metadata": {},
   "outputs": [],
   "source": []
  }
 ],
 "metadata": {
  "kernelspec": {
   "display_name": "Python 2",
   "language": "python",
   "name": "python2"
  },
  "language_info": {
   "codemirror_mode": {
    "name": "ipython",
    "version": 2
   },
   "file_extension": ".py",
   "mimetype": "text/x-python",
   "name": "python",
   "nbconvert_exporter": "python",
   "pygments_lexer": "ipython2",
   "version": "2.7.16"
  }
 },
 "nbformat": 4,
 "nbformat_minor": 2
}
