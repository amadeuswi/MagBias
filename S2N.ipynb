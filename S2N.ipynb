{
 "cells": [
  {
   "cell_type": "code",
   "execution_count": 1,
   "metadata": {},
   "outputs": [
    {
     "name": "stdout",
     "output_type": "stream",
     "text": [
      "sigma_8_BBKS = 0.833959881058\n"
     ]
    }
   ],
   "source": [
    "%matplotlib inline\n",
    "\n",
    "from __future__ import division\n",
    "import os\n",
    "import sys\n",
    "from scipy import integrate, optimize\n",
    "from scipy.interpolate import interp2d, interp1d\n",
    "\n",
    "import numpy as np\n",
    "from numpy import pi,sin,cos,tan,e,arctan,arcsin,arccos,sqrt\n",
    "from numpy.random import randn\n",
    "import matplotlib\n",
    "import matplotlib.pyplot as P\n",
    "from time import clock\n",
    "\n",
    "\n",
    "matplotlib.rcParams['figure.figsize'] = (7, 5)\n",
    "P.rcParams['text.usetex'] = True  # not really needed\n",
    "P.rcParams['text.latex.preamble'] = [r'\\usepackage{amsmath}'] #for \\text command\n",
    "P.rcParams[\"font.size\"] = 24\n",
    "P.rc('xtick', labelsize=18) \n",
    "P.rc('ytick', labelsize=18)\n",
    "# P.rc('xtick', labelsize=20) \n",
    "# P.rc('ytick', labelsize=20)\n",
    "np.set_printoptions(threshold=np.nan)\n",
    "\n",
    "\n",
    "# sys.path.append(\"/Users/amadeus/Documents/10.semester/ma\")\n",
    "# from magmod import P_cdm_BBKS, D_z, rCom, H_0, c, H_z, E_z, Omega_m, W_tophat, T_obs, nutoz21, h\n",
    "# from magmod import P_cdm_BBKS, D_z, rCom, H_0, c, H_z, E_z, Omega_m, T_obs, nutoz21, h\n",
    "from magmod import *\n",
    "from magbias_experiments import SKA_zhangpen, CLAR_zhangpen, SKA, cb_hirax as hirax, hirax512, LSST, LSST_nosgfit, n\n"
   ]
  },
  {
   "cell_type": "code",
   "execution_count": 2,
   "metadata": {},
   "outputs": [
    {
     "name": "stdout",
     "output_type": "stream",
     "text": [
      "foreground from 0.5 to 1.0\n",
      "background from 1.5 to 1.9\n"
     ]
    }
   ],
   "source": [
    "plotdir = \"./plots/\"\n",
    "# plotdir = \"/Users/amadeus/Documents/PhD/work/magnification-measurements-intensity/\"\n",
    "\n",
    "\n",
    "# #preliminary, to be changed!!\n",
    "# bHI = 1\n",
    "# bgal = 1\n",
    "\n",
    "lmin = 250; lmax = 30000 # lmin and lmax for Cl calculation\n",
    "# lmin = 1; lmax = 1000 # lmin and lmax for Cl calculation\n",
    "# ltab = np.arange(lmin,lmax)\n",
    "# ltab = np.arange(lmin,lmax, 1000)\n",
    "ltab = np.logspace(np.log10(lmin), np.log10(lmax), 25, dtype = int)\n",
    "# ltab = np.array([280])\n",
    "\n",
    "################################################\n",
    "# ZhangPen:\n",
    "zf = 0.75\n",
    "dzf = 0.25\n",
    "zfmin = zf - dzf; zfmax = zf + dzf\n",
    "\n",
    "zb = (1.5 + 1.9)/2\n",
    "dzb = 1.9 - zb\n",
    "zbmin = zb - dzb; zbmax = zb + dzb\n",
    "################################################\n",
    "\n",
    "\n",
    "\n",
    "# ################################################\n",
    "# zf = 0.3\n",
    "# dzf = 0.005\n",
    "# zfmin = zf - dzf; zfmax = zf + dzf\n",
    "\n",
    "# zb = 1.5\n",
    "# dzb = 0.01\n",
    "# zbmin = zb - dzb; zbmax = zb + dzb\n",
    "# ################################################\n",
    "\n",
    "\n",
    "\n",
    "# zf = .1\n",
    "# dzf = 0.06\n",
    "# zfmin = zf - dzf; zfmax = zf + dzf\n",
    "\n",
    "# zb = .4\n",
    "# dzb = 0.06\n",
    "# zbmin = zb - dzb; zbmax = zb + dzb\n",
    "\n",
    "print \"foreground from {} to {}\".format(zfmin, zfmax)\n",
    "print \"background from {} to {}\".format(zbmin, zbmax)\n",
    "\n"
   ]
  },
  {
   "cell_type": "markdown",
   "metadata": {},
   "source": [
    "From ZiourHui:"
   ]
  },
  {
   "cell_type": "code",
   "execution_count": 3,
   "metadata": {},
   "outputs": [],
   "source": [
    "#two ways to compute the same thing:\n",
    "\n",
    "\n",
    "\n",
    "\n",
    "def Cl_delkap2_CAMB(ltable, zf, zb, delta_zf, Nint = 500):\n",
    "    fac = bHI * (5*sg(zb) - 2)\n",
    "    return Cl_HIxmag_CAMB(ltable, zf, zb, delta_zf, Nint = Nint) / fac\n",
    "\n",
    "def Cl_delkap_CAMB(ltable, zf, zb, delta_zf, Nint = 500):\n",
    "    fac = 3/2 * (H_0/c)**2 * Omega_m\n",
    "    \n",
    "    zmin = zf - delta_zf\n",
    "    zmax = zf + delta_zf\n",
    "    ztab = np.linspace(zmin, zmax, Nint) #do checks on this! should be 0 to inf\n",
    "#     gtab = [g(zz, zb, dzb) for zz in ztab] # this is slow\n",
    "    gtab = g(ztab, zb, dzb)\n",
    "    \n",
    "    integrand=np.zeros([len(ztab),len(ltable)])\n",
    "    for il in range(len(ltable)):\n",
    "        ell = ltable[il]\n",
    "        integrand[:,il]= [(1+zzz) * W_tophat(zzz, zfmin, zfmax) * gtab / rCom(zzz)**2 * pknl(( ell)/rCom(zzz), zzz) for zzz in ztab]\n",
    "    result= fac * np.trapz(integrand,ztab,axis=0)\n",
    "    return result"
   ]
  },
  {
   "cell_type": "markdown",
   "metadata": {},
   "source": [
    "Now we reproduce Fig 1 and 2 successfully (just adjust survey area and experiment accordingly):"
   ]
  },
  {
   "cell_type": "code",
   "execution_count": 4,
   "metadata": {},
   "outputs": [
    {
     "data": {
      "text/plain": [
       "<matplotlib.legend.Legend at 0x1157c9090>"
      ]
     },
     "execution_count": 4,
     "metadata": {},
     "output_type": "execute_result"
    },
    {
     "data": {
      "image/png": "[encoded data removed]",
      "text/plain": [
       "<Figure size 504x360 with 1 Axes>"
      ]
     },
     "metadata": {},
     "output_type": "display_data"
    }
   ],
   "source": [
    "ztab = np.linspace(0.01, 2.2,200)\n",
    "nsig=4\n",
    "Flux = n * Ssys(ztab, CLAR_zhangpen) #we require an n-sigma detection\n",
    "\n",
    "\n",
    "dNdztab = dNdz(ztab, nsig, CLAR_zhangpen)\n",
    "Ntab = N_HI(ztab, nsig, CLAR_zhangpen)\n",
    "\n",
    "fig = P.figure(); ax = fig.add_subplot(111);\n",
    "ax.semilogy(ztab, dNdztab, ls = \"--\", color = \"black\", label = r\"$dN/dz$\" )\n",
    "ax.semilogy(ztab, Ntab, color = \"black\", label = r\"$N(<z)$\")\n",
    "\n",
    "ax.set_ylim((1e3, 3e7))\n",
    "ax.set_xlabel(\"z\")\n",
    "\n",
    "P.legend(loc = \"upper right\")\n",
    "\n"
   ]
  },
  {
   "cell_type": "markdown",
   "metadata": {},
   "source": [
    "We were not able to calculate $\\alpha$ as in the zhang&pen paper, so we simply fit a curve to their figures. \n",
    "\n",
    "\n",
    "From arXiv:0706.1071 equation A9: $s = \\frac{d\\log_{10} n_g}{dm}$ with the magnitude threshold $m = -2.5 \\log_{10} F$. Therefore we have $s = -\\frac{5}{2} \\frac{d\\log_{10} n_g}{d\\log_{10}F} = \\frac{5}{2} \\alpha$\n",
    "\n",
    "Thus we can also use the $s_g$ we used for Alkistis HIxmag Cls to get $\\alpha$.\n",
    "\n",
    "To test, we plot our fit for $\\alpha$:"
   ]
  },
  {
   "cell_type": "code",
   "execution_count": 5,
   "metadata": {},
   "outputs": [
    {
     "name": "stdout",
     "output_type": "stream",
     "text": [
      "Caution, s_g is implemented without dependence on the experiment\n"
     ]
    },
    {
     "data": {
      "image/png": "[encoded data removed]",
      "text/plain": [
       "<Figure size 360x360 with 1 Axes>"
      ]
     },
     "metadata": {},
     "output_type": "display_data"
    }
   ],
   "source": [
    "#now plot s :\n",
    "\n",
    "z = np.linspace(0.1, 3.7, 500)\n",
    "# z = np.linspace(0.1, 2., 500)\n",
    "\n",
    "Ftab = nsig * Ssys(z, CLAR_zhangpen)\n",
    "mtab = -2.5 * np.log10(Ftab)\n",
    "\n",
    "fig = P.figure(figsize = (5,5));\n",
    "ax2 = fig.add_subplot(111)\n",
    "\n",
    "\n",
    "# ax2.plot(z, alpha(z, CLAR_zhangpen)-1, label = r\"$\\alpha-1$\")\n",
    "ax2.plot(z, 5*sg(z)-2, label = r\"$5s_g-2$\", ls = \"--\")\n",
    "# ax2.plot(z, 5*sg(z, LSST_nosgfit)-2, label = r\"$5s_g-2$ no fit\", ls = \":\")\n",
    "ax2.plot(z, 5*sg_old(z)-2, label = r\"$5s_g-2$ old fit\", ls = \"-\")\n",
    "# ax2.axhline(0, color = \"black\")\n",
    "\n",
    "# ax2.plot(z, sg(z)/sg_old(z), label = r\"$s_g$\", ls = \"--\")\n",
    "\n",
    "ax2.set_xlabel(r\"$z$\")\n",
    "ax2.set_ylim((-2, 14))\n",
    "\n",
    "\n",
    "P.legend()\n",
    "P.savefig(plotdir + \"alpha.pdf\")"
   ]
  },
  {
   "cell_type": "markdown",
   "metadata": {},
   "source": [
    "The rest of this notebook is plotting the stuff from Alkistis' notes which seems to work (comparable to fig 5). First I have to get $\\alpha$ right before I can compare to the quantities from Zhang&Pen directly."
   ]
  },
  {
   "cell_type": "code",
   "execution_count": 9,
   "metadata": {},
   "outputs": [
    {
     "name": "stdout",
     "output_type": "stream",
     "text": [
      "Caution, s_g is implemented without dependence on the experiment\n",
      "Caution, s_g is implemented without dependence on the experiment\n",
      "Caution, s_g is implemented without dependence on the experiment\n",
      "Caution, s_g is implemented without dependence on the experiment\n",
      "Caution, s_g is implemented without dependence on the experiment\n",
      "Caution, s_g is implemented without dependence on the experiment\n",
      "Caution, s_g is implemented without dependence on the experiment\n",
      "Caution, s_g is implemented without dependence on the experiment\n",
      "Caution, s_g is implemented without dependence on the experiment\n",
      "Caution, s_g is implemented without dependence on the experiment\n",
      "Caution, s_g is implemented without dependence on the experiment\n",
      "Caution, s_g is implemented without dependence on the experiment\n",
      "Caution, s_g is implemented without dependence on the experiment\n",
      "Caution, s_g is implemented without dependence on the experiment\n",
      "Caution, s_g is implemented without dependence on the experiment\n",
      "Caution, s_g is implemented without dependence on the experiment\n",
      "Caution, s_g is implemented without dependence on the experiment\n",
      "Caution, s_g is implemented without dependence on the experiment\n",
      "Caution, s_g is implemented without dependence on the experiment\n",
      "Caution, s_g is implemented without dependence on the experiment\n",
      "Caution, s_g is implemented without dependence on the experiment\n",
      "Caution, s_g is implemented without dependence on the experiment\n",
      "Caution, s_g is implemented without dependence on the experiment\n",
      "Caution, s_g is implemented without dependence on the experiment\n",
      "Caution, s_g is implemented without dependence on the experiment\n"
     ]
    }
   ],
   "source": [
    "#Calculate the HI X mag power spectrum Cls:\n",
    "Cl_Hxm_tab = Cl_HIxmag_CAMB(ltab, zf, dzf, zb, dzb, S_G = \"old fit\")\n",
    "Cl_Hxm_tab_LSST = Cl_HIxmag_CAMB(ltab, zf, dzf, zb, dzb, S_G = \"LSST\")\n",
    "\n",
    "\n",
    "# Cl_gxm_tab = Cl_gxmag_CAMB(ltab, zf, dzf, zb, dzb, n, CLAR_zhangpen, S_G = \"old fit\")\n"
   ]
  },
  {
   "cell_type": "code",
   "execution_count": 11,
   "metadata": {},
   "outputs": [
    {
     "data": {
      "text/plain": [
       "<matplotlib.legend.Legend at 0x1155acb50>"
      ]
     },
     "execution_count": 11,
     "metadata": {},
     "output_type": "execute_result"
    },
    {
     "data": {
      "image/png": "[encoded data removed]",
      "text/plain": [
       "<Figure size 504x360 with 1 Axes>"
      ]
     },
     "metadata": {},
     "output_type": "display_data"
    }
   ],
   "source": [
    "#plot it:\n",
    "fig = P.figure(); ax = fig.add_subplot(111);\n",
    "\n",
    "ax.loglog(ltab, Cl_Hxm_tab*ltab**2 / 2 / pi, label = \"HI x mag\")\n",
    "ax.loglog(ltab, Cl_Hxm_tab_LSST*ltab**2 / 2 / pi, label = \"HI x mag LSST\")\n",
    "\n",
    "ax.set_xlabel(\"$\\ell$\")\n",
    "ax.set_ylabel(\"$C_\\ell^\\mathrm{HI, \\mu} \\ell^2/(2\\pi)$\")\n",
    "\n",
    "ax.set_xlim((250,25000))\n",
    "# ax.set_ylim((1e-4, 6e-1))\n",
    "# ax.set_ylim((1e-6, 6e-1))\n",
    "# ax.legend()\n",
    "P.tight_layout()\n",
    "\n",
    "P.legend()\n",
    "# P.savefig(plotdir + \"HIxmag_Cls.pdf\")"
   ]
  },
  {
   "cell_type": "markdown",
   "metadata": {},
   "source": [
    "I think our $C_\\ell^\\mathrm{HI, mag}$ should match $C_\\ell^{\\mu g}$ Fig. 5 in Zhang&Pen almost, which it does! Both calculations from Alkistis' notes and following Z&P match. They are not exactly like in fig 5 because there they don't tell us what alpha they use exactly...\n",
    "\n",
    "The main difference in the calculations is that Alkistis takes $s_g$ out of the integral, whereas in Z&P it's inside. As long as redshift bins are small I would not expect that to be significant.\n",
    "\n",
    "[Their $\\ell$ dependece is $C_\\ell^{\\mu g} \\sim \\Delta_m^2(\\ell/r(z_f), z_f) / l^3$.\n",
    "\n",
    "For us it's $C_\\ell^\\mathrm{HI, mag} \\sim P((\\ell + 1/2)/r(z),z))$.]\n",
    "\n",
    "Next step: get error on gxmag"
   ]
  },
  {
   "cell_type": "markdown",
   "metadata": {},
   "source": [
    "NOW: signal to noise!!!"
   ]
  },
  {
   "cell_type": "code",
   "execution_count": 12,
   "metadata": {},
   "outputs": [
    {
     "name": "stdout",
     "output_type": "stream",
     "text": [
      "foreground from 0.85 to 1.35\n",
      "background from 1.45 to 3.7\n"
     ]
    }
   ],
   "source": [
    "#making new zf:\n",
    "\n",
    "# zf = 0.9\n",
    "# dzf = 0.05\n",
    "zf = 1.1\n",
    "dzf = 0.25\n",
    "zbmax = 3.7\n",
    "zbmin = zf + dzf + 0.1\n",
    "zb = (zbmin + zbmax)/2\n",
    "dzb = (zbmax - zbmin)/2\n",
    "# zb = 1.7\n",
    "# dzb = 0.2\n",
    "\n",
    "\n",
    "lstart = 10; lend = 20000; \n",
    "lNN = 150\n",
    "# ltab = np.linspace(lstart, lend, lNN, dtype = int)\n",
    "ltab = np.unique(np.logspace(np.log10(lstart), np.log10(lend), lNN, dtype = int))\n",
    "lN = len(ltab)\n",
    "p_func_list = [C_l_HIHI_CAMB, C_l_gg_CAMB, Cl_HIxmag_CAMB]\n",
    "powspeclist = [p_func_list[0](ltab, zfmin, zfmax),\n",
    "               p_func_list[1](ltab, zbmin, zbmax),\n",
    "               p_func_list[2](ltab, zf, dzf, zb, dzb)]\n",
    "#                p_func_list[2](ltab, zf, dzf, zb, dzb, S_G = 'old fit')]\n",
    "print \"foreground from {} to {}\".format(zf-dzf, zf+dzf)\n",
    "\n",
    "print \"background from {} to {}\".format(zb-dzb, zb+dzb)\n"
   ]
  },
  {
   "cell_type": "code",
   "execution_count": 13,
   "metadata": {},
   "outputs": [],
   "source": [
    "# #check the different interferometer noises:\n",
    "\n",
    "# Nell2 = Cl_interferom_noise_slow(ltab, zf -dzf, zf + dzf, hirax)\n",
    "# Nell1 = Cl_interferom_noise(ltab, zf - dzf, zf + dzf, hirax)\n",
    "\n",
    "# fig = P.figure(); ax = fig.add_subplot(111);\n",
    "# # ax.loglog(ltab, Nell1)\n",
    "# # ax.loglog(ltab, Nell2, ls = \"--\")\n",
    "# ax.semilogx(ltab, Nell2/Nell1)\n",
    "# ax.set_ylim((0.8,2))\n",
    "# ax.set_xlabel(r\"$\\ell$\")\n",
    "# ax.set_ylabel(\"old noise / new noise\")\n",
    "# P.savefig(plotdir + \"noisetest.pdf\")"
   ]
  },
  {
   "cell_type": "code",
   "execution_count": 14,
   "metadata": {},
   "outputs": [
    {
     "name": "stdout",
     "output_type": "stream",
     "text": [
      "we assume d_ell = 1\n",
      "We assume a perfect galaxy survey!\n",
      "calculating single dish autocorrelation noise\n",
      "we assume d_ell = 1\n",
      "We assume a perfect galaxy survey!\n",
      "calculating interferometer noise...\n",
      "we assume d_ell = 1\n"
     ]
    },
    {
     "name": "stderr",
     "output_type": "stream",
     "text": [
      "magmod.py:702: RuntimeWarning: overflow encountered in exp\n",
      "  oneover_W_ell = np.exp( ltab**2 * sigb**2) #beam smoothing function.\n"
     ]
    }
   ],
   "source": [
    "#without shot noise:\n",
    "S2N_SKA = S2N(ltab, zf, dzf, zb, dzb, powspeclist, SURVEY=SKA)\n",
    "S2N_HIRAX = S2N(ltab, zf, dzf, zb, dzb, powspeclist, SURVEY=hirax)\n",
    "# S2N_HIRAX512 = S2N(ltab, zf, dzf, zb, dzb, powspeclist, SURVEY=hirax512)\n",
    "S2N_CV = S2N(ltab, zf, dzf, zb, dzb, powspeclist, SURVEY=\"CV\")"
   ]
  },
  {
   "cell_type": "code",
   "execution_count": 15,
   "metadata": {},
   "outputs": [
    {
     "name": "stdout",
     "output_type": "stream",
     "text": [
      "we assume d_ell = 1\n",
      "We use all sky for calculating N(z)\n",
      "calculating single dish autocorrelation noise\n",
      "we assume d_ell = 1\n",
      "We use all sky for calculating N(z)\n",
      "calculating interferometer noise...\n"
     ]
    }
   ],
   "source": [
    "#with shot noise:\n",
    "S2N_SKA_LSST = S2N(ltab, zf, dzf, zb, dzb, powspeclist, SURVEY=[SKA, LSST])\n",
    "S2N_HIRAX_LSST = S2N(ltab, zf, dzf, zb, dzb, powspeclist, SURVEY=[hirax, LSST])\n",
    "# S2N_HIRAX512_LSST = S2N(ltab, zf, dzf, zb, dzb, powspeclist, SURVEY=[hirax512, LSST])"
   ]
  },
  {
   "cell_type": "code",
   "execution_count": 16,
   "metadata": {},
   "outputs": [],
   "source": [
    "# SKAcum = np.sqrt(np.array([np.sum( S2N_SKA[:i]**2) for i in range(len(S2N_SKA))]))\n",
    "# cbHIRAXcum = np.sqrt(np.array([np.nansum( S2N_cbHIRAX[:i]**2) for i in range(len(S2N_cbHIRAX))]))\n",
    "# cbHIRAX_LSSTcum = np.sqrt(np.array([np.nansum( S2N_cbHIRAX_LSST[:i]**2) for i in range(len(S2N_cbHIRAX_LSST))]))\n",
    "# SKA_LSSTcum = np.sqrt(np.array([np.sum( S2N_SKA_LSST[:i]**2) for i in range(len(S2N_SKA_LSST))]))\n",
    "# CVcum = np.sqrt(np.array([np.sum( S2N_CV[:i]**2) for i in range(len(S2N_CV))]))"
   ]
  },
  {
   "cell_type": "code",
   "execution_count": 17,
   "metadata": {},
   "outputs": [
    {
     "data": {
      "text/plain": [
       "(0.1, 16.103173921352273)"
      ]
     },
     "execution_count": 17,
     "metadata": {},
     "output_type": "execute_result"
    },
    {
     "data": {
      "image/png": "[encoded data removed]",
      "text/plain": [
       "<Figure size 864x576 with 1 Axes>"
      ]
     },
     "metadata": {},
     "output_type": "display_data"
    }
   ],
   "source": [
    "fig = P.figure(figsize = (12,8)); ax1 = fig.add_subplot(111); \n",
    "\n",
    "ax1.semilogx(ltab, S2N_SKA, label = \"SKA\", color = \"red\")\n",
    "ax1.semilogx(ltab, S2N_HIRAX, label = \"HIRAX\", color = \"grey\")\n",
    "ax1.semilogx(ltab, S2N_CV, label = \"CV\", color = \"orange\")\n",
    "\n",
    "ax1.semilogx(ltab, S2N_SKA_LSST, label = \"SKA LSST\", color = \"red\", ls = \"-.\")\n",
    "ax1.semilogx(ltab, S2N_HIRAX_LSST, label = \"HIRAX LSST\", color = \"grey\", ls = \"-.\")\n",
    "\n",
    "ax1.set_ylabel(\"$C_\\ell^{HI,\\mu} / \\Delta C_\\ell^{HI,\\mu} $\")\n",
    "ax1.set_xlabel(\"$\\ell$\")\n",
    "ax1.legend(loc = \"upper left\")\n",
    "\n",
    "ax1.set_ylim((0.1,1.5 * np.nanmax((S2N_HIRAX, S2N_SKA))))\n",
    "\n",
    "# P.savefig(plotdir + \"S2N.pdf\")"
   ]
  },
  {
   "cell_type": "markdown",
   "metadata": {},
   "source": [
    "Now playing around with the HIRAX redshift bin (using one bin at a time).\n",
    "We want to see where the galaxy shot noise of the background starts to contribute similarly to the error of HIRAX. In the plot above clearly shot noise dominates the error, for example."
   ]
  },
  {
   "cell_type": "code",
   "execution_count": null,
   "metadata": {},
   "outputs": [
    {
     "name": "stdout",
     "output_type": "stream",
     "text": [
      "HIRAX' z range: 0.7755075 to 2.0\n",
      "BIN 0: \n",
      " using \t zf from 0.7755075 to 1.020406, \n",
      " and \t zb from 1.120406 to 3.7\n",
      "we assume d_ell = 1\n",
      "We use all sky for calculating N(z)\n",
      "calculating interferometer noise...\n",
      "we assume d_ell = 1\n",
      "We use all sky for calculating N(z)\n",
      "calculating interferometer noise...\n",
      "we assume d_ell = 1\n",
      "BIN 1: \n",
      " using \t zf from 1.020406 to 1.2653045, \n",
      " and \t zb from 1.3653045 to 3.7\n",
      "we assume d_ell = 1\n",
      "We use all sky for calculating N(z)\n",
      "calculating interferometer noise...\n",
      "we assume d_ell = 1\n",
      "We use all sky for calculating N(z)\n",
      "calculating interferometer noise...\n",
      "we assume d_ell = 1\n",
      "BIN 2: \n",
      " using \t zf from 1.2653045 to 1.510203, \n",
      " and \t zb from 1.610203 to 3.7\n",
      "we assume d_ell = 1\n",
      "We use all sky for calculating N(z)\n",
      "calculating interferometer noise...\n",
      "we assume d_ell = 1\n",
      "We use all sky for calculating N(z)\n",
      "calculating interferometer noise...\n",
      "we assume d_ell = 1\n",
      "BIN 3: \n",
      " using \t zf from 1.510203 to 1.7551015, \n",
      " and \t zb from 1.8551015 to 3.7\n",
      "we assume d_ell = 1\n",
      "We use all sky for calculating N(z)\n",
      "calculating interferometer noise...\n",
      "we assume d_ell = 1\n",
      "We use all sky for calculating N(z)\n",
      "calculating interferometer noise...\n",
      "we assume d_ell = 1\n"
     ]
    }
   ],
   "source": [
    "buffer_z = 0.1 #buffer between fg and bg to avoid correlation, \n",
    "#we should pick a value more carefully later, according to photo-z measurements\n",
    "\n",
    "# zbbmax = 2.5 #maximum range of LSST\n",
    "zbbmax = 3.7 #maximum range of LSST\n",
    "# zbbmax = 4. #TEST #maximum range of LSST\n",
    "zHIRAX_min = nutoz21(800) # minimum of HIRAX\n",
    "# zHIRAX_max = nutoz21(400) # maximum of HIRAX\n",
    "zHIRAX_max = 2. # maximum of HIRAX, more does not make sense otherwise we have no galaxies left to cross correlate with\n",
    "# dzHIRAX = 0.05\n",
    "dzHIRAX = 0.1\n",
    "# dzHIRAX = 0.15\n",
    "Nstep = np.int((zHIRAX_max - zHIRAX_min) / (2 * dzHIRAX))\n",
    "print \"HIRAX' z range: {} to {}\".format(zHIRAX_min, zHIRAX_max)\n",
    "zHIRAX_allbin, steplen = np.linspace(zHIRAX_min, zHIRAX_max, Nstep, retstep = True) #lower bin edges\n",
    "zHIRAX_lowbin = zHIRAX_allbin[:-1]\n",
    "dzHIRAX = steplen/2\n",
    "zHIRAX_meanbin = zHIRAX_lowbin + dzHIRAX\n",
    "zHIRAX_highbin = zHIRAX_lowbin + 2*dzHIRAX\n",
    "NBIN = len(zHIRAX_lowbin)\n",
    "\n",
    "\n",
    "S2Nlist_full = [] #1024 dishes\n",
    "S2Nlist_512 = [] #512 dishes\n",
    "S2N_CVlist = [] #CV error\n",
    "zffli = []\n",
    "ellNL = [] #nonlinear scale according to smith et a. with knl0 = 0.14\n",
    "# zbbli = []\n",
    "# dzbli = []\n",
    "for i in range(NBIN):\n",
    "#     print zHIRAX_lowbin[i], zHIRAX_meanbin[i], zHIRAX_highbin[i]\n",
    "\n",
    "\n",
    "    zff = zHIRAX_meanbin[i]\n",
    "    zbbmin = zff + dzHIRAX + buffer_z\n",
    "    zbb = (zbbmin + zbbmax)/2\n",
    "    dzbb = (zbbmax - zbbmin)/2\n",
    "#     dzbli.append(dzbb)\n",
    "#     zbbli.append(zbbmin)\n",
    "    zffli.append(zff)\n",
    "    \n",
    "    k_NL = 0.14*(1+zbb)#background redshift is relevant\n",
    "    ellNL.append(k_NL * rCom(zbb))\n",
    "    \n",
    "    powwwspeclist = [p_func_list[0](ltab, zff - dzHIRAX, zff + dzHIRAX),\n",
    "                   p_func_list[1](ltab, zbbmin, zbbmax),\n",
    "#                    p_func_list[2](ltab, zff, dzHIRAX, zbb, dzbb, S_G = 'old fit')]\n",
    "                   p_func_list[2](ltab, zff, dzHIRAX, zbb, dzbb)]\n",
    "    \n",
    "    print \"BIN {}: \\n using \\t zf from {} to {}, \\n and \\t zb from {} to {}\".format(i, zff-dzHIRAX, zff + dzHIRAX, \n",
    "                                                                                   zbbmin, zbbmax )\n",
    "    S2Nlist_full.append( S2N(ltab, zff, dzHIRAX, zbb, dzbb, powwwspeclist, SURVEY=[hirax, LSST]) )\n",
    "    S2Nlist_512.append( S2N(ltab, zff, dzHIRAX, zbb, dzbb, powwwspeclist, SURVEY=[hirax512, LSST]) )\n",
    "    S2N_CVlist.append( S2N(ltab, zff, dzHIRAX, zbb, dzbb, powwwspeclist, SURVEY=\"CV\"))\n"
   ]
  },
  {
   "cell_type": "code",
   "execution_count": null,
   "metadata": {},
   "outputs": [],
   "source": [
    "#doing things for SKA band 1:\n",
    "\n",
    "#fg:\n",
    "b1_nutot= 435.              # Total bandwidth of *entire* survey [MHz]\n",
    "b1_numax= 1015.           # Max. freq. of survey\n",
    "b1_numin = b1_numax - b1_nutot\n",
    "b1_nu = (b1_numin + b1_numax)/2\n",
    "zmax_b1 = nutoz21(b1_numin)\n",
    "zmin_b1 = nutoz21(b1_numax)\n",
    "dzf_b1 = (zmax_b1 - zmin_b1)/2\n",
    "zf_b1 = (zmax_b1 + zmin_b1)/2\n",
    "#bg:\n",
    "zbmin_b1 = zmax_b1 + buffer_z\n",
    "zb_b1 = (zbmin_b1 + zbbmax)/2\n",
    "dzb_b1 = (zbbmax - zbmin_b1)/2\n",
    "\n",
    "\n",
    "# and band 2:     \n",
    "b2_nutot= 470.          # Total bandwidth of *entire* survey [MHz]\n",
    "b2_numax= 1420.        # Max. freq. of survey\n",
    "b2_numin = b2_numax - b2_nutot\n",
    "b2_nu = (b2_numin + b2_numax)/2\n",
    "zmax_b2 = nutoz21(b2_numin)\n",
    "zmin_b2 = np.amax((nutoz21(b2_numax), 1.1e-3)) #zmin shouldn't be too small for the integration...\n",
    "dzf_b2 = (zmax_b2 - zmin_b2)/2\n",
    "zf_b2 = (zmax_b2 + zmin_b2)/2\n",
    "#bg:\n",
    "zbmin_b2 = zmax_b2 + buffer_z\n",
    "zb_b2 = (zbmin_b2 + zbbmax)/2\n",
    "dzb_b2 = (zbbmax - zbmin_b2)/2\n",
    "\n",
    "powspeclist_b1 = [p_func_list[0](ltab, zmin_b1, zmax_b1),\n",
    "                   p_func_list[1](ltab, zbmin_b1, zbbmax),\n",
    "#                    p_func_list[2](ltab, zf_b1, dzf_b1, zb_b1, dzb_b1, S_G = \"old fit\")]\n",
    "                   p_func_list[2](ltab, zf_b1, dzf_b1, zb_b1, dzb_b1)]\n",
    "\n",
    "powspeclist_b2 = [p_func_list[0](ltab, zmin_b2, zmax_b2),\n",
    "                   p_func_list[1](ltab, zbmin_b2, zbbmax),\n",
    "#                    p_func_list[2](ltab, zf_b2, dzf_b2, zb_b2, dzb_b2, S_G = \"old fit\")]\n",
    "                   p_func_list[2](ltab, zf_b2, dzf_b2, zb_b2, dzb_b2)]\n",
    "\n",
    "S2N_SKAb1_LSST = S2N(ltab, zf_b1, dzf_b1, zb_b1, dzb_b1, powspeclist_b1, SURVEY=[SKA, LSST])\n",
    "S2N_SKAb2_LSST = S2N(ltab, zf_b2, dzf_b2, zb_b2, dzb_b2, powspeclist_b2, SURVEY=[SKA, LSST])\n",
    "\n",
    "S2N_CV_b1 = S2N(ltab, zf_b1, dzf_b1, zb_b1, dzb_b1, powspeclist_b1, SURVEY=\"CV\")\n",
    "S2N_CV_b2 = S2N(ltab, zf_b2, dzf_b2, zb_b2, dzb_b2, powspeclist_b2, SURVEY=\"CV\")\n",
    "\n"
   ]
  },
  {
   "cell_type": "code",
   "execution_count": null,
   "metadata": {},
   "outputs": [],
   "source": [
    "#plotting HIRAX and SKA for different binnings:\n",
    "\n",
    "fig = P.figure(figsize = (12,8)); ax1 = fig.add_subplot(111); \n",
    "\n",
    "\n",
    "color_array = np.linspace(0,1, NBIN)\n",
    "\n",
    "for i in range(NBIN):\n",
    "    ci = color_array[i]\n",
    "    zfmax_now = np.around(zffli[i] + dzHIRAX,2)\n",
    "    zfmin_now = np.around(zffli[i] - dzHIRAX,2)\n",
    "    ax1.semilogx(ltab, S2Nlist_full[i], \n",
    "                 label = \"zf = {} to {}\".format(zfmin_now, zfmax_now),\n",
    "                 color=P.cm.Set1(ci), ls = \"-.\")\n",
    "    ax1.semilogx(ltab, S2Nlist_512[i], \n",
    "                 color=P.cm.Set1(ci), ls = \":\")\n",
    "#     ax1.semilogx(ltab, S2N_CVlist[i], ls = \"-\", \n",
    "#                  color=P.cm.Set1(ci))\n",
    "#     ax1.axvline(ellNL[i],\n",
    "#                color=P.cm.Set1(ci))\n",
    "\n",
    "ax1.fill_between( np.array( [ellNL[0],ellNL[-1] ]), -10, 100, color = 'grey', alpha = 0.4)\n",
    "# ax1.semilogx(ltab, S2N_CVlist[0], ls = \"-\", color='black')\n",
    "#SKA:\n",
    "ax1.semilogx(ltab, S2N_SKAb1_LSST, \n",
    "             label = \"SKA b1 zf = {} to {}\".format(np.around(zmin_b1,1), np.around(zmax_b1,1)), color = \"grey\", ls = \"-.\")\n",
    "ax1.semilogx(ltab, S2N_CV_b1, color = \"grey\", ls = \"-\")\n",
    "\n",
    "ax1.semilogx(ltab, S2N_SKAb2_LSST, label = \"SKA b2 zf = {} to {}\".format(np.around(zmin_b2,1), np.around(zmax_b2,1)), color = \"black\", ls = \"-.\")\n",
    "# ax1.semilogx(ltab, S2N_CV_b2, color = \"black\", ls = \"-\")\n",
    "\n",
    "    \n",
    "ax1.set_ylabel(\"$C_\\ell^{HI,\\mu} / \\Delta C_\\ell^{HI,\\mu} $\")\n",
    "ax1.set_xlabel(\"$\\ell$\")\n",
    "ax1.legend(loc = \"upper left\", fontsize = 16)\n",
    "# ax1.set_ylim((0,20))\n",
    "ax1.set_ylim((0,8))\n",
    "ax.set_xlim((1e2, 1e4))\n",
    "\n",
    "# P.savefig(plotdir + \"S2N_SKA_HIRAX.pdf\")"
   ]
  },
  {
   "cell_type": "markdown",
   "metadata": {},
   "source": [
    "In the plot above, solid lines are for CV limit, dotted lines for 512 dish HIRAX, and dash-dotted lines for full HIRAX. Vertical lines are the nonlinear scale."
   ]
  },
  {
   "cell_type": "code",
   "execution_count": null,
   "metadata": {},
   "outputs": [],
   "source": [
    "# fig = P.figure(figsize = (12,8)); ax1 = fig.add_subplot(111); \n",
    "\n",
    "\n",
    "# ax1.semilogx(ltab, CVcum, color = \"orange\", label = \"CV\")\n",
    "# ax1.semilogx(ltab, cbHIRAXcum, color = \"black\", label = \"HIRAX\")\n",
    "# ax1.semilogx(ltab, cbHIRAX_LSSTcum, ls = \"-.\", color = \"black\", label = \"HIRAX LSST\")\n",
    "# ax1.semilogx(ltab, SKAcum, color = \"red\", label = \"SKA\")\n",
    "# ax1.semilogx(ltab, SKA_LSSTcum, ls = \"-.\", color = \"red\", label = \"SKA LSST\")\n",
    "\n",
    "# ax1.set_ylabel(\"$\\mathrm{cum~} S/N$\")\n",
    "# ax1.set_xlabel(\"$\\ell$\")\n",
    "# # ax1.legend(loc = \"upper left\")\n",
    "\n",
    "# ax1.set_ylim((0.1,1.5 * np.amax((SKAcum, cbHIRAXcum))))\n",
    "# P.savefig(plotdir + \"cum_S2N.pdf\")"
   ]
  },
  {
   "cell_type": "markdown",
   "metadata": {},
   "source": [
    "This does not look bad! But we should check the noise calculations! I feel like the signal to noise is really high (maybe too high).\n",
    "\n",
    "TODO:\n",
    "\n",
    "-- look again at $s_g$... does this depend on our instrument??\n",
    "\n",
    "-- Sort out the sky coverage issue when combingin HI and galaxy surveys (figure out the overlap of SKA/HIRAX with LSST)\n",
    "\n",
    "-- Shot noise calculation might be wrong, I am unsure.\n",
    "\n",
    "-- Interferometer noise might be wrong, I am unsure.\n",
    "\n",
    "-- Single dish noise and beam should be okay, but we should check\n",
    "\n",
    "# --Most importantly get something to check the noise calculations!"
   ]
  },
  {
   "cell_type": "markdown",
   "metadata": {},
   "source": [
    "To check the noise here are a few plots that show the different contributions:"
   ]
  },
  {
   "cell_type": "code",
   "execution_count": null,
   "metadata": {},
   "outputs": [],
   "source": [
    "#look at different error contributions\n",
    "\n",
    "#first get the 3 different signals:\n",
    "Xsignal = powspeclist[2]\n",
    "hsignal = powspeclist[0]\n",
    "gsignal = powspeclist[1]"
   ]
  },
  {
   "cell_type": "code",
   "execution_count": null,
   "metadata": {},
   "outputs": [],
   "source": [
    "#now for CV\n",
    "cverr = DELTA_Cl_HIxmag(ltab, zf, dzf, zb, dzb, powspeclist, SURVEY = \"CV\")\n",
    "#for HIRAX\n",
    "HIRAXerr = DELTA_Cl_HIxmag(ltab, zf, dzf, zb, dzb, powspeclist, SURVEY = [hirax, LSST])\n",
    "#for SKA:\n",
    "SKAerr = DELTA_Cl_HIxmag(ltab, zf, dzf, zb, dzb, powspeclist, SURVEY = [SKA, LSST])\n",
    "\n",
    "#LSST shot noise:\n",
    "LSSTshot = shotnoise(zb, dzb, LSST, NINT = 200)\n",
    "\n",
    "#HIRAX N_ell\n",
    "HIRAXNell = Cl_interferom_noise(ltab,zf-dzf,zf+dzf, hirax)\n",
    "\n",
    "#SKA N_ell\n",
    "SKANell = noise_cls_single_dish(ltab, ztonu21(zf), SKA, 256)"
   ]
  },
  {
   "cell_type": "code",
   "execution_count": null,
   "metadata": {},
   "outputs": [],
   "source": [
    "fsky_hirax = hirax[\"S_area\"] /4/np.pi\n",
    "fsky_SKA = SKA[\"S_area\"] /4/np.pi\n",
    "\n",
    "\n",
    "####cosmic variances:\n",
    "\n",
    "SKACV_factor = np.sqrt(2)/np.sqrt((2*ltab + 1) * fsky_SKA)\n",
    "HIRAXCV_factor = np.sqrt(2)/np.sqrt((2*ltab + 1) * fsky_hirax)\n",
    "#cross:\n",
    "XCVSKA = np.sqrt(Xsignal**2 + hsignal * gsignal) * SKACV_factor\n",
    "XCVHIRAX = np.sqrt(Xsignal**2 + hsignal * gsignal) *HIRAXCV_factor\n",
    "#HI:\n",
    "HICVSKA = hsignal * SKACV_factor\n",
    "HICVHIRAX = hsignal * HIRAXCV_factor\n",
    "#gal:\n",
    "GCVSKA = gsignal * SKACV_factor\n",
    "GCVHIRAX = gsignal * HIRAXCV_factor\n",
    "\n",
    "#noise contribution in the cross power spectrum:\n",
    "XnoiseSKA = np.sqrt(hsignal*LSSTshot + gsignal*SKANell + LSSTshot*SKANell)\n",
    "XnoiseHIRAX = np.sqrt(hsignal*LSSTshot + gsignal*HIRAXNell + LSSTshot*HIRAXNell)"
   ]
  },
  {
   "cell_type": "code",
   "execution_count": null,
   "metadata": {},
   "outputs": [],
   "source": [
    "#first all for HI,HI power spectrum:\n",
    "\n",
    "fig = P.figure(figsize = (13,8)); ax = fig.add_subplot(111);\n",
    "ax.loglog(ltab, hsignal, label = r\"$C_\\ell^\\mathrm{HI, HI}$\")\n",
    "\n",
    "ax.loglog(ltab, (hsignal + HIRAXNell) * HIRAXCV_factor, label = \"HIRAX total error\", color = \"grey\")\n",
    "ax.loglog(ltab, HIRAXNell * HIRAXCV_factor, label = r\"HIRAX noise and beam error\", color = \"grey\", ls = \"-.\")\n",
    "ax.loglog(ltab, HICVHIRAX, label = \"HIRAX CV error\", color = 'grey', ls = \"--\")\n",
    "\n",
    "\n",
    "ax.loglog(ltab, (hsignal + SKANell) * SKACV_factor, label = \"SKA total error\", color = 'red')\n",
    "ax.loglog(ltab, HICVSKA, label = \"SKA CV error\", color = 'red', ls = \"--\")\n",
    "ax.loglog(ltab, SKANell * SKACV_factor, label = r\"SKA noise and beam error\", color = \"red\", ls = \"-.\")\n",
    "\n",
    "ax.set_ylim((1e-10,6e-6))\n",
    "\n",
    "ax.set_xlabel(r\"$\\ell$\")\n",
    "P.legend(fontsize = 20, loc = \"upper right\")\n",
    "P.tight_layout()\n",
    "\n",
    "# P.savefig(plotdir + \"HIHI_error_contributions.pdf\")"
   ]
  },
  {
   "cell_type": "code",
   "execution_count": null,
   "metadata": {},
   "outputs": [],
   "source": [
    "#now for galaxies:\n",
    "\n",
    "fig = P.figure(figsize = (14,9)); ax = fig.add_subplot(111);\n",
    "ax.loglog(ltab, gsignal, label = r\"$C_\\ell^\\mathrm{g, g}$\")\n",
    "\n",
    "ax.loglog(ltab, (gsignal + LSSTshot) * HIRAXCV_factor, label = \"total error\", color = \"magenta\")\n",
    "ax.loglog(ltab, LSSTshot * HIRAXCV_factor, label = r\" $C_\\mathrm{shot}$ error\", color = \"magenta\", ls = \"-.\")\n",
    "ax.loglog(ltab, GCVHIRAX, label = \"CV error\", color = 'magenta', ls = \"--\")\n",
    "ax.set_title(r\"using $f_\\mathrm{sky}$ of HIRAX\")\n",
    "\n",
    "ax.set_ylim((3e-10, 2e-6))\n",
    "ax.set_xlabel(r\"$\\ell$\")\n",
    "P.legend(loc = \"lower left\")\n",
    "P.tight_layout()\n",
    "\n",
    "# P.savefig(plotdir + \"GG_error_contributions.pdf\")"
   ]
  },
  {
   "cell_type": "code",
   "execution_count": null,
   "metadata": {},
   "outputs": [],
   "source": [
    "#last but not least the HIxmag power spectrum:\n",
    "\n",
    "fig = P.figure(figsize = (10,7)); ax = fig.add_subplot(111);\n",
    "ax.loglog(ltab, Xsignal, label = r\"$C_\\ell^{\\mathrm{HI}, \\mu}$\")\n",
    "\n",
    "ax.loglog(ltab, HIRAXerr, label = \"HIRAX total error\", color = \"grey\")\n",
    "ax.loglog(ltab, XnoiseHIRAX * HIRAXCV_factor, label = \"HIRAX and LSST noise\", color = \"grey\", ls = \"-.\")\n",
    "ax.loglog(ltab, XCVHIRAX, label = \"HIRAX CV error\", color = 'grey', ls = \"--\")\n",
    "\n",
    "\n",
    "ax.loglog(ltab, SKAerr, label = \"SKA total error\", color = 'red')\n",
    "ax.loglog(ltab, XCVSKA, label = \"SKA CV error\", color = 'red', ls = \"--\")\n",
    "ax.loglog(ltab, XnoiseSKA * SKACV_factor, label = \"SKA and LSST noise\", color = \"red\", ls = \"-.\")\n",
    "\n",
    "ax.set_xlabel(r\"$\\ell$\")\n",
    "P.legend(fontsize = 18, loc = \"lower left\")\n",
    "ax.set_ylim((1e-9,2e-6))\n",
    "\n",
    "P.tight_layout()\n",
    "# P.savefig(plotdir + \"X_error_contributions.pdf\")"
   ]
  },
  {
   "cell_type": "code",
   "execution_count": null,
   "metadata": {},
   "outputs": [],
   "source": [
    "# # plot to compare with alkistis, the wiggles in the galaxy signal:\n",
    "\n",
    "# zbbb = 0.75; dzbbb1 = 0.25; dzbbb2 = 0.05;\n",
    "# gsigg1 = p_func_list[1](ltab, zbbb-dzbbb1, zbbb+dzbbb1)\n",
    "# gsigg2 = p_func_list[1](ltab, zbbb-dzbbb2, zbbb+dzbbb2)\n",
    "\n",
    "# fig = P.figure(); ax = fig.add_subplot(111);\n",
    "# ax.loglog(ltab, gsigg1, label = \"dz = {}\".format(dzbbb1))\n",
    "# ax.loglog(ltab, gsigg2, label = \"dz = {}\".format(dzbbb2))\n",
    "# ax.set_title(\"mean z = {}\".format(zbbb))\n",
    "\n",
    "# ax.legend()\n",
    "# P.savefig(\"test.pdf\")"
   ]
  },
  {
   "cell_type": "code",
   "execution_count": null,
   "metadata": {},
   "outputs": [],
   "source": []
  }
 ],
 "metadata": {
  "kernelspec": {
   "display_name": "Python 2",
   "language": "python",
   "name": "python2"
  },
  "language_info": {
   "codemirror_mode": {
    "name": "ipython",
    "version": 2
   },
   "file_extension": ".py",
   "mimetype": "text/x-python",
   "name": "python",
   "nbconvert_exporter": "python",
   "pygments_lexer": "ipython2",
   "version": "2.7.15"
  }
 },
 "nbformat": 4,
 "nbformat_minor": 2
}
