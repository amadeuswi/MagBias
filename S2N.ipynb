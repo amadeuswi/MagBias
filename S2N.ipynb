{
 "cells": [
  {
   "cell_type": "code",
   "execution_count": null,
   "metadata": {
    "collapsed": false
   },
   "outputs": [],
   "source": [
    "%matplotlib inline\n",
    "\n",
    "from __future__ import division\n",
    "import os\n",
    "import sys\n",
    "from scipy import integrate\n",
    "\n",
    "import numpy as np\n",
    "from numpy import pi,sin,cos,tan,e,arctan,arcsin,arccos,sqrt\n",
    "from numpy.random import randn\n",
    "import matplotlib\n",
    "import matplotlib.pyplot as P\n",
    "\n",
    "\n",
    "matplotlib.rcParams['figure.figsize'] = (7, 5)\n",
    "P.rcParams['text.usetex'] = True  # not really needed\n",
    "P.rcParams['text.latex.preamble'] = [r'\\usepackage{amsmath}'] #for \\text command\n",
    "P.rcParams[\"font.size\"] = 24\n",
    "P.rc('xtick', labelsize=18) \n",
    "P.rc('ytick', labelsize=18)\n",
    "# P.rc('xtick', labelsize=20) \n",
    "# P.rc('ytick', labelsize=20)\n",
    "np.set_printoptions(threshold=np.nan)\n",
    "\n",
    "\n",
    "sys.path.append(\"/Users/amadeus/Documents/10.semester/ma\")\n",
    "from magmod import P_cdm_BBKS, D_z, rCom, H_0, c, H_z, E_z, Omega_m, W_tophat, T_obs, nutoz21"
   ]
  },
  {
   "cell_type": "code",
   "execution_count": null,
   "metadata": {
    "collapsed": false
   },
   "outputs": [],
   "source": [
    "#preliminary, to be changed!!\n",
    "bHI = 1\n",
    "bgal = 1\n",
    "\n",
    "lmin = 250; lmax = 25000 # lmin and lmax for Cl calculation\n",
    "# lmin = 1; lmax = 1000 # lmin and lmax for Cl calculation\n",
    "# ltab = np.arange(lmin,lmax)\n",
    "ltab = np.arange(lmin,lmax, 100)\n",
    "\n",
    "zf = 0.75\n",
    "dzf = 0.25\n",
    "zfmin = zf - dzf; zfmax = zf + dzf\n",
    "\n",
    "zb = (1.5 + 1.9)/2\n",
    "dzb = 1.9 - zb\n",
    "zbmin = zb - dzb; zbmax = zb + dzb\n",
    "\n",
    "print \"foreground from {} to {}\".format(zfmin, zfmax)\n",
    "print \"background from {} to {}\".format(zbmin, zbmax)"
   ]
  },
  {
   "cell_type": "markdown",
   "metadata": {},
   "source": [
    "Some functions as defined in Alkistis' notes:"
   ]
  },
  {
   "cell_type": "code",
   "execution_count": null,
   "metadata": {
    "collapsed": true
   },
   "outputs": [],
   "source": [
    "def sg(z): #number count slope. Fit taken from eq 23 in 1611.01322v2\n",
    "    n0 = 0.132\n",
    "    n1 = 0.259\n",
    "    n2 = 0.281\n",
    "    n3 = 0.691\n",
    "    n4 = 0.409\n",
    "    n5 = 0.152\n",
    "    \n",
    "    return n0 + n1*z + n2*z**2 + n3*z**3 + n4*z**4 + n5*z**5\n",
    "    \n",
    "\n",
    "\n",
    "def g(z,zb, dzb): #lensing kernel\n",
    "    \"\"\"zb is background redshift\"\"\"\n",
    "    zmin = zb - dzb\n",
    "    zmax = zb + dzb\n",
    "    integral = integrate.quad(lambda zint: \n",
    "                              (rCom(zint) - rCom(z))/rCom(zint) * W_tophat(zint, zmin, zmax)\n",
    "                              ,z\n",
    "                              ,zmax,\n",
    "                              full_output=1)[0]\n",
    "    return rCom(z) * integral\n",
    "\n",
    "#difficult to do quick integration because integration limit appears inside the integral:\n",
    "# def g_cumtrapz(z, zb, dzb, NINT = 2000):\n",
    "#     \"\"\"zb is background redshift\"\"\"\n",
    "#     zmin = zb - dzb\n",
    "#     zmax = zb + dzb\n",
    "#     z = np.atleast_1d(z)\n",
    "#     if (z<1e-3).any() or (z>zmax).any():\n",
    "#         raise ValueError(\"z lies outside the implemented range\")\n",
    "#     zint = np.linspace(1e-3, zmax, NINT)\n",
    "#     integrand = (rCom(zint) - rCom(z))/rCom(zint) * W_tophat(zint, zmin, zmax)\n",
    "#     result = cumtrapz(integrand, aaa, initial=0.)\n",
    "#     val = interp1d(aaa[::-1], result[::-1], kind='linear', bounds_error=False)\n",
    "#     return -c*val(a) #units: Mpc\n",
    "\n",
    "\n",
    "def Cl_HIxmag(ltable, zf, zb, delta_zf, Nint = 500):\n",
    "    #note there is no T_obs factor because we want to compare with galaxy case\n",
    "    fac1 = 3/2 * H_0/c * Omega_m\n",
    "    fac2 = bHI * (5*sg(zb) - 2)\n",
    "    zmin = zf - delta_zf\n",
    "    zmax = zf + delta_zf\n",
    "    ztab = np.linspace(zmin, zmax, Nint) #do checks on this! should be 0 to inf\n",
    "    gtab = [g(zz, zb, dzb) for zz in ztab] # this is slow\n",
    "    \n",
    "    integrand=np.zeros([len(ztab),len(ltable)])\n",
    "    for il in range(len(ltable)):\n",
    "        ell = ltable[il]\n",
    "        integrand[:,il]= (1+ztab) / E_z(ztab) * W_tophat(ztab, zfmin, zfmax) * gtab / rCom(ztab)**2 * P_cdm_BBKS(( ell + 1/2)/rCom(ztab)) * D_z(ztab)**2\n",
    "    result= fac1 * fac2 * np.trapz(integrand,ztab,axis=0)\n",
    "    return result\n",
    "    \n",
    "                        "
   ]
  },
  {
   "cell_type": "markdown",
   "metadata": {},
   "source": [
    "Galaxy and HI autocorrelation Cls:"
   ]
  },
  {
   "cell_type": "code",
   "execution_count": null,
   "metadata": {
    "collapsed": true
   },
   "outputs": [],
   "source": [
    "def C_l_BBKS_HIHI(ltable,zmin,zmax, Nint = 500):\n",
    "    \"\"\"arguments: ell array, zmin, zmax\n",
    "    returns: Cl as array\"\"\"\n",
    "    ztable = np.linspace(zmin, zmax, Nint)\n",
    "    integrand=np.zeros([len(ztable),len(ltable)])\n",
    "    for l in range(len(ltable)):\n",
    "        #for the moment we divide out T_obs to compare with the galaxy results\n",
    "        integrand[:,l]=E_z(ztable)*(W_tophat(ztable,zmin,zmax)*D_z(ztable)/rCom(ztable))**2*P_cdm_BBKS((ltable[l]+1/2)/rCom(ztable))\n",
    "    result=bHI* H_0/c*np.trapz(integrand,ztable,axis=0)\n",
    "    return result\n",
    "\n",
    "\n",
    "def C_l_BBKS_gg(ltable,zmin,zmax, Nint = 500):\n",
    "    \"\"\"arguments: ell array, zmin, zmax\n",
    "    returns: Cl as array\"\"\"\n",
    "    ztable = np.linspace(zmin, zmax, Nint)\n",
    "    integrand=np.zeros([len(ztable),len(ltable)])\n",
    "    for l in range(len(ltable)):\n",
    "        integrand[:,l]=E_z(ztable)*(W_tophat(ztable,zmin,zmax)*D_z(ztable)/rCom(ztable))**2*P_cdm_BBKS((ltable[l]+1/2)/rCom(ztable))\n",
    "    result=bgal* H_0/c*np.trapz(integrand,ztable,axis=0)\n",
    "    return result\n"
   ]
  },
  {
   "cell_type": "markdown",
   "metadata": {},
   "source": [
    "Signal to noise:"
   ]
  },
  {
   "cell_type": "code",
   "execution_count": null,
   "metadata": {
    "collapsed": true
   },
   "outputs": [],
   "source": [
    "def DELTA_Cl_HIxmag(ltable, zf, dzf, zb, dzb, PERFECT_SURVEY = 1):\n",
    "    zfmin = zf - dzf; zfmax = zf+dzf\n",
    "    zbmin = zb-dzb; zbmax = zb+dzb\n",
    "    \n",
    "    #perfect survey:\n",
    "    if PERFECT_SURVEY:\n",
    "        Cshot = np.zeros(len(ltable)); N_ell = np.zeros(len(ltable)); \n",
    "        fsky = 1; d_ell = 1;\n",
    "    \n",
    "    else:\n",
    "        return ValueError(\"only perfect survey implemented\")\n",
    "    X2 = Cl_HIxmag(ltable, zf, zb, dzf)**2\n",
    "    HIHI = C_l_BBKS_HIHI(ltable, zfmin, zfmax) + Cshot\n",
    "    gg = C_l_BBKS_gg(ltable, zbmin, zbmax) + N_ell\n",
    "    num = X2 + HIHI*gg\n",
    "    denom = (2*ltable+1) * d_ell * fsky\n",
    "    return np.sqrt(num/denom)\n",
    "\n",
    "def S2N(ltable, zf, dzf, zb, dzb, PERFECT_SURVEY = 1):\n",
    "    delt = DELTA_Cl_HIxmag(ltable, zf, dzf, zb, dzb, PERFECT_SURVEY = PERFECT_SURVEY)\n",
    "    signal = Cl_HIxmag(ltable, zf, zb, dzb)\n",
    "    return signal/delt"
   ]
  },
  {
   "cell_type": "markdown",
   "metadata": {},
   "source": [
    "Compare HIHI Cls with Fig 2 in Bingo paper:"
   ]
  },
  {
   "cell_type": "code",
   "execution_count": null,
   "metadata": {
    "collapsed": false
   },
   "outputs": [],
   "source": [
    "#compare with Fig 2 in Bingo paper:\n",
    "lbing = np.arange(1,1000)\n",
    "\n",
    "Cl_HIHI = C_l_BBKS_HIHI(lbing, nutoz21(975), nutoz21(925))\n",
    "\n",
    "\n",
    "fig = P.figure(); ax = fig.add_subplot(111);\n",
    "ax.loglog(lbing, Cl_HIHI*(lbing+1)*lbing / 2 / pi)\n",
    "\n",
    "P.show()"
   ]
  },
  {
   "cell_type": "markdown",
   "metadata": {},
   "source": [
    "which matches perfectly.\n",
    "Now plotting the HI-mag Cls from Alkistis' notes:"
   ]
  },
  {
   "cell_type": "code",
   "execution_count": null,
   "metadata": {
    "collapsed": true
   },
   "outputs": [],
   "source": [
    "Cl_Hxm = Cl_HIxmag(ltab, zf, zb, dzf)\n",
    "# Cl_gg = Cl_BBKS_gg(ltab, zfmin, zfmax)"
   ]
  },
  {
   "cell_type": "code",
   "execution_count": null,
   "metadata": {
    "collapsed": false
   },
   "outputs": [],
   "source": [
    "fig = P.figure(); ax = fig.add_subplot(111);\n",
    "ax.loglog(ltab, Cl_Hxm*ltab**2 / 2 / pi)\n",
    "ax.set_xlabel(\"$\\ell$\")\n",
    "ax.set_ylabel(\"$C_\\ell^\\mathrm{HI, \\mu} \\ell^2/(2\\pi)$\")\n",
    "# ax.plot(ltab, Cl_Hxm*ltab**2/2/pi)\n",
    "\n",
    "P.show()"
   ]
  },
  {
   "cell_type": "markdown",
   "metadata": {},
   "source": [
    "I think our $C_\\ell^\\mathrm{HI, mag}$ should match $C_\\ell^{\\mu g}$ Fig. 5 in Zhang&Pen up to a constant factor... However, the $\\ell$ dependence is totally different. They peak at around $\\ell = 10^4$ whereas this peaks below $10^3$.\n",
    "\n",
    "Their $\\ell$ dependece is $C_\\ell^{\\mu g} \\sim \\Delta_m^2(\\ell/r(z_f), z_f) / l^3$.\n",
    "\n",
    "For us it's $C_\\ell^\\mathrm{HI, mag} \\sim P((\\ell + 1/2)/r(z),z))$. Here I used the fit from BBKS: $P_m^\\mathrm{BBKS}(k) = Ak^{n_s}T_\\mathrm{BBKS}(k)$ and thus $P_m^\\mathrm{BBKS}(k) \\mathrm D^2(z) = P(k,z)$ with the growth factor $D$. As far as I know usual conventions are $P \\sim k^3 \\Delta$, so where does the $\\Delta^2$ come from? I guess it's just another convention but haven't checked yet.\n",
    "\n",
    "To summarize, I don't know how Zhang-Pen can make their $C_\\ell^{\\mu g}\\ell^2$ peak at around $\\ell \\sim 10^4$, and I think that our $\\ell$ dependence should be exactly the same. Also, the power spectrum I use is correct (checked against the bingo paper)."
   ]
  },
  {
   "cell_type": "markdown",
   "metadata": {},
   "source": [
    "NOW: signal to noise for perfect survey:"
   ]
  },
  {
   "cell_type": "code",
   "execution_count": null,
   "metadata": {
    "collapsed": false
   },
   "outputs": [],
   "source": [
    "S2N_p_tab = S2N(ltab, zf, dzf, zb, dzb, PERFECT_SURVEY=1)\n",
    "Delta_Cl_p_tab = DELTA_Cl_HIxmag(ltab, zf, dzf, zb, dzb, PERFECT_SURVEY=1)\n",
    "print zf, dzf, zb, dzb"
   ]
  },
  {
   "cell_type": "code",
   "execution_count": null,
   "metadata": {
    "collapsed": false
   },
   "outputs": [],
   "source": [
    "fig = P.figure(); ax1 = fig.add_subplot(211); \n",
    "ax2 = fig.add_subplot(212, sharex = ax1);\n",
    "ax1.semilogx(ltab, S2N_p_tab)\n",
    "ax1.set_ylim((0.1, 150))\n",
    "ax1.set_ylabel(\"S2N\")\n",
    "\n",
    "ax2.loglog(ltab, Cl_Hxm)\n",
    "ax2.loglog(ltab, Delta_Cl_p_tab, color = 'black')\n",
    "\n",
    "ax2.set_xlabel(\"$\\ell$\")\n"
   ]
  },
  {
   "cell_type": "code",
   "execution_count": null,
   "metadata": {
    "collapsed": true
   },
   "outputs": [],
   "source": []
  }
 ],
 "metadata": {
  "kernelspec": {
   "display_name": "Python 2",
   "language": "python",
   "name": "python2"
  },
  "language_info": {
   "codemirror_mode": {
    "name": "ipython",
    "version": 2
   },
   "file_extension": ".py",
   "mimetype": "text/x-python",
   "name": "python",
   "nbconvert_exporter": "python",
   "pygments_lexer": "ipython2",
   "version": "2.7.12"
  }
 },
 "nbformat": 4,
 "nbformat_minor": 2
}
