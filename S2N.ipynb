{
 "cells": [
  {
   "cell_type": "code",
   "execution_count": 1,
   "metadata": {},
   "outputs": [
    {
     "name": "stdout",
     "output_type": "stream",
     "text": [
      "sigma_8_BBKS = 0.833959881058\n"
     ]
    }
   ],
   "source": [
    "from __future__ import division\n",
    "import os\n",
    "import sys\n",
    "from scipy import integrate\n",
    "\n",
    "\n",
    "\n",
    "matplotlib.rcParams['figure.figsize'] = (7, 5)\n",
    "P.rcParams['text.usetex'] = True  # not really needed\n",
    "P.rcParams['text.latex.preamble'] = [r'\\usepackage{amsmath}'] #for \\text command\n",
    "P.rcParams[\"font.size\"] = 24\n",
    "P.rc('xtick', labelsize=18) \n",
    "P.rc('ytick', labelsize=18)\n",
    "# P.rc('xtick', labelsize=20) \n",
    "# P.rc('ytick', labelsize=20)\n",
    "np.set_printoptions(threshold=np.nan)\n",
    "\n",
    "\n",
    "sys.path.append(\"/Users/amadeus/Documents/10.semester/ma\")\n",
    "from magmod import P_cdm_BBKS, D_z, rCom, H_0, c, H_z, E_z, Omega_m, W_tophat, T_obs, nutoz21"
   ]
  },
  {
   "cell_type": "markdown",
   "metadata": {},
   "source": [
    "What does Alkistis mean with P(k,z)? Is it P(k) * D(z)^2?"
   ]
  },
  {
   "cell_type": "code",
   "execution_count": 19,
   "metadata": {},
   "outputs": [
    {
     "name": "stdout",
     "output_type": "stream",
     "text": [
      "foreground from 0.5 to 1.0\n",
      "background from 1.5 to 1.9\n"
     ]
    }
   ],
   "source": [
    "#preliminary, to be changed!!\n",
    "sg_b = 1 #background number count slope\n",
    "bHI = 1\n",
    "bgal = 1\n",
    "\n",
    "lmin = 250; lmax = 25000 # lmin and lmax for Cl calculation\n",
    "# lmin = 1; lmax = 1000 # lmin and lmax for Cl calculation\n",
    "# ltab = np.arange(lmin,lmax)\n",
    "ltab = np.arange(lmin,lmax, 100)\n",
    "\n",
    "zf = 0.75\n",
    "dzf = 0.25\n",
    "zfmin = zf - dzf; zfmax = zf + dzf\n",
    "\n",
    "zb = (1.5 + 1.9)/2\n",
    "dzb = 1.9 - zb\n",
    "zbmin = zb - dzb; zbmax = zb + dzb\n",
    "\n",
    "print \"foreground from {} to {}\".format(zfmin, zfmax)\n",
    "print \"background from {} to {}\".format(zbmin, zbmax)"
   ]
  },
  {
   "cell_type": "code",
   "execution_count": 22,
   "metadata": {},
   "outputs": [],
   "source": [
    "def g(z,zb, dzb): #lensing kernel\n",
    "    \"\"\"zb is background redshift\"\"\"\n",
    "    zmin = zb - dzb\n",
    "    zmax = zb + dzb\n",
    "    integral = integrate.quad(lambda zint: \n",
    "                              (rCom(zint) - rCom(z))/rCom(zint) * W_tophat(zint, zmin, zmax)\n",
    "                              ,z\n",
    "                              ,zmax,\n",
    "                              full_output=1)[0]\n",
    "    return rCom(z) * integral\n",
    "\n",
    "#difficult to do quick integration because integration limit appears inside the integral:\n",
    "# def g_cumtrapz(z, zb, dzb, NINT = 2000):\n",
    "#     \"\"\"zb is background redshift\"\"\"\n",
    "#     zmin = zb - dzb\n",
    "#     zmax = zb + dzb\n",
    "#     z = np.atleast_1d(z)\n",
    "#     if (z<1e-3).any() or (z>zmax).any():\n",
    "#         raise ValueError(\"z lies outside the implemented range\")\n",
    "#     zint = np.linspace(1e-3, zmax, NINT)\n",
    "#     integrand = (rCom(zint) - rCom(z))/rCom(zint) * W_tophat(zint, zmin, zmax)\n",
    "#     result = cumtrapz(integrand, aaa, initial=0.)\n",
    "#     val = interp1d(aaa[::-1], result[::-1], kind='linear', bounds_error=False)\n",
    "#     return -c*val(a) #units: Mpc\n",
    "\n",
    "\n",
    "def Cl_HIxmag(ltable, zf, zb, delta_zf, Nint = 500):\n",
    "    fac1 = 3/2 * H_0/c * Omega_m\n",
    "    fac2 = bHI * (5*sg_b - 2)\n",
    "    zmin = zf - delta_zf\n",
    "    zmax = zf + delta_zf\n",
    "    ztab = np.linspace(zmin, zmax, Nint) #do checks on this! should be 0 to inf\n",
    "    gtab = [g(zz, zb, dzb) for zz in ztab] # this is slow\n",
    "    \n",
    "    integrand=np.zeros([len(ztab),len(ltable)])\n",
    "    for il in range(len(ltable)):\n",
    "        ell = ltable[il]\n",
    "        integrand[:,il]= (1+ztab) / E_z(ztab) * W_tophat(ztab, zfmin, zfmax) * gtab / rCom(ztab)**2 * P_cdm_BBKS(( ell + 1/2)/rCom(ztab)) * D_z(ztab)**2\n",
    "    result= fac1 * fac2 * np.trapz(integrand,ztab,axis=0)\n",
    "    return result\n",
    "    \n",
    "                             \n",
    "def C_l_BBKS_HIHI(ltable,zmin,zmax, Nint = 500):\n",
    "    \"\"\"arguments: ell array, zmin, zmax\n",
    "    returns: Cl as array\"\"\"\n",
    "    ztable = np.linspace(zmin, zmax, Nint)\n",
    "    integrand=np.zeros([len(ztable),len(ltable)])\n",
    "    for l in range(len(ltable)):\n",
    "        integrand[:,l]=E_z(ztable)*(W_tophat(ztable,zmin,zmax)*T_obs(ztable)*D_z(ztable)/rCom(ztable))**2*P_cdm_BBKS((ltable[l]+1/2)/rCom(ztable))\n",
    "    result=bHI* H_0/c*np.trapz(integrand,ztable,axis=0)\n",
    "    return result\n",
    "\n",
    "\n",
    "def C_l_BBKS_gg(ltable,zmin,zmax, Nint = 500):\n",
    "    \"\"\"arguments: ell array, zmin, zmax\n",
    "    returns: Cl as array\"\"\"\n",
    "    ztable = np.linspace(zmin, zmax, Nint)\n",
    "    integrand=np.zeros([len(ztable),len(ltable)])\n",
    "    for l in range(len(ltable)):\n",
    "        integrand[:,l]=E_z(ztable)*(W_tophat(ztable,zmin,zmax)*D_z(ztable)/rCom(ztable))**2*P_cdm_BBKS((ltable[l]+1/2)/rCom(ztable))\n",
    "    result=bgal* H_0/c*np.trapz(integrand,ztable,axis=0)\n",
    "    return result\n"
   ]
  },
  {
   "cell_type": "code",
   "execution_count": 23,
   "metadata": {},
   "outputs": [],
   "source": [
    "\n",
    "Cl_Hxm = Cl_HIxmag(ltab, zf, zb, dzf)\n",
    "# Cl_gg = Cl_BBKS_gg(ltab, zfmin, zfmax)"
   ]
  },
  {
   "cell_type": "markdown",
   "metadata": {},
   "source": [
    "compare with Fig 2 in Bingo paper:"
   ]
  },
  {
   "cell_type": "code",
   "execution_count": 13,
   "metadata": {},
   "outputs": [
    {
     "data": {
      "text/plain": [
       "[<matplotlib.lines.Line2D at 0x105f87110>]"
      ]
     },
     "execution_count": 13,
     "metadata": {},
     "output_type": "execute_result"
    },
    {
     "data": {
      "image/png": "[encoded data removed]",
      "text/plain": [
       "<matplotlib.figure.Figure at 0x1051d2b10>"
      ]
     },
     "metadata": {},
     "output_type": "display_data"
    }
   ],
   "source": [
    "#compare with Fig 2 in Bingo paper:\n",
    "lbing = np.arange(1,1000)\n",
    "\n",
    "Cl_HIHI = C_l_BBKS_HIHI(lbing, nutoz21(975), nutoz21(925))\n",
    "\n",
    "\n",
    "fig = P.figure(); ax = fig.add_subplot(111);\n",
    "ax.loglog(lbing, Cl_HIHI*(lbing+1)*lbing / 2 / pi)\n"
   ]
  },
  {
   "cell_type": "code",
   "execution_count": 25,
   "metadata": {},
   "outputs": [
    {
     "data": {
      "text/plain": [
       "[<matplotlib.lines.Line2D at 0x106842790>]"
      ]
     },
     "execution_count": 25,
     "metadata": {},
     "output_type": "execute_result"
    },
    {
     "data": {
      "image/png": "[encoded data removed]",
      "text/plain": [
       "<matplotlib.figure.Figure at 0x10632bf10>"
      ]
     },
     "metadata": {},
     "output_type": "display_data"
    }
   ],
   "source": [
    "fig = P.figure(); ax = fig.add_subplot(111);\n",
    "ax.loglog(ltab, Cl_Hxm*ltab**2 / 2 / pi)\n",
    "# ax.plot(ltab, Cl_Hxm*ltab**2/2/pi)"
   ]
  },
  {
   "cell_type": "code",
   "execution_count": null,
   "metadata": {},
   "outputs": [],
   "source": []
  }
 ],
 "metadata": {
  "kernelspec": {
   "display_name": "Python 2",
   "language": "python",
   "name": "python2"
  },
  "language_info": {
   "codemirror_mode": {
    "name": "ipython",
    "version": 2
   },
   "file_extension": ".py",
   "mimetype": "text/x-python",
   "name": "python",
   "nbconvert_exporter": "python",
   "pygments_lexer": "ipython2",
   "version": "2.7.14"
  }
 },
 "nbformat": 4,
 "nbformat_minor": 2
}
