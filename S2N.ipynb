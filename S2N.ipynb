{
 "cells": [
  {
   "cell_type": "code",
   "execution_count": 1,
   "metadata": {},
   "outputs": [
    {
     "name": "stdout",
     "output_type": "stream",
     "text": [
      "sigma_8_BBKS = 0.833959881058\n"
     ]
    }
   ],
   "source": [
    "%matplotlib inline\n",
    "\n",
    "from __future__ import division\n",
    "import os\n",
    "import sys\n",
    "from scipy import integrate\n",
    "from scipy.interpolate import interp2d\n",
    "\n",
    "import numpy as np\n",
    "from numpy import pi,sin,cos,tan,e,arctan,arcsin,arccos,sqrt\n",
    "from numpy.random import randn\n",
    "import matplotlib\n",
    "import matplotlib.pyplot as P\n",
    "\n",
    "\n",
    "matplotlib.rcParams['figure.figsize'] = (7, 5)\n",
    "P.rcParams['text.usetex'] = True  # not really needed\n",
    "P.rcParams['text.latex.preamble'] = [r'\\usepackage{amsmath}'] #for \\text command\n",
    "P.rcParams[\"font.size\"] = 24\n",
    "P.rc('xtick', labelsize=18) \n",
    "P.rc('ytick', labelsize=18)\n",
    "# P.rc('xtick', labelsize=20) \n",
    "# P.rc('ytick', labelsize=20)\n",
    "np.set_printoptions(threshold=np.nan)\n",
    "\n",
    "\n",
    "sys.path.append(\"/Users/amadeus/Documents/10.semester/ma\")\n",
    "from magmod import P_cdm_BBKS, D_z, rCom, H_0, c, H_z, E_z, Omega_m, W_tophat, T_obs, nutoz21, h\n",
    "# from magmod import P_cdm_BBKS, D_z, rCom, H_0, c, H_z, E_z, Omega_m, T_obs, nutoz21, h"
   ]
  },
  {
   "cell_type": "code",
   "execution_count": 2,
   "metadata": {},
   "outputs": [
    {
     "name": "stdout",
     "output_type": "stream",
     "text": [
      "foreground from 0.295 to 0.305\n",
      "background from 1.49 to 1.51\n"
     ]
    }
   ],
   "source": [
    "#preliminary, to be changed!!\n",
    "bHI = 1\n",
    "bgal = 1\n",
    "\n",
    "lmin = 250; lmax = 25000 # lmin and lmax for Cl calculation\n",
    "# lmin = 1; lmax = 1000 # lmin and lmax for Cl calculation\n",
    "# ltab = np.arange(lmin,lmax)\n",
    "# ltab = np.arange(lmin,lmax, 1000)\n",
    "ltab = np.logspace(np.log10(lmin), np.log10(lmax), 10)\n",
    "\n",
    "\n",
    "# ################################################\n",
    "# # ZhangPen:\n",
    "# zf = 0.75\n",
    "# dzf = 0.25\n",
    "# zfmin = zf - dzf; zfmax = zf + dzf\n",
    "\n",
    "# zb = (1.5 + 1.9)/2\n",
    "# dzb = 1.9 - zb\n",
    "# zbmin = zb - dzb; zbmax = zb + dzb\n",
    "# ################################################\n",
    "\n",
    "\n",
    "\n",
    "################################################\n",
    "zf = 0.3\n",
    "dzf = 0.005\n",
    "zfmin = zf - dzf; zfmax = zf + dzf\n",
    "\n",
    "zb = 1.5\n",
    "dzb = 0.01\n",
    "zbmin = zb - dzb; zbmax = zb + dzb\n",
    "################################################\n",
    "\n",
    "\n",
    "\n",
    "# zf = .1\n",
    "# dzf = 0.06\n",
    "# zfmin = zf - dzf; zfmax = zf + dzf\n",
    "\n",
    "# zb = .4\n",
    "# dzb = 0.06\n",
    "# zbmin = zb - dzb; zbmax = zb + dzb\n",
    "\n",
    "print \"foreground from {} to {}\".format(zfmin, zfmax)\n",
    "print \"background from {} to {}\".format(zbmin, zbmax)"
   ]
  },
  {
   "cell_type": "markdown",
   "metadata": {},
   "source": [
    "Some functions as defined in Alkistis' notes:"
   ]
  },
  {
   "cell_type": "code",
   "execution_count": 3,
   "metadata": {},
   "outputs": [],
   "source": [
    "def sg(z): #number count slope. Fit taken from eq 23 in 1611.01322v2\n",
    "    n0 = 0.132\n",
    "    n1 = 0.259\n",
    "    n2 = 0.281\n",
    "    n3 = 0.691\n",
    "    n4 = 0.409\n",
    "    n5 = 0.152\n",
    "    \n",
    "    return n0 + n1*z + n2*z**2 + n3*z**3 + n4*z**4 + n5*z**5\n",
    "    \n",
    "\n",
    "\n",
    "def g(z,zcenter, halfzwidth): #lensing kernel\n",
    "    \"\"\"zb is background redshift\"\"\"\n",
    "    zmin = zcenter - halfzwidth\n",
    "    zmax = zcenter + halfzwidth\n",
    "    integral = integrate.quad(lambda zint: \n",
    "                              (rCom(zint) - rCom(z))/rCom(zint) * W_tophat(zint, zmin, zmax)\n",
    "                              ,z\n",
    "                              ,zmax,\n",
    "                              full_output=1)[0]\n",
    "    return rCom(z) * integral\n",
    "\n",
    "#difficult to do quick integration because integration limit appears inside the integral:\n",
    "# def g_cumtrapz(z, zb, dzb, NINT = 2000):\n",
    "#     \"\"\"zb is background redshift\"\"\"\n",
    "#     zmin = zb - dzb\n",
    "#     zmax = zb + dzb\n",
    "#     z = np.atleast_1d(z)\n",
    "#     if (z<1e-3).any() or (z>zmax).any():\n",
    "#         raise ValueError(\"z lies outside the implemented range\")\n",
    "#     zint = np.linspace(1e-3, zmax, NINT)\n",
    "#     integrand = (rCom(zint) - rCom(z))/rCom(zint) * W_tophat(zint, zmin, zmax)\n",
    "#     result = cumtrapz(integrand, aaa, initial=0.)\n",
    "#     val = interp1d(aaa[::-1], result[::-1], kind='linear', bounds_error=False)\n",
    "#     return -c*val(a) #units: Mpc\n",
    "\n",
    "\n",
    "def Cl_HIxmag_BBKS(ltable, zf, zb, delta_zf, Nint = 500):\n",
    "    #note there is no T_obs factor because we want to compare with galaxy case\n",
    "    fac1 = 3/2 * (H_0/c)**2 * Omega_m #no square on (H_0/c) because it cancels out\n",
    "    fac2 = bHI * (5*sg(zb) - 2)\n",
    "    zmin = zf - delta_zf\n",
    "    zmax = zf + delta_zf\n",
    "    ztab = np.linspace(zmin, zmax, Nint) #do checks on this! should be 0 to inf\n",
    "    gtab = [g(zz, zb, dzb) for zz in ztab] # this is slow\n",
    "    \n",
    "    integrand=np.zeros([len(ztab),len(ltable)])\n",
    "    for il in range(len(ltable)):\n",
    "        ell = ltable[il]\n",
    "        integrand[:,il]= (1+ztab) * W_tophat(ztab, zfmin, zfmax) * gtab / rCom(ztab)**2 * P_cdm_BBKS(( ell)/rCom(ztab)) * D_z(ztab)**2\n",
    "    result= fac1 * fac2 * np.trapz(integrand,ztab,axis=0)\n",
    "    return result\n",
    "\n",
    "def Cl_HIxmag_CAMB(ltable, zf, zb, delta_zf, Nint = 500):\n",
    "    #note there is no T_obs factor because we want to compare with galaxy case\n",
    "    fac1 = 3/2 * bHI*(H_0/c)**2 * Omega_m #no square on (H_0/c) because it cancels out\n",
    "    fac2 = bHI * (5*sg(zb) - 2)\n",
    "    zmin = zf - delta_zf\n",
    "    zmax = zf + delta_zf\n",
    "    ztab = np.linspace(zmin, zmax, Nint) #do checks on this! should be 0 to inf\n",
    "    \n",
    "    integrand=np.zeros([len(ztab),len(ltable)])\n",
    "    for il in range(len(ltable)):\n",
    "        ell = ltable[il]\n",
    "        integrand[:,il]= np.array([(1+zzz) * W_tophat(zzz, zfmin, zfmax) * g(zzz, zb, dzb) / rCom(zzz)**2 * pknl(( ell)/rCom(zzz), zzz) for zzz in ztab])\n",
    "#         integrand[:,il]= np.array([(1+zzz) * W_tophat(zzz, zfmin, zfmax) * g(zzz, zb, dzb) * rCom(zzz) * pknl(( ell)/rCom(zzz), zzz) for zzz in ztab]) #different factor of chi than in alkistis' notes (units are wrong there)\n",
    "    result= fac1 * fac2 * np.trapz(integrand,ztab,axis=0)\n",
    "    return result\n",
    "    \n",
    "                        "
   ]
  },
  {
   "cell_type": "code",
   "execution_count": 4,
   "metadata": {},
   "outputs": [],
   "source": [
    "# zf = 0.5\n",
    "# delta_zf = 0.01\n",
    "# Nint = 500\n",
    "# ell = 100\n",
    "\n",
    "# zmin = zf - delta_zf\n",
    "# zmax = zf + delta_zf\n",
    "# ztab = np.linspace(zmin, zmax, Nint) #do checks on this! should be 0 to inf\n"
   ]
  },
  {
   "cell_type": "markdown",
   "metadata": {},
   "source": [
    "From ZiourHui:"
   ]
  },
  {
   "cell_type": "code",
   "execution_count": 5,
   "metadata": {},
   "outputs": [],
   "source": [
    "#two ways to compute the same thing:\n",
    "\n",
    "def Cl_delkap2_BBKS(ltable, zf, zb, delta_zf, Nint = 500):\n",
    "    fac = bHI * (5*sg(zb) - 2)\n",
    "    return Cl_HIxmag_BBKS(ltable, zf, zb, delta_zf, Nint = Nint) / fac\n",
    "\n",
    "def Cl_delkap_BBKS(ltable, zf, zb, delta_zf, Nint = 500):\n",
    "    fac = 3/2 * (H_0/c)**2 * Omega_m\n",
    "    \n",
    "    zmin = zf - delta_zf\n",
    "    zmax = zf + delta_zf\n",
    "    ztab = np.linspace(zmin, zmax, Nint) #do checks on this! should be 0 to inf\n",
    "    gtab = [g(zz, zb, dzb) for zz in ztab] # this is slow\n",
    "    \n",
    "    integrand=np.zeros([len(ztab),len(ltable)])\n",
    "    for il in range(len(ltable)):\n",
    "        ell = ltable[il]\n",
    "        integrand[:,il]= (1+ztab) * W_tophat(ztab, zfmin, zfmax) * gtab / rCom(ztab)**2 * P_cdm_BBKS(( ell)/rCom(ztab)) * D_z(ztab)**2\n",
    "    result= fac * np.trapz(integrand,ztab,axis=0)\n",
    "    return result\n",
    "\n",
    "\n",
    "\n",
    "\n",
    "def Cl_delkap2_CAMB(ltable, zf, zb, delta_zf, Nint = 500):\n",
    "    fac = bHI * (5*sg(zb) - 2)\n",
    "    return Cl_HIxmag_CAMB(ltable, zf, zb, delta_zf, Nint = Nint) / fac\n",
    "\n",
    "def Cl_delkap_CAMB(ltable, zf, zb, delta_zf, Nint = 500):\n",
    "    fac = 3/2 * (H_0/c)**2 * Omega_m\n",
    "    \n",
    "    zmin = zf - delta_zf\n",
    "    zmax = zf + delta_zf\n",
    "    ztab = np.linspace(zmin, zmax, Nint) #do checks on this! should be 0 to inf\n",
    "    gtab = [g(zz, zb, dzb) for zz in ztab] # this is slow\n",
    "    \n",
    "    integrand=np.zeros([len(ztab),len(ltable)])\n",
    "    for il in range(len(ltable)):\n",
    "        ell = ltable[il]\n",
    "        integrand[:,il]= [(1+zzz) * W_tophat(zzz, zfmin, zfmax) * gtab / rCom(zzz)**2 * pknl(( ell)/rCom(zzz), zzz) for zzz in ztab]\n",
    "    result= fac * np.trapz(integrand,ztab,axis=0)\n",
    "    return result"
   ]
  },
  {
   "cell_type": "markdown",
   "metadata": {},
   "source": [
    "Galaxy and HI autocorrelation Cls:"
   ]
  },
  {
   "cell_type": "code",
   "execution_count": 6,
   "metadata": {},
   "outputs": [],
   "source": [
    "def C_l_HIHI_BBKS(ltable,zmin,zmax, Nint = 500):\n",
    "    \"\"\"arguments: ell array, zmin, zmax\n",
    "    returns: Cl as array\"\"\"\n",
    "    ztable = np.linspace(zmin, zmax, Nint)\n",
    "    integrand=np.zeros([len(ztable),len(ltable)])\n",
    "    for l in range(len(ltable)):\n",
    "        #for the moment we divide out T_obs to compare with the galaxy results\n",
    "        integrand[:,l]=E_z(ztable)*(W_tophat(ztable,zmin,zmax)*D_z(ztable)/rCom(ztable))**2*P_cdm_BBKS((ltable[l])/rCom(ztable))\n",
    "    result=bHI* H_0/c*np.trapz(integrand,ztable,axis=0)\n",
    "    return result\n",
    "\n",
    "\n",
    "def C_l_gg_BBKS(ltable,zmin,zmax, Nint = 500):\n",
    "    \"\"\"arguments: ell array, zmin, zmax\n",
    "    returns: Cl as array\"\"\"\n",
    "    ztable = np.linspace(zmin, zmax, Nint)\n",
    "    integrand=np.zeros([len(ztable),len(ltable)])\n",
    "    for l in range(len(ltable)):\n",
    "        integrand[:,l]=E_z(ztable)*(W_tophat(ztable,zmin,zmax)*D_z(ztable)/rCom(ztable))**2*P_cdm_BBKS((ltable[l])/rCom(ztable))\n",
    "    result=bgal* H_0/c*np.trapz(integrand,ztable,axis=0)\n",
    "    return result\n"
   ]
  },
  {
   "cell_type": "markdown",
   "metadata": {},
   "source": [
    "Interpolate the nonlinear P(k) from Alkistis and use it to calculate Cls:"
   ]
  },
  {
   "cell_type": "code",
   "execution_count": 7,
   "metadata": {
    "scrolled": false
   },
   "outputs": [
    {
     "name": "stdout",
     "output_type": "stream",
     "text": [
      "CHECK IF THIS IS IN ORDER:\n",
      "['Pk_z0.dat' 'Pk_z0p2.dat' 'Pk_z0p4.dat' 'Pk_z0p6.dat' 'Pk_z0p8.dat'\n",
      " 'Pk_z1.dat' 'Pk_z1p2.dat' 'Pk_z1p4.dat' 'Pk_z1p6.dat' 'Pk_z1p8.dat'\n",
      " 'Pk_z2.dat' 'Pk_z2p2.dat' 'Pk_z2p4.dat' 'Pk_z2p6.dat' 'Pk_z2p8.dat'\n",
      " 'Pk_z3.dat' 'Pk_z3p2.dat' 'Pk_z3p4.dat' 'Pk_z3p6.dat' 'Pk_z3p8.dat'\n",
      " 'Pk_z4.dat']\n"
     ]
    }
   ],
   "source": [
    "pknl_root = \"./PkNL/\"\n",
    "filelist =  np.sort(os.listdir(pknl_root))\n",
    "print \"CHECK IF THIS IS IN ORDER:\"\n",
    "print filelist\n",
    "zc_pk = np.linspace(0,4,len(filelist))\n",
    "# print zc_pk\n",
    "\n",
    "k_pk = np.loadtxt(pknl_root + filelist[0], unpack = True)[0]\n",
    "\n",
    "pknl_arr = np.array([ np.loadtxt(pknl_root + fi, unpack = True)[1] for fi in filelist ])\n",
    "\n",
    "pknl_int = interp2d( k_pk, zc_pk, pknl_arr)\n",
    "\n",
    "def pknl(kk, zz):\n",
    "    res = pknl_int(kk/h, zz)/h**3\n",
    "    if len(res) == 1:\n",
    "        return res[0]\n",
    "    else:\n",
    "        return res\n",
    "\n",
    "    \n",
    "\n",
    "# #test it:\n",
    "\n",
    "# for zi in range(len(zc_pk)):\n",
    "#     for ki in range(len(k_pk)):\n",
    "#         pppk_at_z = np.array( np.loadtxt(pknl_root + filelist[zi], unpack = True)[1])\n",
    "#         print pppk_at_z[ki] - pknl(k_pk[ki], zc_pk[zi])\n",
    "\n",
    "\n",
    "\n",
    "def C_l_HIHI_CAMB(ltable,zmin,zmax, Nint = 500):\n",
    "    \"\"\"arguments: ell array, zmin, zmax\n",
    "    returns: Cl as array\"\"\"\n",
    "    ztable = np.linspace(zmin, zmax, Nint)\n",
    "    integrand=np.zeros([len(ztable),len(ltable)])\n",
    "    for l in range(len(ltable)):\n",
    "        #for the moment we divide out T_obs to compare with the galaxy results\n",
    "#         integrand[:,l]=E_z(ztable)*(W_tophat(ztable,zmin,zmax)/rCom(ztable))**2*pknl((ltable[l])/rCom(ztable), ztable)\n",
    "        integrand[:,l]= np.array([E_z(zzz)*(W_tophat(zzz,zmin,zmax)/rCom(zzz))**2*pknl((ltable[l])/rCom(zzz), zzz) for zzz in ztable])\n",
    "    result=bHI* H_0/c*np.trapz(integrand,ztable,axis=0)\n",
    "    return result\n",
    "\n",
    "def C_l_gg_CAMB(ltable,zmin,zmax, Nint = 500):\n",
    "    \"\"\"arguments: ell array, zmin, zmax\n",
    "    returns: Cl as array\"\"\"\n",
    "    ztable = np.linspace(zmin, zmax, Nint)\n",
    "    integrand=np.zeros([len(ztable),len(ltable)])\n",
    "    for l in range(len(ltable)):\n",
    "        integrand[:,l]=np.array([E_z(zzz)*(W_tophat(zzz,zmin,zmax)/rCom(zzz))**2*pknl((ltable[l])/rCom(zzz), zzz) for zzz in ztable])\n",
    "    result=bgal* H_0/c*np.trapz(integrand,ztable,axis=0)\n",
    "    return result\n"
   ]
  },
  {
   "cell_type": "markdown",
   "metadata": {},
   "source": [
    "Signal to noise:"
   ]
  },
  {
   "cell_type": "code",
   "execution_count": 8,
   "metadata": {},
   "outputs": [],
   "source": [
    "def DELTA_Cl_HIxmag(ltable, zf, dzf, zb, dzb, PERFECT_SURVEY = 1, BBKS = False):\n",
    "    zfmin = zf - dzf; zfmax = zf+dzf\n",
    "    zbmin = zb-dzb; zbmax = zb+dzb\n",
    "    \n",
    "    if BBKS:\n",
    "        ClHIHIfunc = C_l_HIHI_BBKS\n",
    "        Cl_HIxmagfunc = Cl_HIxmag_BBKS\n",
    "        Clggfunc = C_l_gg_BBKS\n",
    "    else:\n",
    "        ClHIHIfunc = C_l_HIHI_CAMB\n",
    "        Cl_HIxmagfunc = Cl_HIxmag_CAMB\n",
    "        Clggfunc = C_l_gg_CAMB\n",
    "    \n",
    "    #perfect survey:\n",
    "    if PERFECT_SURVEY:\n",
    "        Cshot = np.zeros(len(ltable)); N_ell = np.zeros(len(ltable)); \n",
    "        fsky = 1; d_ell = 1;\n",
    "    \n",
    "    else:\n",
    "        return ValueError(\"only perfect survey implemented\")\n",
    "    X2 = Cl_HIxmagfunc(ltable, zf, zb, dzf)**2\n",
    "    HIHI = ClHIHIfunc(ltable, zfmin, zfmax) + Cshot\n",
    "    gg = Clggfunc(ltable, zbmin, zbmax) + N_ell\n",
    "    num = X2 + HIHI*gg\n",
    "    denom = (2*ltable+1) * d_ell * fsky\n",
    "    return np.sqrt(num/denom)\n",
    "\n",
    "def S2N(ltable, zf, dzf, zb, dzb, PERFECT_SURVEY = 1):\n",
    "    delt = DELTA_Cl_HIxmag(ltable, zf, dzf, zb, dzb, PERFECT_SURVEY = PERFECT_SURVEY)\n",
    "    signal = Cl_HIxmag(ltable, zf, zb, dzb)\n",
    "    return signal/delt"
   ]
  },
  {
   "cell_type": "markdown",
   "metadata": {},
   "source": [
    "Compare HIHI Cls with Fig 2 in Bingo paper:"
   ]
  },
  {
   "cell_type": "code",
   "execution_count": 9,
   "metadata": {},
   "outputs": [
    {
     "ename": "KeyboardInterrupt",
     "evalue": "",
     "output_type": "error",
     "traceback": [
      "\u001b[0;31m---------------------------------------------------------------------------\u001b[0m",
      "\u001b[0;31mKeyboardInterrupt\u001b[0m                         Traceback (most recent call last)",
      "\u001b[0;32m<ipython-input-9-12c87a3da431>\u001b[0m in \u001b[0;36m<module>\u001b[0;34m()\u001b[0m\n\u001b[1;32m      3\u001b[0m \u001b[0;34m\u001b[0m\u001b[0m\n\u001b[1;32m      4\u001b[0m \u001b[0mCl_HIHI\u001b[0m \u001b[0;34m=\u001b[0m \u001b[0mC_l_HIHI_BBKS\u001b[0m\u001b[0;34m(\u001b[0m\u001b[0mlbing\u001b[0m\u001b[0;34m,\u001b[0m \u001b[0mnutoz21\u001b[0m\u001b[0;34m(\u001b[0m\u001b[0;36m975\u001b[0m\u001b[0;34m)\u001b[0m\u001b[0;34m,\u001b[0m \u001b[0mnutoz21\u001b[0m\u001b[0;34m(\u001b[0m\u001b[0;36m925\u001b[0m\u001b[0;34m)\u001b[0m\u001b[0;34m)\u001b[0m\u001b[0;34m\u001b[0m\u001b[0m\n\u001b[0;32m----> 5\u001b[0;31m \u001b[0mCl_HIHI_camb\u001b[0m \u001b[0;34m=\u001b[0m \u001b[0mC_l_HIHI_CAMB\u001b[0m\u001b[0;34m(\u001b[0m\u001b[0mlbing\u001b[0m\u001b[0;34m,\u001b[0m \u001b[0mnutoz21\u001b[0m\u001b[0;34m(\u001b[0m\u001b[0;36m975\u001b[0m\u001b[0;34m)\u001b[0m\u001b[0;34m,\u001b[0m \u001b[0mnutoz21\u001b[0m\u001b[0;34m(\u001b[0m\u001b[0;36m925\u001b[0m\u001b[0;34m)\u001b[0m\u001b[0;34m)\u001b[0m\u001b[0;34m\u001b[0m\u001b[0m\n\u001b[0m\u001b[1;32m      6\u001b[0m \u001b[0;34m\u001b[0m\u001b[0m\n\u001b[1;32m      7\u001b[0m \u001b[0mfig\u001b[0m \u001b[0;34m=\u001b[0m \u001b[0mP\u001b[0m\u001b[0;34m.\u001b[0m\u001b[0mfigure\u001b[0m\u001b[0;34m(\u001b[0m\u001b[0;34m)\u001b[0m\u001b[0;34m;\u001b[0m \u001b[0max\u001b[0m \u001b[0;34m=\u001b[0m \u001b[0mfig\u001b[0m\u001b[0;34m.\u001b[0m\u001b[0madd_subplot\u001b[0m\u001b[0;34m(\u001b[0m\u001b[0;36m111\u001b[0m\u001b[0;34m)\u001b[0m\u001b[0;34m;\u001b[0m\u001b[0;34m\u001b[0m\u001b[0m\n",
      "\u001b[0;32m<ipython-input-7-33b37e558191>\u001b[0m in \u001b[0;36mC_l_HIHI_CAMB\u001b[0;34m(ltable, zmin, zmax, Nint)\u001b[0m\n\u001b[1;32m     38\u001b[0m         \u001b[0;31m#for the moment we divide out T_obs to compare with the galaxy results\u001b[0m\u001b[0;34m\u001b[0m\u001b[0;34m\u001b[0m\u001b[0m\n\u001b[1;32m     39\u001b[0m \u001b[0;31m#         integrand[:,l]=E_z(ztable)*(W_tophat(ztable,zmin,zmax)/rCom(ztable))**2*pknl((ltable[l])/rCom(ztable), ztable)\u001b[0m\u001b[0;34m\u001b[0m\u001b[0;34m\u001b[0m\u001b[0m\n\u001b[0;32m---> 40\u001b[0;31m         \u001b[0mintegrand\u001b[0m\u001b[0;34m[\u001b[0m\u001b[0;34m:\u001b[0m\u001b[0;34m,\u001b[0m\u001b[0ml\u001b[0m\u001b[0;34m]\u001b[0m\u001b[0;34m=\u001b[0m \u001b[0mnp\u001b[0m\u001b[0;34m.\u001b[0m\u001b[0marray\u001b[0m\u001b[0;34m(\u001b[0m\u001b[0;34m[\u001b[0m\u001b[0mE_z\u001b[0m\u001b[0;34m(\u001b[0m\u001b[0mzzz\u001b[0m\u001b[0;34m)\u001b[0m\u001b[0;34m*\u001b[0m\u001b[0;34m(\u001b[0m\u001b[0mW_tophat\u001b[0m\u001b[0;34m(\u001b[0m\u001b[0mzzz\u001b[0m\u001b[0;34m,\u001b[0m\u001b[0mzmin\u001b[0m\u001b[0;34m,\u001b[0m\u001b[0mzmax\u001b[0m\u001b[0;34m)\u001b[0m\u001b[0;34m/\u001b[0m\u001b[0mrCom\u001b[0m\u001b[0;34m(\u001b[0m\u001b[0mzzz\u001b[0m\u001b[0;34m)\u001b[0m\u001b[0;34m)\u001b[0m\u001b[0;34m**\u001b[0m\u001b[0;36m2\u001b[0m\u001b[0;34m*\u001b[0m\u001b[0mpknl\u001b[0m\u001b[0;34m(\u001b[0m\u001b[0;34m(\u001b[0m\u001b[0mltable\u001b[0m\u001b[0;34m[\u001b[0m\u001b[0ml\u001b[0m\u001b[0;34m]\u001b[0m\u001b[0;34m)\u001b[0m\u001b[0;34m/\u001b[0m\u001b[0mrCom\u001b[0m\u001b[0;34m(\u001b[0m\u001b[0mzzz\u001b[0m\u001b[0;34m)\u001b[0m\u001b[0;34m,\u001b[0m \u001b[0mzzz\u001b[0m\u001b[0;34m)\u001b[0m \u001b[0;32mfor\u001b[0m \u001b[0mzzz\u001b[0m \u001b[0;32min\u001b[0m \u001b[0mztable\u001b[0m\u001b[0;34m]\u001b[0m\u001b[0;34m)\u001b[0m\u001b[0;34m\u001b[0m\u001b[0m\n\u001b[0m\u001b[1;32m     41\u001b[0m     \u001b[0mresult\u001b[0m\u001b[0;34m=\u001b[0m\u001b[0mbHI\u001b[0m\u001b[0;34m*\u001b[0m \u001b[0mH_0\u001b[0m\u001b[0;34m/\u001b[0m\u001b[0mc\u001b[0m\u001b[0;34m*\u001b[0m\u001b[0mnp\u001b[0m\u001b[0;34m.\u001b[0m\u001b[0mtrapz\u001b[0m\u001b[0;34m(\u001b[0m\u001b[0mintegrand\u001b[0m\u001b[0;34m,\u001b[0m\u001b[0mztable\u001b[0m\u001b[0;34m,\u001b[0m\u001b[0maxis\u001b[0m\u001b[0;34m=\u001b[0m\u001b[0;36m0\u001b[0m\u001b[0;34m)\u001b[0m\u001b[0;34m\u001b[0m\u001b[0m\n\u001b[1;32m     42\u001b[0m     \u001b[0;32mreturn\u001b[0m \u001b[0mresult\u001b[0m\u001b[0;34m\u001b[0m\u001b[0m\n",
      "\u001b[0;32m<ipython-input-7-33b37e558191>\u001b[0m in \u001b[0;36mpknl\u001b[0;34m(kk, zz)\u001b[0m\n\u001b[1;32m     13\u001b[0m \u001b[0;34m\u001b[0m\u001b[0m\n\u001b[1;32m     14\u001b[0m \u001b[0;32mdef\u001b[0m \u001b[0mpknl\u001b[0m\u001b[0;34m(\u001b[0m\u001b[0mkk\u001b[0m\u001b[0;34m,\u001b[0m \u001b[0mzz\u001b[0m\u001b[0;34m)\u001b[0m\u001b[0;34m:\u001b[0m\u001b[0;34m\u001b[0m\u001b[0m\n\u001b[0;32m---> 15\u001b[0;31m     \u001b[0mres\u001b[0m \u001b[0;34m=\u001b[0m \u001b[0mpknl_int\u001b[0m\u001b[0;34m(\u001b[0m\u001b[0mkk\u001b[0m\u001b[0;34m/\u001b[0m\u001b[0mh\u001b[0m\u001b[0;34m,\u001b[0m \u001b[0mzz\u001b[0m\u001b[0;34m)\u001b[0m\u001b[0;34m/\u001b[0m\u001b[0mh\u001b[0m\u001b[0;34m**\u001b[0m\u001b[0;36m3\u001b[0m\u001b[0;34m\u001b[0m\u001b[0m\n\u001b[0m\u001b[1;32m     16\u001b[0m     \u001b[0;32mif\u001b[0m \u001b[0mlen\u001b[0m\u001b[0;34m(\u001b[0m\u001b[0mres\u001b[0m\u001b[0;34m)\u001b[0m \u001b[0;34m==\u001b[0m \u001b[0;36m1\u001b[0m\u001b[0;34m:\u001b[0m\u001b[0;34m\u001b[0m\u001b[0m\n\u001b[1;32m     17\u001b[0m         \u001b[0;32mreturn\u001b[0m \u001b[0mres\u001b[0m\u001b[0;34m[\u001b[0m\u001b[0;36m0\u001b[0m\u001b[0;34m]\u001b[0m\u001b[0;34m\u001b[0m\u001b[0m\n",
      "\u001b[0;32m/opt/local/Library/Frameworks/Python.framework/Versions/2.7/lib/python2.7/site-packages/scipy/interpolate/interpolate.pyc\u001b[0m in \u001b[0;36m__call__\u001b[0;34m(self, x, y, dx, dy, assume_sorted)\u001b[0m\n\u001b[1;32m    290\u001b[0m \u001b[0;34m\u001b[0m\u001b[0m\n\u001b[1;32m    291\u001b[0m         \u001b[0;32mif\u001b[0m \u001b[0;32mnot\u001b[0m \u001b[0massume_sorted\u001b[0m\u001b[0;34m:\u001b[0m\u001b[0;34m\u001b[0m\u001b[0m\n\u001b[0;32m--> 292\u001b[0;31m             \u001b[0mx\u001b[0m \u001b[0;34m=\u001b[0m \u001b[0mnp\u001b[0m\u001b[0;34m.\u001b[0m\u001b[0msort\u001b[0m\u001b[0;34m(\u001b[0m\u001b[0mx\u001b[0m\u001b[0;34m)\u001b[0m\u001b[0;34m\u001b[0m\u001b[0m\n\u001b[0m\u001b[1;32m    293\u001b[0m             \u001b[0my\u001b[0m \u001b[0;34m=\u001b[0m \u001b[0mnp\u001b[0m\u001b[0;34m.\u001b[0m\u001b[0msort\u001b[0m\u001b[0;34m(\u001b[0m\u001b[0my\u001b[0m\u001b[0;34m)\u001b[0m\u001b[0;34m\u001b[0m\u001b[0m\n\u001b[1;32m    294\u001b[0m \u001b[0;34m\u001b[0m\u001b[0m\n",
      "\u001b[0;32m/opt/local/Library/Frameworks/Python.framework/Versions/2.7/lib/python2.7/site-packages/numpy/core/fromnumeric.pyc\u001b[0m in \u001b[0;36msort\u001b[0;34m(a, axis, kind, order)\u001b[0m\n\u001b[1;32m    819\u001b[0m         \u001b[0maxis\u001b[0m \u001b[0;34m=\u001b[0m \u001b[0;36m0\u001b[0m\u001b[0;34m\u001b[0m\u001b[0m\n\u001b[1;32m    820\u001b[0m     \u001b[0;32melse\u001b[0m\u001b[0;34m:\u001b[0m\u001b[0;34m\u001b[0m\u001b[0m\n\u001b[0;32m--> 821\u001b[0;31m         \u001b[0ma\u001b[0m \u001b[0;34m=\u001b[0m \u001b[0masanyarray\u001b[0m\u001b[0;34m(\u001b[0m\u001b[0ma\u001b[0m\u001b[0;34m)\u001b[0m\u001b[0;34m.\u001b[0m\u001b[0mcopy\u001b[0m\u001b[0;34m(\u001b[0m\u001b[0morder\u001b[0m\u001b[0;34m=\u001b[0m\u001b[0;34m\"K\"\u001b[0m\u001b[0;34m)\u001b[0m\u001b[0;34m\u001b[0m\u001b[0m\n\u001b[0m\u001b[1;32m    822\u001b[0m     \u001b[0ma\u001b[0m\u001b[0;34m.\u001b[0m\u001b[0msort\u001b[0m\u001b[0;34m(\u001b[0m\u001b[0maxis\u001b[0m\u001b[0;34m=\u001b[0m\u001b[0maxis\u001b[0m\u001b[0;34m,\u001b[0m \u001b[0mkind\u001b[0m\u001b[0;34m=\u001b[0m\u001b[0mkind\u001b[0m\u001b[0;34m,\u001b[0m \u001b[0morder\u001b[0m\u001b[0;34m=\u001b[0m\u001b[0morder\u001b[0m\u001b[0;34m)\u001b[0m\u001b[0;34m\u001b[0m\u001b[0m\n\u001b[1;32m    823\u001b[0m     \u001b[0;32mreturn\u001b[0m \u001b[0ma\u001b[0m\u001b[0;34m\u001b[0m\u001b[0m\n",
      "\u001b[0;31mKeyboardInterrupt\u001b[0m: "
     ]
    }
   ],
   "source": [
    "#compare with Fig 2 in Bingo paper:\n",
    "lbing = np.arange(1,1000)\n",
    "\n",
    "Cl_HIHI = C_l_HIHI_BBKS(lbing, nutoz21(975), nutoz21(925))\n",
    "Cl_HIHI_camb = C_l_HIHI_CAMB(lbing, nutoz21(975), nutoz21(925))\n",
    "\n",
    "fig = P.figure(); ax = fig.add_subplot(111);\n",
    "ax.loglog(lbing, Cl_HIHI*(lbing+1)*lbing / 2 / pi)\n",
    "ax.loglog(lbing, Cl_HIHI_camb*(lbing+1)*lbing / 2 / pi)\n",
    "\n",
    "P.show()"
   ]
  },
  {
   "cell_type": "markdown",
   "metadata": {},
   "source": [
    "which matches perfectly (BBKS case). The CAMB power spectrum seems to have different normalization... check sigma_8 maybe?\n",
    "Now plotting the HI-mag Cls from Alkistis' notes:"
   ]
  },
  {
   "cell_type": "code",
   "execution_count": 10,
   "metadata": {},
   "outputs": [],
   "source": [
    "\n",
    "Cl_Hxm_tab = Cl_HIxmag_CAMB(ltab, zf, zb, dzf)\n",
    "# Cl_Hxm_tab2 = Cl_HIxmag_CAMB(ltab, zf, zb, dzf) #delete later\n",
    "\n",
    "\n",
    "\n",
    "# Cl_dxk_tab = Cl_delkap_CAMB(ltab, zf, zb, dzf)\n",
    "# Cl_gg = Cl_BBKS_gg(ltab, zfmin, zfmax)"
   ]
  },
  {
   "cell_type": "code",
   "execution_count": 11,
   "metadata": {},
   "outputs": [
    {
     "data": {
      "text/plain": [
       "(0.0001, 0.5)"
      ]
     },
     "execution_count": 11,
     "metadata": {},
     "output_type": "execute_result"
    },
    {
     "data": {
      "image/png": "[encoded data removed]",
      "text/plain": [
       "<matplotlib.figure.Figure at 0x10abe0150>"
      ]
     },
     "metadata": {},
     "output_type": "display_data"
    }
   ],
   "source": [
    "fig = P.figure(); ax = fig.add_subplot(111);\n",
    "# ax.loglog(ltab, Cl_Hxm_tab*ltab**2 / 2 / pi)\n",
    "ax.loglog(ltab, Cl_Hxm_tab*ltab**2 / 2 / pi)\n",
    "# ax.loglog(ltab, Cl_dxk_tab, ls = ':', color = 'black')\n",
    "# ax.loglog(ltab, Cl_dxk2_tab, ls = '-.', color = 'pink')\n",
    "ax.set_xlabel(\"$\\ell$\")\n",
    "ax.set_ylabel(\"$C_\\ell^\\mathrm{HI, \\mu} \\ell^2/(2\\pi)$\")\n",
    "# ax.plot(ltab, Cl_Hxm*ltab**2/2/pi)\n",
    "# ax.set_xlim((10,1000))\n",
    "ax.set_xlim((250,25000))\n",
    "ax.set_ylim((1e-4, 5e-1))\n",
    "# ax.set_ylim((1e-9, 2e-7))"
   ]
  },
  {
   "cell_type": "markdown",
   "metadata": {},
   "source": [
    "I think our $C_\\ell^\\mathrm{HI, mag}$ should match $C_\\ell^{\\mu g}$ Fig. 5 in Zhang&Pen up to a constant factor... The $\\ell$ dependence is totally different if we use BBKS, but not if we use CAMB. We still have are about a factor of 10 wrong...\n",
    "\n",
    "Their $\\ell$ dependece is $C_\\ell^{\\mu g} \\sim \\Delta_m^2(\\ell/r(z_f), z_f) / l^3$.\n",
    "\n",
    "For us it's $C_\\ell^\\mathrm{HI, mag} \\sim P((\\ell + 1/2)/r(z),z))$. Here I used the fit from BBKS: $P_m^\\mathrm{BBKS}(k) = Ak^{n_s}T_\\mathrm{BBKS}(k)$ and thus $P_m^\\mathrm{BBKS}(k) \\mathrm D^2(z) = P(k,z)$ with the growth factor $D$. As far as I know usual conventions are $P \\sim k^3 \\Delta$, so where does the $\\Delta^2$ come from? I guess it's just another convention but haven't checked yet."
   ]
  },
  {
   "cell_type": "markdown",
   "metadata": {},
   "source": [
    "NOW: signal to noise for perfect survey:"
   ]
  },
  {
   "cell_type": "code",
   "execution_count": 42,
   "metadata": {},
   "outputs": [
    {
     "name": "stdout",
     "output_type": "stream",
     "text": [
      "0.75 0.85\n",
      "0.816666666667 0.916666666667\n",
      "0.883333333333 0.983333333333\n",
      "0.95 1.05\n",
      "1.01666666667 1.11666666667\n",
      "1.08333333333 1.18333333333\n",
      "1.15 1.25\n",
      "1.21666666667 1.31666666667\n",
      "1.28333333333 1.38333333333\n",
      "1.35 1.45\n",
      "1.6 2.0\n"
     ]
    }
   ],
   "source": [
    "zfs = np.linspace(0.8,zb - 2*dzb,10)\n",
    "dzf = 0.05\n",
    "\n",
    "ltab = np.array([ 100,500,1000])\n",
    "\n",
    "S2N_p_tab = []\n",
    "Delta_Cl_p_tab = []\n",
    "for zzf in zfs:\n",
    "    print zzf-dzf, zzf+dzf\n",
    "\n",
    "    S2N_p_tab.append( S2N(ltab, zzf, dzf, zb, dzb, PERFECT_SURVEY=1) )\n",
    "    Delta_Cl_p_tab.append( DELTA_Cl_HIxmag(ltab, zzf, dzf, zb, dzb, PERFECT_SURVEY=1))\n",
    "    \n",
    "print zb-dzb, zb+dzb\n"
   ]
  },
  {
   "cell_type": "code",
   "execution_count": 43,
   "metadata": {},
   "outputs": [
    {
     "data": {
      "image/png": "[encoded data removed]",
      "text/plain": [
       "<matplotlib.figure.Figure at 0x10d4313d0>"
      ]
     },
     "metadata": {},
     "output_type": "display_data"
    }
   ],
   "source": [
    "ztab = np.linspace(zfs[0], zfs[1])\n",
    "\n",
    "fig = P.figure(); ax = fig.add_subplot(111);\n",
    "for zi in range(len(zfs)):\n",
    "    zz = zfs[zi]\n",
    "    ax.scatter(zz,S2N_p_tab[zi][1])\n",
    "    "
   ]
  },
  {
   "cell_type": "code",
   "execution_count": 27,
   "metadata": {},
   "outputs": [
    {
     "data": {
      "text/plain": [
       "Text(0.5,0,u'$\\\\ell$')"
      ]
     },
     "execution_count": 27,
     "metadata": {},
     "output_type": "execute_result"
    },
    {
     "data": {
      "image/png": "[encoded data removed]",
      "text/plain": [
       "<matplotlib.figure.Figure at 0x10ece0790>"
      ]
     },
     "metadata": {},
     "output_type": "display_data"
    }
   ],
   "source": [
    "fig = P.figure(); ax1 = fig.add_subplot(211); \n",
    "ax2 = fig.add_subplot(212, sharex = ax1);\n",
    "for i in range(len(S2N_p_tab)):\n",
    "    ax1.semilogx(ltab, S2N_p_tab[i], label = \"$z_f$ = {}\".format(zfs[i]))\n",
    "# ax1.axhline(1, label = \"$1$\")\n",
    "# ax1.set_ylim((0, 11))\n",
    "ax1.set_ylabel(\"S2N\")\n",
    "ax1.legend()\n",
    "\n",
    "\n",
    "# ax2.loglog(ltab, Cl_Hxm, label = \"$C_\\ell^{HI,\\mu}$\")\n",
    "# ax2.loglog(ltab, Delta_Cl_p_tab, color = 'black', label = \"$\\Delta C_\\ell^{HI,\\mu}$\")\n",
    "ax2.legend(loc = \"upper right\")\n",
    "\n",
    "ax2.set_xlabel(\"$\\ell$\")\n"
   ]
  },
  {
   "cell_type": "code",
   "execution_count": 28,
   "metadata": {},
   "outputs": [
    {
     "name": "stdout",
     "output_type": "stream",
     "text": [
      "[ 15.71335386  29.35503242  39.65062724]\n",
      "[ 25.85118589  50.61053124  68.99333429]\n",
      "[ 21.45074302  42.59229076  58.27130498]\n"
     ]
    }
   ],
   "source": [
    "for i in range(len(S2N_p_tab)):\n",
    "    print S2N_p_tab[i]"
   ]
  },
  {
   "cell_type": "code",
   "execution_count": null,
   "metadata": {},
   "outputs": [],
   "source": []
  }
 ],
 "metadata": {
  "kernelspec": {
   "display_name": "Python 2",
   "language": "python",
   "name": "python2"
  },
  "language_info": {
   "codemirror_mode": {
    "name": "ipython",
    "version": 2
   },
   "file_extension": ".py",
   "mimetype": "text/x-python",
   "name": "python",
   "nbconvert_exporter": "python",
   "pygments_lexer": "ipython2",
   "version": "2.7.14"
  }
 },
 "nbformat": 4,
 "nbformat_minor": 2
}
