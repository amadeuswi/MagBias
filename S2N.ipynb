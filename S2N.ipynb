{
 "cells": [
  {
   "cell_type": "code",
   "execution_count": 1,
   "metadata": {},
   "outputs": [
    {
     "name": "stdout",
     "output_type": "stream",
     "text": [
      "sigma_8_BBKS = 0.833959881058\n"
     ]
    }
   ],
   "source": [
    "%matplotlib inline\n",
    "\n",
    "from __future__ import division\n",
    "import os\n",
    "import sys\n",
    "from scipy import integrate, optimize\n",
    "from scipy.interpolate import interp2d, interp1d\n",
    "\n",
    "import numpy as np\n",
    "from numpy import pi,sin,cos,tan,e,arctan,arcsin,arccos,sqrt\n",
    "from numpy.random import randn\n",
    "import matplotlib\n",
    "import matplotlib.pyplot as P\n",
    "from time import clock\n",
    "\n",
    "\n",
    "matplotlib.rcParams['figure.figsize'] = (7, 5)\n",
    "P.rcParams['text.usetex'] = True  # not really needed\n",
    "P.rcParams['text.latex.preamble'] = [r'\\usepackage{amsmath}'] #for \\text command\n",
    "P.rcParams[\"font.size\"] = 24\n",
    "P.rc('xtick', labelsize=18) \n",
    "P.rc('ytick', labelsize=18)\n",
    "# P.rc('xtick', labelsize=20) \n",
    "# P.rc('ytick', labelsize=20)\n",
    "np.set_printoptions(threshold=np.nan)\n",
    "\n",
    "\n",
    "# sys.path.append(\"/Users/amadeus/Documents/10.semester/ma\")\n",
    "# from magmod import P_cdm_BBKS, D_z, rCom, H_0, c, H_z, E_z, Omega_m, W_tophat, T_obs, nutoz21, h\n",
    "# from magmod import P_cdm_BBKS, D_z, rCom, H_0, c, H_z, E_z, Omega_m, T_obs, nutoz21, h\n",
    "from magmod import *\n",
    "from magbias_experiments import SKA, CLAR, n\n"
   ]
  },
  {
   "cell_type": "code",
   "execution_count": 2,
   "metadata": {},
   "outputs": [
    {
     "name": "stdout",
     "output_type": "stream",
     "text": [
      "foreground from 0.5 to 1.0\n",
      "background from 1.5 to 1.9\n"
     ]
    }
   ],
   "source": [
    "# #preliminary, to be changed!!\n",
    "# bHI = 1\n",
    "# bgal = 1\n",
    "\n",
    "lmin = 250; lmax = 30000 # lmin and lmax for Cl calculation\n",
    "# lmin = 1; lmax = 1000 # lmin and lmax for Cl calculation\n",
    "# ltab = np.arange(lmin,lmax)\n",
    "# ltab = np.arange(lmin,lmax, 1000)\n",
    "ltab = np.logspace(np.log10(lmin), np.log10(lmax), 25, dtype = int)\n",
    "# ltab = np.array([280])\n",
    "\n",
    "################################################\n",
    "# ZhangPen:\n",
    "zf = 0.75\n",
    "dzf = 0.25\n",
    "zfmin = zf - dzf; zfmax = zf + dzf\n",
    "\n",
    "zb = (1.5 + 1.9)/2\n",
    "dzb = 1.9 - zb\n",
    "zbmin = zb - dzb; zbmax = zb + dzb\n",
    "################################################\n",
    "\n",
    "\n",
    "\n",
    "# ################################################\n",
    "# zf = 0.3\n",
    "# dzf = 0.005\n",
    "# zfmin = zf - dzf; zfmax = zf + dzf\n",
    "\n",
    "# zb = 1.5\n",
    "# dzb = 0.01\n",
    "# zbmin = zb - dzb; zbmax = zb + dzb\n",
    "# ################################################\n",
    "\n",
    "\n",
    "\n",
    "# zf = .1\n",
    "# dzf = 0.06\n",
    "# zfmin = zf - dzf; zfmax = zf + dzf\n",
    "\n",
    "# zb = .4\n",
    "# dzb = 0.06\n",
    "# zbmin = zb - dzb; zbmax = zb + dzb\n",
    "\n",
    "print \"foreground from {} to {}\".format(zfmin, zfmax)\n",
    "print \"background from {} to {}\".format(zbmin, zbmax)\n",
    "\n"
   ]
  },
  {
   "cell_type": "markdown",
   "metadata": {},
   "source": [
    "From ZiourHui:"
   ]
  },
  {
   "cell_type": "code",
   "execution_count": 3,
   "metadata": {},
   "outputs": [],
   "source": [
    "#two ways to compute the same thing:\n",
    "\n",
    "\n",
    "\n",
    "\n",
    "def Cl_delkap2_CAMB(ltable, zf, zb, delta_zf, Nint = 500):\n",
    "    fac = bHI * (5*sg(zb) - 2)\n",
    "    return Cl_HIxmag_CAMB(ltable, zf, zb, delta_zf, Nint = Nint) / fac\n",
    "\n",
    "def Cl_delkap_CAMB(ltable, zf, zb, delta_zf, Nint = 500):\n",
    "    fac = 3/2 * (H_0/c)**2 * Omega_m\n",
    "    \n",
    "    zmin = zf - delta_zf\n",
    "    zmax = zf + delta_zf\n",
    "    ztab = np.linspace(zmin, zmax, Nint) #do checks on this! should be 0 to inf\n",
    "#     gtab = [g(zz, zb, dzb) for zz in ztab] # this is slow\n",
    "    gtab = g(ztab, zb, dzb)\n",
    "    \n",
    "    integrand=np.zeros([len(ztab),len(ltable)])\n",
    "    for il in range(len(ltable)):\n",
    "        ell = ltable[il]\n",
    "        integrand[:,il]= [(1+zzz) * W_tophat(zzz, zfmin, zfmax) * gtab / rCom(zzz)**2 * pknl(( ell)/rCom(zzz), zzz) for zzz in ztab]\n",
    "    result= fac * np.trapz(integrand,ztab,axis=0)\n",
    "    return result"
   ]
  },
  {
   "cell_type": "markdown",
   "metadata": {},
   "source": [
    "Now we reproduce Fig 1 and 2 successfully (just adjust survey area and experiment accordingly):"
   ]
  },
  {
   "cell_type": "code",
   "execution_count": 4,
   "metadata": {},
   "outputs": [
    {
     "data": {
      "text/plain": [
       "<matplotlib.legend.Legend at 0x10e7440d0>"
      ]
     },
     "execution_count": 4,
     "metadata": {},
     "output_type": "execute_result"
    },
    {
     "data": {
      "image/png": "[encoded data removed]",
      "text/plain": [
       "<Figure size 504x360 with 1 Axes>"
      ]
     },
     "metadata": {},
     "output_type": "display_data"
    }
   ],
   "source": [
    "ztab = np.linspace(0.01, 2.2,200)\n",
    "nsig=4\n",
    "Flux = n * Ssys(ztab, CLAR) #we require an n-sigma detection\n",
    "\n",
    "\n",
    "dNdztab = dNdz(ztab, nsig, CLAR)\n",
    "Ntab = N_HI(ztab, nsig, CLAR)\n",
    "\n",
    "fig = P.figure(); ax = fig.add_subplot(111);\n",
    "ax.semilogy(ztab, dNdztab, ls = \"--\", color = \"black\", label = r\"$dN/dz$\" )\n",
    "ax.semilogy(ztab, Ntab, color = \"black\", label = r\"$N(<z)$\")\n",
    "\n",
    "ax.set_ylim((1e3, 3e7))\n",
    "ax.set_xlabel(\"z\")\n",
    "\n",
    "P.legend(loc = \"upper right\")\n",
    "\n"
   ]
  },
  {
   "cell_type": "markdown",
   "metadata": {},
   "source": [
    "We were not able to calculate $\\alpha$ as in the zhang&pen paper, so we simply fit a curve to their figures. \n",
    "\n",
    "\n",
    "From arXiv:0706.1071 equation A9: $s = \\frac{d\\log_{10} n_g}{dm}$ with the magnitude threshold $m = -2.5 \\log_{10} F$. Therefore we have $s = -\\frac{5}{2} \\frac{d\\log_{10} n_g}{d\\log_{10}F} = \\frac{5}{2} \\alpha$\n",
    "\n",
    "Thus we can also use the $s_g$ we used for Alkistis HIxmag Cls to get $\\alpha$.\n",
    "\n",
    "To test, we plot our fit for $\\alpha$:"
   ]
  },
  {
   "cell_type": "code",
   "execution_count": 5,
   "metadata": {},
   "outputs": [
    {
     "name": "stdout",
     "output_type": "stream",
     "text": [
      "Caution, s_g is implemented without dependence on the experiment\n"
     ]
    },
    {
     "data": {
      "text/plain": [
       "<matplotlib.legend.Legend at 0x10e8c8e10>"
      ]
     },
     "execution_count": 5,
     "metadata": {},
     "output_type": "execute_result"
    },
    {
     "data": {
      "image/png": "[encoded data removed]",
      "text/plain": [
       "<Figure size 360x360 with 1 Axes>"
      ]
     },
     "metadata": {},
     "output_type": "display_data"
    }
   ],
   "source": [
    "#now plot s :\n",
    "\n",
    "z = np.linspace(0.1, 2.8, 500)\n",
    "\n",
    "Ftab = nsig * Ssys(z, CLAR)\n",
    "mtab = -2.5 * np.log10(Ftab)\n",
    "\n",
    "fig = P.figure(figsize = (5,5));\n",
    "ax2 = fig.add_subplot(111)\n",
    "\n",
    "\n",
    "ax2.plot(z, alpha(z, CLAR)-1, label = r\"$\\alpha-1$\")\n",
    "ax2.plot(z, 5/2*sg(z)-1, label = r\"$5/2 s_g-1$\", ls = \"--\")\n",
    "\n",
    "ax2.set_xlabel(r\"$z$\")\n",
    "ax2.set_ylim((-1, 14))\n",
    "\n",
    "\n",
    "P.legend()"
   ]
  },
  {
   "cell_type": "markdown",
   "metadata": {},
   "source": [
    "The rest of this notebook is plotting the stuff from Alkistis' notes which seems to work (comparable to fig 5). First I have to get $\\alpha$ right before I can compare to the quantities from Zhang&Pen directly."
   ]
  },
  {
   "cell_type": "code",
   "execution_count": 6,
   "metadata": {},
   "outputs": [
    {
     "name": "stdout",
     "output_type": "stream",
     "text": [
      "Caution, s_g is implemented without dependence on the experiment\n"
     ]
    }
   ],
   "source": [
    "#Calculate the HI X mag power spectrum Cls:\n",
    "Cl_Hxm_tab = Cl_HIxmag_CAMB(ltab, zf, dzf, zb, dzb)\n",
    "Cl_gxm_tab = Cl_gxmag_CAMB(ltab, zf, dzf, zb, dzb, n, CLAR)\n"
   ]
  },
  {
   "cell_type": "code",
   "execution_count": 11,
   "metadata": {},
   "outputs": [
    {
     "data": {
      "text/plain": [
       "<matplotlib.legend.Legend at 0x10f248d50>"
      ]
     },
     "execution_count": 11,
     "metadata": {},
     "output_type": "execute_result"
    },
    {
     "data": {
      "image/png": "[encoded data removed]",
      "text/plain": [
       "<Figure size 504x360 with 1 Axes>"
      ]
     },
     "metadata": {},
     "output_type": "display_data"
    }
   ],
   "source": [
    "#plot it:\n",
    "fig = P.figure(); ax = fig.add_subplot(111);\n",
    "\n",
    "ax.loglog(ltab, Cl_Hxm_tab*ltab**2 / 2 / pi, label = \"HI x mag\")\n",
    "ax.loglog(ltab, Cl_gxm_tab*ltab**2 /2/ pi, label = \"g x mag\")\n",
    "\n",
    "ax.set_xlabel(\"$\\ell$\")\n",
    "ax.set_ylabel(\"$C_\\ell^\\mathrm{HI, \\mu} \\ell^2/(2\\pi)$\")\n",
    "\n",
    "ax.set_xlim((250,25000))\n",
    "ax.set_ylim((1e-4, 6e-1))\n",
    "ax.legend()\n"
   ]
  },
  {
   "cell_type": "markdown",
   "metadata": {},
   "source": [
    "I think our $C_\\ell^\\mathrm{HI, mag}$ should match $C_\\ell^{\\mu g}$ Fig. 5 in Zhang&Pen up to a constant factor, which it does! It matches even better than trying to reproduce it directly...\n",
    "\n",
    "The main difference in the calculations is that Alkistis takes $s_g$ out of the integral, whereas in Z&P it's inside. It evolves a lot with redshift so I would expect that to be significant.\n",
    "\n",
    "[Their $\\ell$ dependece is $C_\\ell^{\\mu g} \\sim \\Delta_m^2(\\ell/r(z_f), z_f) / l^3$.\n",
    "\n",
    "For us it's $C_\\ell^\\mathrm{HI, mag} \\sim P((\\ell + 1/2)/r(z),z))$.]\n",
    "\n",
    "Next step: get error on gxmag"
   ]
  },
  {
   "cell_type": "markdown",
   "metadata": {},
   "source": [
    "NOW: signal to noise for perfect survey:"
   ]
  },
  {
   "cell_type": "code",
   "execution_count": 30,
   "metadata": {},
   "outputs": [
    {
     "name": "stdout",
     "output_type": "stream",
     "text": [
      "foreground from 0.5 to 1.0\n",
      "Caution, s_g is implemented without dependence on the experiment\n",
      "Caution, s_g is implemented without dependence on the experiment\n",
      "background from 1.5 to 1.9\n"
     ]
    }
   ],
   "source": [
    "##making new zf:\n",
    "# zfs = np.linspace(0.8,zb - 2*dzb,5)\n",
    "# dzf = 0.05\n",
    "\n",
    "#using the same one as above:\n",
    "zfs = np.array([zf])\n",
    "\n",
    "lstart = 10; lend = 20000; lN = 50\n",
    "# ltab = np.linspace(lstart, lend, lN, dtype = int)\n",
    "ltab = np.logspace(np.log10(lstart), np.log10(lend), lN, dtype = int)\n",
    "powspeclist = [C_l_HIHI_CAMB, C_l_gg_CAMB, Cl_HIxmag_CAMB]\n",
    "S2N_p_tab = []\n",
    "Delta_Cl_p_tab = []\n",
    "for zzf in zfs:\n",
    "    print \"foreground from {} to {}\".format(zzf-dzf, zzf+dzf)\n",
    "\n",
    "    S2N_p_tab.append( S2N(ltab, zzf, dzf, zb, dzb, powspeclist, SURVEY=\"CV\") )\n",
    "#     Delta_Cl_p_tab.append( DELTA_Cl_HIxmag(ltab, zzf, dzf, zb, dzb, PERFECT_SURVEY=1))\n",
    "    \n",
    "print \"background from {} to {}\".format(zb-dzb, zb+dzb)\n"
   ]
  },
  {
   "cell_type": "code",
   "execution_count": 31,
   "metadata": {},
   "outputs": [],
   "source": [
    "# S2Narr = np.array(S2N_p_tab)\n",
    "\n",
    "# fig = P.figure(); ax = fig.add_subplot(111);\n",
    "\n",
    "# ax.plot(zfs, S2Narr[:,0], label = \"l = {}\".format(ltab[0]))\n",
    "# ax.plot(zfs, S2Narr[:,10], label = \"l = {}\".format(ltab[10]))\n",
    "# ax.plot(zfs, S2Narr[:,19], label = \"l = {}\".format(ltab[19]))\n",
    "\n",
    "\n",
    "# ax.set_xlabel(\"$z_f$\")\n",
    "# ax.set_ylabel(\"S2N\")\n",
    "# P.legend()\n"
   ]
  },
  {
   "cell_type": "code",
   "execution_count": 32,
   "metadata": {},
   "outputs": [
    {
     "data": {
      "text/plain": [
       "<matplotlib.legend.Legend at 0x110bae950>"
      ]
     },
     "execution_count": 32,
     "metadata": {},
     "output_type": "execute_result"
    },
    {
     "data": {
      "image/png": "[encoded data removed]",
      "text/plain": [
       "<Figure size 504x360 with 1 Axes>"
      ]
     },
     "metadata": {},
     "output_type": "display_data"
    }
   ],
   "source": [
    "#plot DeltaCl / Cl:\n",
    "\n",
    "fig = P.figure(); ax1 = fig.add_subplot(111); \n",
    "\n",
    "for i in range(len(S2N_p_tab)):\n",
    "    ax1.semilogx(ltab, 1/S2N_p_tab[i], label = \"$z_f$ = {}\".format(np.around(zfs[i],2)))\n",
    "\n",
    "ax1.set_ylabel(\"$\\Delta C_\\ell^{HI,\\mu} / C_\\ell^{HI,\\mu}$\")\n",
    "ax1.set_xlabel(\"$\\ell$\")\n",
    "ax1.legend()\n"
   ]
  },
  {
   "cell_type": "markdown",
   "metadata": {},
   "source": [
    "# This is very low, but it's for a perfect survey. Let's now implement shot and white noise, fsky, and the $\\ell$ binning and set the boolean 'perfect_survey' to False!"
   ]
  }
 ],
 "metadata": {
  "kernelspec": {
   "display_name": "Python 2",
   "language": "python",
   "name": "python2"
  },
  "language_info": {
   "codemirror_mode": {
    "name": "ipython",
    "version": 2
   },
   "file_extension": ".py",
   "mimetype": "text/x-python",
   "name": "python",
   "nbconvert_exporter": "python",
   "pygments_lexer": "ipython2",
   "version": "2.7.14"
  }
 },
 "nbformat": 4,
 "nbformat_minor": 2
}
