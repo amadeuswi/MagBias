{
 "cells": [
  {
   "cell_type": "code",
   "execution_count": 1,
   "metadata": {},
   "outputs": [
    {
     "name": "stdout",
     "output_type": "stream",
     "text": [
      "sigma_8_BBKS = 0.833959881058\n"
     ]
    }
   ],
   "source": [
    "%matplotlib inline\n",
    "\n",
    "from __future__ import division\n",
    "import os\n",
    "import sys\n",
    "from scipy import integrate\n",
    "from scipy.interpolate import interp2d, interp1d\n",
    "\n",
    "import numpy as np\n",
    "from numpy import pi,sin,cos,tan,e,arctan,arcsin,arccos,sqrt\n",
    "from numpy.random import randn\n",
    "import matplotlib\n",
    "import matplotlib.pyplot as P\n",
    "from time import clock\n",
    "\n",
    "\n",
    "matplotlib.rcParams['figure.figsize'] = (7, 5)\n",
    "P.rcParams['text.usetex'] = True  # not really needed\n",
    "P.rcParams['text.latex.preamble'] = [r'\\usepackage{amsmath}'] #for \\text command\n",
    "P.rcParams[\"font.size\"] = 24\n",
    "P.rc('xtick', labelsize=18) \n",
    "P.rc('ytick', labelsize=18)\n",
    "# P.rc('xtick', labelsize=20) \n",
    "# P.rc('ytick', labelsize=20)\n",
    "np.set_printoptions(threshold=np.nan)\n",
    "\n",
    "\n",
    "sys.path.append(\"/Users/amadeus/Documents/10.semester/ma\")\n",
    "from magmod import P_cdm_BBKS, D_z, rCom, H_0, c, H_z, E_z, Omega_m, W_tophat, T_obs, nutoz21, h\n",
    "# from magmod import P_cdm_BBKS, D_z, rCom, H_0, c, H_z, E_z, Omega_m, T_obs, nutoz21, h"
   ]
  },
  {
   "cell_type": "code",
   "execution_count": 2,
   "metadata": {},
   "outputs": [
    {
     "name": "stdout",
     "output_type": "stream",
     "text": [
      "foreground from 0.5 to 1.0\n",
      "background from 1.5 to 1.9\n"
     ]
    }
   ],
   "source": [
    "#preliminary, to be changed!!\n",
    "bHI = 1\n",
    "bgal = 1\n",
    "\n",
    "lmin = 250; lmax = 25000 # lmin and lmax for Cl calculation\n",
    "# lmin = 1; lmax = 1000 # lmin and lmax for Cl calculation\n",
    "# ltab = np.arange(lmin,lmax)\n",
    "# ltab = np.arange(lmin,lmax, 1000)\n",
    "ltab = np.logspace(np.log10(lmin), np.log10(lmax), 25, dtype = int)\n",
    "# ltab = np.array([280])\n",
    "\n",
    "################################################\n",
    "# ZhangPen:\n",
    "zf = 0.75\n",
    "dzf = 0.25\n",
    "zfmin = zf - dzf; zfmax = zf + dzf\n",
    "\n",
    "zb = (1.5 + 1.9)/2\n",
    "dzb = 1.9 - zb\n",
    "zbmin = zb - dzb; zbmax = zb + dzb\n",
    "################################################\n",
    "\n",
    "\n",
    "\n",
    "# ################################################\n",
    "# zf = 0.3\n",
    "# dzf = 0.005\n",
    "# zfmin = zf - dzf; zfmax = zf + dzf\n",
    "\n",
    "# zb = 1.5\n",
    "# dzb = 0.01\n",
    "# zbmin = zb - dzb; zbmax = zb + dzb\n",
    "# ################################################\n",
    "\n",
    "\n",
    "\n",
    "# zf = .1\n",
    "# dzf = 0.06\n",
    "# zfmin = zf - dzf; zfmax = zf + dzf\n",
    "\n",
    "# zb = .4\n",
    "# dzb = 0.06\n",
    "# zbmin = zb - dzb; zbmax = zb + dzb\n",
    "\n",
    "print \"foreground from {} to {}\".format(zfmin, zfmax)\n",
    "print \"background from {} to {}\".format(zbmin, zbmax)"
   ]
  },
  {
   "cell_type": "markdown",
   "metadata": {},
   "source": [
    "Some functions as defined in Alkistis' notes:"
   ]
  },
  {
   "cell_type": "code",
   "execution_count": 3,
   "metadata": {},
   "outputs": [],
   "source": [
    "def sg(z): #number count slope. Fit taken from eq 23 in 1611.01322v2\n",
    "    n0 = 0.132\n",
    "    n1 = 0.259\n",
    "    n2 = -0.281\n",
    "    n3 = 0.691\n",
    "    n4 = -0.409\n",
    "    n5 = 0.152\n",
    "    \n",
    "    return n0 + n1*z + n2*z**2 + n3*z**3 + n4*z**4 + n5*z**5\n",
    "    \n",
    "\n",
    "#old and very slow:\n",
    "def g_slow(z,zcenter, halfzwidth): #lensing kernel\n",
    "    \"\"\"zb is background redshift\"\"\"\n",
    "    zmin = zcenter - halfzwidth\n",
    "    zmax = zcenter + halfzwidth\n",
    "    integral = integrate.quad(lambda zint: \n",
    "                              (rCom(zint) - rCom(z))/rCom(zint) * W_tophat(zint, zmin, zmax)\n",
    "                              ,z\n",
    "                              ,zmax,\n",
    "                              full_output=1)[0]\n",
    "    return rCom(z) * integral\n",
    "\n",
    "\n",
    "\n",
    "\n",
    "# difficult to do quick integration because integration limit appears inside the integral. Therefore we split it up!\n",
    "# def g_cumtrapz(z, zb, dzb, NINT = 2000):\n",
    "def g(z, zb, dzb, NINT = 10000): #new standard to use cumtrapz\n",
    "    \"\"\"compare to my (handwritten) notebook 2 entry for 9/3/17\n",
    "    zb is background redshift\"\"\"\n",
    "    zmin = zb - dzb\n",
    "    zmax = zb + dzb\n",
    "    z = np.atleast_1d(z)\n",
    "    zintmin = 1e-3 #lower integration limit, z must not be smaller than this\n",
    "    if (z>zmax).any() or (z<zintmin).any():\n",
    "        raise ValueError(\"z either lies behind the background or is too small! z = {} to {}\".format(np.amin(z), np.amax(z)))\n",
    "        \n",
    "    zint = np.linspace(zmax, zintmin, NINT) #going reverse, multiply integral with -1\n",
    "    Warray = W_tophat(zint, zmin, zmax)\n",
    "    rarray = rCom(zint)\n",
    "    Wbyrarray = Warray/rarray\n",
    "    \n",
    "    integrand1 = Warray\n",
    "    integrand2 = Wbyrarray\n",
    "        \n",
    "    integral1 = -integrate.cumtrapz( integrand1, zint, initial = 0)\n",
    "    integral2 = -integrate.cumtrapz( integrand2, zint, initial = 0)\n",
    "    \n",
    "    val1 = interp1d(zint[::-1], integral1[::-1], kind='linear', bounds_error=False)\n",
    "    val2 = interp1d(zint[::-1], integral2[::-1], kind='linear', bounds_error=False)\n",
    "    \n",
    "    rComtab = rCom(z)\n",
    "    result = rComtab*(val1(z) - rComtab*val2(z))\n",
    "    return result\n",
    "\n",
    "\n",
    "def Cl_HIxmag_BBKS(ltable, zf, zb, delta_zf, Nint = 500):\n",
    "    #note there is no T_obs factor because we want to compare with galaxy case\n",
    "    fac1 = 3/2 * (H_0/c)**2 * Omega_m #no square on (H_0/c) because it cancels out\n",
    "    fac2 = bHI * (5*sg(zb) - 2)\n",
    "    zmin = zf - delta_zf\n",
    "    zmax = zf + delta_zf\n",
    "    ztab = np.linspace(zmin, zmax, Nint) #do checks on this! should be 0 to inf\n",
    "#     gtab = [g(zz, zb, dzb) for zz in ztab] # this is slow\n",
    "    gtab = g(ztab, zb, dzb)\n",
    "    \n",
    "    integrand=np.zeros([len(ztab),len(ltable)])\n",
    "    for il in range(len(ltable)):\n",
    "        ell = ltable[il]\n",
    "        integrand[:,il]= (1+ztab) * W_tophat(ztab, zfmin, zfmax) * gtab / rCom(ztab)**2 * P_cdm_BBKS(( ell)/rCom(ztab)) * D_z(ztab)**2\n",
    "    result= fac1 * fac2 * np.trapz(integrand,ztab,axis=0)\n",
    "    return result\n",
    "\n",
    "def Cl_HIxmag_CAMB(ltable, zf, zb, delta_zf, Nint = 500):\n",
    "    \"\"\"ltable, zf foreground redshift, zb background redshift, \n",
    "    delta_zf foreground redshift widht, Nint integration steps\"\"\"\n",
    "\n",
    "    #note there is no T_obs factor because we want to compare with galaxy case\n",
    "    fac1 = 3/2 * bHI*(H_0/c)**2 * Omega_m #no square on (H_0/c) because it cancels out\n",
    "    fac2 = bHI * (5*sg(zb) - 2)\n",
    "    zmin = zf - delta_zf\n",
    "    zmax = zf + delta_zf\n",
    "    ztab = np.linspace(zmin, zmax, Nint) #do checks on this! should be 0 to inf\n",
    "\n",
    "    integrand=np.zeros([len(ztab),len(ltable)])\n",
    "    for il in range(len(ltable)):\n",
    "        ell = ltable[il]\n",
    "        pknltab = np.array([pknl(( ell)/rCom(zzz), zzz) for zzz in ztab])\n",
    "        integrand[:,il] = (1+ztab) * W_tophat(ztab, zfmin, zfmax) * g(ztab, zb, dzb) \\\n",
    "        / rCom(ztab)**2 * pknltab\n",
    "\n",
    "        #old and slow ways to calculate the same thing:\n",
    "#             integrand[:,il]= np.array([(1+zzz) * W_tophat(zzz, zfmin, zfmax) * g(zzz, zb, dzb) \\\n",
    "#                                        / rCom(zzz)**2 * pknl(( ell)/rCom(zzz), zzz) for zzz in ztab])\n",
    "#         integrand[:,il]= np.array([(1+zzz) * W_tophat(zzz, zfmin, zfmax) * g(zzz, zb, dzb) * rCom(zzz) * pknl(( ell)/rCom(zzz), zzz) for zzz in ztab]) #different factor of chi than in alkistis' notes (units are wrong there)\n",
    "    result= fac1 * fac2 * np.trapz(integrand,ztab,axis=0)\n",
    "    return result\n",
    "\n",
    "                        "
   ]
  },
  {
   "cell_type": "code",
   "execution_count": 4,
   "metadata": {},
   "outputs": [],
   "source": [
    "# #benchmarking:\n",
    "\n",
    "# zb = 1\n",
    "# dzb = 0.3\n",
    "# ztab = np.linspace(0.1,1.3,500)\n",
    "\n",
    "# st = clock()\n",
    "# gtab = np.array([g_slow(zz, zb, dzb) for zz in ztab])\n",
    "# end = clock()\n",
    "\n",
    "# st2 = clock()\n",
    "# gtab2 = g(ztab, zb, dzb)\n",
    "# end2 = clock()\n",
    "\n",
    "# print end-st, end2-st2\n",
    "\n",
    "# fig = P.figure(); ax = fig.add_subplot(111);\n",
    "# ax.semilogy(ztab, np.abs(gtab - gtab2)/gtab)\n"
   ]
  },
  {
   "cell_type": "markdown",
   "metadata": {},
   "source": [
    "From ZiourHui:"
   ]
  },
  {
   "cell_type": "code",
   "execution_count": 5,
   "metadata": {},
   "outputs": [],
   "source": [
    "#two ways to compute the same thing:\n",
    "\n",
    "def Cl_delkap2_BBKS(ltable, zf, zb, delta_zf, Nint = 500):\n",
    "    fac = bHI * (5*sg(zb) - 2)\n",
    "    return Cl_HIxmag_BBKS(ltable, zf, zb, delta_zf, Nint = Nint) / fac\n",
    "\n",
    "def Cl_delkap_BBKS(ltable, zf, zb, delta_zf, Nint = 500):\n",
    "    fac = 3/2 * (H_0/c)**2 * Omega_m\n",
    "    \n",
    "    zmin = zf - delta_zf\n",
    "    zmax = zf + delta_zf\n",
    "    ztab = np.linspace(zmin, zmax, Nint) #do checks on this! should be 0 to inf\n",
    "#     gtab = [g(zz, zb, dzb) for zz in ztab] # this is slow\n",
    "    gtab = g(ztab, zb, dzb)\n",
    "    \n",
    "    integrand=np.zeros([len(ztab),len(ltable)])\n",
    "    for il in range(len(ltable)):\n",
    "        ell = ltable[il]\n",
    "        integrand[:,il]= (1+ztab) * W_tophat(ztab, zfmin, zfmax) * gtab / rCom(ztab)**2 * P_cdm_BBKS(( ell)/rCom(ztab)) * D_z(ztab)**2\n",
    "    result= fac * np.trapz(integrand,ztab,axis=0)\n",
    "    return result\n",
    "\n",
    "\n",
    "\n",
    "\n",
    "def Cl_delkap2_CAMB(ltable, zf, zb, delta_zf, Nint = 500):\n",
    "    fac = bHI * (5*sg(zb) - 2)\n",
    "    return Cl_HIxmag_CAMB(ltable, zf, zb, delta_zf, Nint = Nint) / fac\n",
    "\n",
    "def Cl_delkap_CAMB(ltable, zf, zb, delta_zf, Nint = 500):\n",
    "    fac = 3/2 * (H_0/c)**2 * Omega_m\n",
    "    \n",
    "    zmin = zf - delta_zf\n",
    "    zmax = zf + delta_zf\n",
    "    ztab = np.linspace(zmin, zmax, Nint) #do checks on this! should be 0 to inf\n",
    "#     gtab = [g(zz, zb, dzb) for zz in ztab] # this is slow\n",
    "    gtab = g(ztab, zb, dzb)\n",
    "    \n",
    "    integrand=np.zeros([len(ztab),len(ltable)])\n",
    "    for il in range(len(ltable)):\n",
    "        ell = ltable[il]\n",
    "        integrand[:,il]= [(1+zzz) * W_tophat(zzz, zfmin, zfmax) * gtab / rCom(zzz)**2 * pknl(( ell)/rCom(zzz), zzz) for zzz in ztab]\n",
    "    result= fac * np.trapz(integrand,ztab,axis=0)\n",
    "    return result"
   ]
  },
  {
   "cell_type": "markdown",
   "metadata": {},
   "source": [
    "Galaxy and HI autocorrelation Cls:"
   ]
  },
  {
   "cell_type": "code",
   "execution_count": 6,
   "metadata": {},
   "outputs": [],
   "source": [
    "def C_l_HIHI_BBKS(ltable,zmin,zmax, Nint = 500):\n",
    "    \"\"\"arguments: ell array, zmin, zmax\n",
    "    returns: Cl as array\"\"\"\n",
    "    ztable = np.linspace(zmin, zmax, Nint)\n",
    "    integrand=np.zeros([len(ztable),len(ltable)])\n",
    "    for l in range(len(ltable)):\n",
    "        #for the moment we divide out T_obs to compare with the galaxy results\n",
    "        integrand[:,l]=E_z(ztable)*(W_tophat(ztable,zmin,zmax)*D_z(ztable)/rCom(ztable))**2*P_cdm_BBKS((ltable[l])/rCom(ztable))\n",
    "    result=bHI* H_0/c*np.trapz(integrand,ztable,axis=0)\n",
    "    return result\n",
    "\n",
    "\n",
    "def C_l_gg_BBKS(ltable,zmin,zmax, Nint = 500):\n",
    "    \"\"\"arguments: ell array, zmin, zmax\n",
    "    returns: Cl as array\"\"\"\n",
    "    ztable = np.linspace(zmin, zmax, Nint)\n",
    "    integrand=np.zeros([len(ztable),len(ltable)])\n",
    "    for l in range(len(ltable)):\n",
    "        integrand[:,l]=E_z(ztable)*(W_tophat(ztable,zmin,zmax)*D_z(ztable)/rCom(ztable))**2*P_cdm_BBKS((ltable[l])/rCom(ztable))\n",
    "    result=bgal* H_0/c*np.trapz(integrand,ztable,axis=0)\n",
    "    return result\n"
   ]
  },
  {
   "cell_type": "markdown",
   "metadata": {},
   "source": [
    "Interpolate the nonlinear P(k) from Alkistis and use it to calculate Cls:"
   ]
  },
  {
   "cell_type": "code",
   "execution_count": 7,
   "metadata": {
    "scrolled": false
   },
   "outputs": [
    {
     "name": "stdout",
     "output_type": "stream",
     "text": [
      "CHECK IF THIS IS IN ORDER:\n",
      "['Pk_z0.dat' 'Pk_z0p2.dat' 'Pk_z0p4.dat' 'Pk_z0p6.dat' 'Pk_z0p8.dat'\n",
      " 'Pk_z1.dat' 'Pk_z1p2.dat' 'Pk_z1p4.dat' 'Pk_z1p6.dat' 'Pk_z1p8.dat'\n",
      " 'Pk_z2.dat' 'Pk_z2p2.dat' 'Pk_z2p4.dat' 'Pk_z2p6.dat' 'Pk_z2p8.dat'\n",
      " 'Pk_z3.dat' 'Pk_z3p2.dat' 'Pk_z3p4.dat' 'Pk_z3p6.dat' 'Pk_z3p8.dat'\n",
      " 'Pk_z4.dat']\n"
     ]
    }
   ],
   "source": [
    "pknl_root = \"./PkNL/\"\n",
    "filelist =  np.sort(os.listdir(pknl_root))\n",
    "print \"CHECK IF THIS IS IN ORDER:\"\n",
    "print filelist\n",
    "zc_pk = np.linspace(0,4,len(filelist))\n",
    "# print zc_pk\n",
    "\n",
    "k_pk = np.loadtxt(pknl_root + filelist[0], unpack = True)[0]\n",
    "\n",
    "pknl_arr = np.array([ np.loadtxt(pknl_root + fi, unpack = True)[1] for fi in filelist ])\n",
    "\n",
    "pknl_int = interp2d( k_pk, zc_pk, pknl_arr)\n",
    "\n",
    "def pknl(kk, zz):\n",
    "    res = pknl_int(kk/h, zz)/h**3\n",
    "    if len(res) == 1:\n",
    "        return res[0]\n",
    "    else:\n",
    "        return res\n",
    "\n",
    "    \n",
    "\n",
    "# #test it:\n",
    "\n",
    "# for zi in range(len(zc_pk)):\n",
    "#     for ki in range(len(k_pk)):\n",
    "#         pppk_at_z = np.array( np.loadtxt(pknl_root + filelist[zi], unpack = True)[1])\n",
    "#         print pppk_at_z[ki] - pknl(k_pk[ki], zc_pk[zi])\n",
    "\n",
    "\n",
    "\n",
    "def C_l_HIHI_CAMB(ltable,zmin,zmax, Nint = 500):\n",
    "    \"\"\"arguments: ell array, zmin, zmax\n",
    "    returns: Cl as array\"\"\"\n",
    "    ztable = np.linspace(zmin, zmax, Nint)\n",
    "    integrand=np.zeros([len(ztable),len(ltable)])\n",
    "    for l in range(len(ltable)):\n",
    "        #for the moment we divide out T_obs to compare with the galaxy results\n",
    "#         integrand[:,l]=E_z(ztable)*(W_tophat(ztable,zmin,zmax)/rCom(ztable))**2*pknl((ltable[l])/rCom(ztable), ztable)\n",
    "        integrand[:,l]= np.array([E_z(zzz)*(W_tophat(zzz,zmin,zmax)/rCom(zzz))**2*pknl((ltable[l])/rCom(zzz), zzz) for zzz in ztable])\n",
    "    result=bHI* H_0/c*np.trapz(integrand,ztable,axis=0)\n",
    "    return result\n",
    "\n",
    "def C_l_gg_CAMB(ltable,zmin,zmax, Nint = 500):\n",
    "    \"\"\"arguments: ell array, zmin, zmax\n",
    "    returns: Cl as array\"\"\"\n",
    "    ztable = np.linspace(zmin, zmax, Nint)\n",
    "    integrand=np.zeros([len(ztable),len(ltable)])\n",
    "    for l in range(len(ltable)):\n",
    "        integrand[:,l]=np.array([E_z(zzz)*(W_tophat(zzz,zmin,zmax)/rCom(zzz))**2*pknl((ltable[l])/rCom(zzz), zzz) for zzz in ztable])\n",
    "    result=bgal* H_0/c*np.trapz(integrand,ztable,axis=0)\n",
    "    return result\n"
   ]
  },
  {
   "cell_type": "markdown",
   "metadata": {},
   "source": [
    "Signal to noise:"
   ]
  },
  {
   "cell_type": "code",
   "execution_count": 8,
   "metadata": {},
   "outputs": [],
   "source": [
    "def DELTA_Cl_HIxmag(ltable, zf, dzf, zb, dzb, PERFECT_SURVEY = 1, BBKS = False):\n",
    "    \n",
    "\n",
    "    zfmin = zf - dzf; zfmax = zf+dzf\n",
    "    zbmin = zb-dzb; zbmax = zb+dzb\n",
    "\n",
    "    if BBKS:\n",
    "        ClHIHIfunc = C_l_HIHI_BBKS\n",
    "        Cl_HIxmagfunc = Cl_HIxmag_BBKS\n",
    "        Clggfunc = C_l_gg_BBKS\n",
    "    else:\n",
    "        ClHIHIfunc = C_l_HIHI_CAMB\n",
    "        Cl_HIxmagfunc = Cl_HIxmag_CAMB\n",
    "        Clggfunc = C_l_gg_CAMB\n",
    "\n",
    "    #perfect survey:\n",
    "    if PERFECT_SURVEY:\n",
    "        Cshot = np.zeros(len(ltable)); N_ell = np.zeros(len(ltable)); \n",
    "        fsky = 1; d_ell = 1;\n",
    "\n",
    "    else:\n",
    "        return ValueError(\"only perfect survey implemented\")\n",
    "    X2 = Cl_HIxmagfunc(ltable, zf, zb, dzf)**2\n",
    "    HIHI = ClHIHIfunc(ltable, zfmin, zfmax) + Cshot\n",
    "    gg = Clggfunc(ltable, zbmin, zbmax) + N_ell\n",
    "    num = X2 + HIHI*gg\n",
    "    denom = (2*ltable+1) * d_ell * fsky\n",
    "    result = np.sqrt(num/denom)\n",
    "    return result\n",
    "\n",
    "def S2N(ltable, zf, dzf, zb, dzb, PERFECT_SURVEY = 1):\n",
    "    delt = DELTA_Cl_HIxmag(ltable, zf, dzf, zb, dzb, PERFECT_SURVEY = PERFECT_SURVEY)\n",
    "    signal = Cl_HIxmag_CAMB(ltable, zf, zb, dzb)\n",
    "    return signal/delt"
   ]
  },
  {
   "cell_type": "markdown",
   "metadata": {},
   "source": [
    "Compare HIHI Cls with Fig 2 in Bingo paper:"
   ]
  },
  {
   "cell_type": "code",
   "execution_count": 9,
   "metadata": {},
   "outputs": [
    {
     "data": {
      "image/png": "[encoded data removed]",
      "text/plain": [
       "<matplotlib.figure.Figure at 0x10d7ac650>"
      ]
     },
     "metadata": {},
     "output_type": "display_data"
    }
   ],
   "source": [
    "#compare with Fig 2 in Bingo paper:\n",
    "lbing = np.arange(1,1000)\n",
    "\n",
    "Cl_HIHI = C_l_HIHI_BBKS(lbing, nutoz21(975), nutoz21(925))\n",
    "Cl_HIHI_camb = C_l_HIHI_CAMB(lbing, nutoz21(975), nutoz21(925))\n",
    "\n",
    "fig = P.figure(); ax = fig.add_subplot(111);\n",
    "ax.loglog(lbing, Cl_HIHI*(lbing+1)*lbing / 2 / pi)\n",
    "ax.loglog(lbing, Cl_HIHI_camb*(lbing+1)*lbing / 2 / pi)\n",
    "\n",
    "ax.set_xlabel(\"$\\ell$\")\n",
    "ax.set_ylabel(\"$C_\\ell\\ell(\\ell+1)/(2\\pi)$\")\n",
    "P.show()"
   ]
  },
  {
   "cell_type": "markdown",
   "metadata": {},
   "source": [
    "which matches perfectly (BBKS case). The CAMB power spectrum seems to have different normalization... check sigma_8 maybe?"
   ]
  },
  {
   "cell_type": "markdown",
   "metadata": {},
   "source": [
    "We want to compare Alkistis' notes to the Zhang&Pen paper. For that we first need a few more functions:"
   ]
  },
  {
   "cell_type": "code",
   "execution_count": 98,
   "metadata": {},
   "outputs": [],
   "source": [
    "#The total 21 cm flux of HI rich galaxies:\n",
    "def S21(z, MHI):\n",
    "    \"\"\"from eq 1 in Zhang&Pen. returns in mJy, MHI has to be [10^10 solar masses]\n",
    "    we assume w = 100km/s!\"\"\"\n",
    "    return 0.023 * MHI/10**10 * (c / H_0 / rCom(z))**2 * 1 / (1+z) #rCom should be \"comoving angular distance\". not sure if that's right\n",
    "\n",
    "#the system temperature per beam:\n",
    "def Ssys(z, experiment):\n",
    "    \"\"\"experiment is a dict\"\"\"\n",
    "    Tsys = experiment[\"Tsys\"] #[K]\n",
    "    Aeff = experiment[\"Aeff\"] #[m^2]\n",
    "    t_int = experiment[\"t_int\"] #[hours] for each FOV!\n",
    "    \n",
    "    fac1 = 0.032 * Tsys / 30\n",
    "    fac2 = 5e4/Aeff\n",
    "    fac3 = np.sqrt( (1+z)/t_int )\n",
    "    return fac1 * fac2 * fac3\n",
    "\n",
    "n_0 = 0.014 * h**3 #[Mpc^-3]\n",
    "Mstar = 10**9.55 * h**(-2) #[solar masses]\n",
    "gamma = 1.2\n",
    "\n",
    "#schechter function, equation 4:\n",
    "def n_schechter(M):\n",
    "    \"\"\"we set z=0!\"\"\"\n",
    "    fac1 = (M/Mstar)**(-gamma)\n",
    "    fac2 = np.exp( -M / Mstar)\n",
    "    return n_0 * fac1 * fac2\n",
    "    \n",
    "def M_HI_min(z, F): #minimum hydrogen mass in galaxy to be detected\n",
    "    \"\"\"z redshift, F is flux limit for detection, F = Ssys*n. Derivation of this is based on\n",
    "    equations 3 and 2, done in amadeus' handwritten notes on 23rd of march\n",
    "    \"\"\"\n",
    "    fac1 = 1.39 * 10**10 * (rCom(z) * H_0 / c)**2 * (1+z)\n",
    "    fac2 = F / 0.032\n",
    "    \n",
    "    return fac1 * fac2\n",
    "\n",
    "\n",
    "def nrho_HI(z, F, Nint = 2000):\n",
    "    \"\"\"density of HI galaxies with flux bigger than F. NOTE: \n",
    "    \"\"\"\n",
    "    F = np.atleast_1d(F)\n",
    "    M_HI_lim = M_HI_min(z, F)\n",
    "\n",
    "    Mint_by_Mstar = np.logspace(2,-6,Nint) #runs backwards\n",
    "    Mint = Mint_by_Mstar * Mstar\n",
    "    integrand = n_schechter(Mint)\n",
    "\n",
    "    integral = integrate.cumtrapz( -integrand, Mint, initial = 0)\n",
    "    val = interp1d(Mint[::-1], integral[::-1], kind='linear', bounds_error=False)\n",
    "\n",
    "\n",
    "    rho_lim = val(M_HI_lim)\n",
    "\n",
    "#     return rho_lim\n",
    "    return rho_lim/Mstar    #this is not what is written in the paper, \n",
    "                            #but it reproduces their results perfectly. I suspect a typo.. (dM should be dM/M*)\n",
    "\n",
    "def nrho_HIprime(z, F, delta = 2e-4):\n",
    "    \"\"\"delta is the step length in the derivative\"\"\"\n",
    "    F = np.atleast_1d(F)\n",
    "    Fdelta = F * delta\n",
    "    Fplus = F + Fdelta\n",
    "    Fminus = F - Fdelta\n",
    "    rhoplus = nrho_HI(z, Fplus)\n",
    "    rhominus = nrho_HI(z, Fminus)\n",
    "    return (rhoplus - rhominus)/2/Fdelta\n",
    "\n",
    "\n",
    "def dNdz(z, n, experiment, Nderiv = 1000):\n",
    "    \"\"\"derivative of abundance of 21cm emitting galaxies wrt z.\n",
    "    for explanation of Fdelta look up N_HI\"\"\"\n",
    "    z = np.atleast_1d(z)\n",
    "    F = n * Ssys(z, experiment)\n",
    "\n",
    "    solidangle = experiment[\"S_area\"] * (pi/180)**2\n",
    "    \n",
    "    radius = rCom #comoving\n",
    "#     radius = lambda zzz: rCom(zzz)/(1+zzz) #physical\n",
    "    \n",
    "    rtab2 = radius(z)**2\n",
    "    \n",
    "    #for derivative:\n",
    "    zmin = 0.\n",
    "    zmax = np.amax(z) + 0.2\n",
    "    ztab_fine = np.linspace( zmin, zmax, Nderiv)\n",
    "    rtab_fine = radius(ztab_fine)\n",
    "    drdztab_fine = np.gradient(rtab_fine, ztab_fine)\n",
    "    drdz = interp1d(ztab_fine, drdztab_fine, kind='linear', bounds_error=False)\n",
    "    drdztab = drdz(z)\n",
    "        \n",
    "    ndens = nrho_HI(z, F)\n",
    "    \n",
    "    return solidangle * drdztab * rtab2 * ndens\n",
    "#     return solidangle, drdztab, rtab2, ndens\n",
    "    \n",
    "    \n",
    "def dFdz(z, n, experiment, Nderiv = 1000):\n",
    "    z = np.atleast_1d(z)\n",
    "    zmin = 0.\n",
    "    zmax = np.amax(z)+0.5\n",
    "    \n",
    "    zfine = np.linspace(zmin, zmax, Nderiv)\n",
    "    Ffine = n * Ssys(zfine, experiment)\n",
    "    dFdztab = np.gradient( Ffine, zfine)\n",
    "    dFdzinterp = interp1d(zfine, dFdztab, kind = \"linear\", bounds_error=False)\n",
    "    \n",
    "    return dFdzinterp(z)\n",
    "\n",
    "    \n",
    "def N_HI(z, n, experiment, NINT = 2000, Nderiv = 1000):\n",
    "    \"\"\"\n",
    "    This should reproduce fig 1 and 2. z redshift, F flux, both arrays of same length and corresponding values.\n",
    "    NINT is for numerical integration and Nderiv for derivation in dNdz.\n",
    "    curiosity Fdelta is there to help derivation wrt F which is not an argument. If Fdelta is number or\n",
    "    array of length of z it is added to one and multiplied to F = n*Ssys, which is then used for the rest of\n",
    "    the calculations here.\n",
    "    \"\"\"\n",
    "    z = np.atleast_1d(z)\n",
    "    zint = np.linspace(0.01, np.amax(z), NINT)\n",
    "    \n",
    "    integrand = dNdz(zint, n, experiment, Nderiv = Nderiv)\n",
    "    \n",
    "    integral = integrate.cumtrapz( integrand, zint, initial = 0)\n",
    "    val = interp1d(zint, integral, kind='linear', bounds_error=False)\n",
    "    result = val(z)\n",
    "    \n",
    "    return result\n",
    "\n",
    "def dNdF(z, n, experiment, Nderiv = 1000):\n",
    "    return dNdz(z, n, experiment) / dFdz(z, n, experiment, Nderiv = Nderiv)\n",
    "\n",
    "\n",
    "def ddNdzdz(z, n, experiment, Nderiv = 1000): #double diff wrt z:\n",
    "    z = np.atleast_1d(z)\n",
    "    zmin = 0.\n",
    "    zmax = np.amax(z) + 0.2\n",
    "    zfine = np.linspace(zmin, zmax, Nderiv)\n",
    "    dNdztabfine = dNdz(zfine, n, experiment)\n",
    "    ddNdzdztabfine = np.gradient( dNdztabfine, zfine)\n",
    "    ddNdzdz_interp = interp1d( zfine, ddNdzdztabfine, kind = 'linear', bounds_error = False)\n",
    "    \n",
    "    return ddNdzdz_interp(z)\n",
    "    \n",
    "def ddNdzdF(z, n, experiment, Nderiv = 1000): #double diff wrt z and F\n",
    "    return ddNdzdz(z, n, experiment) / dFdz(z, n, experiment, Nderiv = Nderiv)\n",
    "\n",
    "\n",
    "def fprime_by_f(z, n, experiment):\n",
    "    \"\"\"f is the fraction of galaxies exceeding flux limit F. f'/f = N' / N or something like that?.\"\"\"\n",
    "    return dNdF(z, n, experiment) / N_HI(z, n, experiment)\n",
    "#     return ddNdzdF(z, n, experiment) / dNdz(z, n, experiment)\n",
    "\n",
    "def alpha(z, n, experiment):\n",
    "    F = n * Ssys(z, experiment)\n",
    "    return -fprime_by_f(z, n, experiment) * F\n",
    "\n",
    "# def fprime_by_f(z, F):\n",
    "#     \"\"\"f is the fraction of galaxies exceeding flux limit F. f'/f = rho'/rho.\"\"\"\n",
    "#     return nrho_HIprime(z, F) / nrho_HI(z, F)\n",
    "\n",
    "# def alpha(z, F):\n",
    "#     return -fprime_by_f(z, F) * F"
   ]
  },
  {
   "cell_type": "markdown",
   "metadata": {},
   "source": [
    "We set up two experiments, \"CLAR\" and \"SKA\". For both we use a $4\\sigma$ detection limit. Their survey areas aren't fixed, but the integration time is 5 years."
   ]
  },
  {
   "cell_type": "code",
   "execution_count": 94,
   "metadata": {},
   "outputs": [],
   "source": [
    "\n",
    "\n",
    "n=4\n",
    "\n",
    "FOV_SKA = 1 #[deg^2]\n",
    "A_SKA = 25600 #[deg^2]\n",
    "\n",
    "FOV_CLAR = 1 #[deg^2]\n",
    "# A_CLAR = 640 #[degˆ2]\n",
    "# A_CLAR = 160 #[degˆ2]\n",
    "# A_CLAR = 40 #[degˆ2]\n",
    "A_CLAR = 10 #[degˆ2]\n",
    "\n",
    "ttot = 5 * 365 * 24 #[hours], 5 years\n",
    "\n",
    "\n",
    "\n",
    "SKA = { \"Aeff\" : 6e5, #[m^2]\n",
    "      \"Tsys\" : 30, #[K]\n",
    "      \"t_int\" : ttot * FOV_SKA / A_SKA,\n",
    "       \"S_area\": A_SKA\n",
    "      }\n",
    "\n",
    "CLAR = {\n",
    "    \"Aeff\" : 5e4, #[m^2]\n",
    "    \"Tsys\" : 30, #[K]\n",
    "    \"t_int\": ttot * FOV_CLAR / A_CLAR,\n",
    "    \"S_area\": A_CLAR\n",
    "}"
   ]
  },
  {
   "cell_type": "markdown",
   "metadata": {},
   "source": [
    "Now we reproduce Fig 1 and 2 successfully (just adjust survey area and experiment accordingly):"
   ]
  },
  {
   "cell_type": "code",
   "execution_count": 95,
   "metadata": {},
   "outputs": [
    {
     "data": {
      "text/plain": [
       "<matplotlib.legend.Legend at 0x1128e3310>"
      ]
     },
     "execution_count": 95,
     "metadata": {},
     "output_type": "execute_result"
    },
    {
     "data": {
      "image/png": "[encoded data removed]",
      "text/plain": [
       "<matplotlib.figure.Figure at 0x2ef849850>"
      ]
     },
     "metadata": {},
     "output_type": "display_data"
    }
   ],
   "source": [
    "ztab = np.linspace(0.01, 2.2,200)\n",
    "nsig=4\n",
    "Flux = n * Ssys(ztab, CLAR) #we require an n-sigma detection\n",
    "\n",
    "\n",
    "dNdztab = dNdz(ztab, nsig, CLAR)\n",
    "Ntab = N_HI(ztab, nsig, CLAR)\n",
    "\n",
    "fig = P.figure(); ax = fig.add_subplot(111);\n",
    "ax.semilogy(ztab, dNdztab, ls = \"--\", color = \"black\", label = r\"$dN/dz$\" )\n",
    "ax.semilogy(ztab, Ntab, color = \"black\", label = r\"$N(<z)$\")\n",
    "\n",
    "ax.set_ylim((1e3, 3e7))\n",
    "ax.set_xlabel(\"z\")\n",
    "\n",
    "P.legend(loc = \"upper right\")\n",
    "\n"
   ]
  },
  {
   "cell_type": "markdown",
   "metadata": {},
   "source": [
    "Now we test the convergence of the differentiation of $\\frac{dF}{dz}$ (and $\\frac{dN}{dF} = \\frac{dN}{dz} \\bigl( \\frac{dF}{dz}\\bigr)^{-1}$, respectively):"
   ]
  },
  {
   "cell_type": "code",
   "execution_count": 96,
   "metadata": {},
   "outputs": [
    {
     "name": "stderr",
     "output_type": "stream",
     "text": [
      "/opt/local/Library/Frameworks/Python.framework/Versions/2.7/lib/python2.7/site-packages/ipykernel_launcher.py:104: DeprecationWarning: object of type <type 'float'> cannot be safely interpreted as an integer.\n",
      "/opt/local/Library/Frameworks/Python.framework/Versions/2.7/lib/python2.7/site-packages/ipykernel_launcher.py:104: DeprecationWarning: object of type <type 'numpy.float64'> cannot be safely interpreted as an integer.\n"
     ]
    },
    {
     "data": {
      "text/plain": [
       "Text(0,0.5,u'relative error on diff. of F')"
      ]
     },
     "execution_count": 96,
     "metadata": {},
     "output_type": "execute_result"
    },
    {
     "data": {
      "image/png": "[encoded data removed]",
      "text/plain": [
       "<matplotlib.figure.Figure at 0x11292b5d0>"
      ]
     },
     "metadata": {},
     "output_type": "display_data"
    }
   ],
   "source": [
    "nder = np.logspace(1,6, 5)\n",
    "z= 0.5; n = 4\n",
    "\n",
    "deriv_best = dNdF(z, n, CLAR, Nderiv = 1e8)\n",
    "# deriv_best = dFdz(z, n, CLAR, Nderiv = 1e7)\n",
    "\n",
    "derivtab = [ dNdF(z, n, CLAR, Nderiv = nn) for nn in nder]\n",
    "# derivtab = [ dFdz(z, n, CLAR, Nderiv = nn) for nn in nder]\n",
    "derivtab = np.array(derivtab)\n",
    "\n",
    "fig = P.figure(); ax = fig.add_subplot(111);\n",
    "ax.loglog(nder, np.abs((derivtab - deriv_best)/deriv_best))\n",
    "\n",
    "ax.set_xlabel(r\"$N_\\mathrm{deriv}$\")\n",
    "ax.set_ylabel(\"relative error on diff. of F\")"
   ]
  },
  {
   "cell_type": "markdown",
   "metadata": {},
   "source": [
    "I think that $N_\\mathrm{deriv} = 1000$ is enough."
   ]
  },
  {
   "cell_type": "markdown",
   "metadata": {},
   "source": [
    "Now, the crux, we try to plot $\\alpha$ as in fig 4. At this moment I am still not sure how to calculate it. It is defined as $\\alpha = -f'(>F_c) F_c / f(>F_c)$, where $f(>F)$ is the fraction of galaxies above flux $F$. The derivative $'$ is with respect to the flux limit.\n",
    "My line of thought is the following:\n",
    "if $N(>F)$ is the number of galaxies above flux $F$ and $N_\\mathrm{tot}$ is the total number of galaxies, then $f(>F)=N(>F)/N_\\mathrm{tot}$. We know that $N_\\mathrm{tot}$ is independent of $F$, therefore $f'(>F)=N'(>F)/N_\\mathrm{tot}$ and $\\alpha = -N'(>F_c) F_c / N(>F_c)$ because $N_\\mathrm{tot}$ cancels. To do the actual calculation, we use that $\\frac{dN}{dF} = \\frac{dN}{dz} \\bigl( \\frac{dF}{dz} \\bigr)^{-1}$. However, this does not seem to work. To check I also tried using $\\frac{dN}{dz}$ instead of $N$, but it doesn't help.\n",
    "\n",
    "We have basically two possibilities now:\n",
    "\n",
    "\n",
    "-1 I do not understand how to calculate $\\alpha$\n",
    "\n",
    "-2 There's a bug in the way I calculate $\\alpha$\n",
    "\n",
    "For now let's maybe focus on the fact that my $\\alpha$ is always negative, whereas it should be $>1$."
   ]
  },
  {
   "cell_type": "code",
   "execution_count": 104,
   "metadata": {},
   "outputs": [
    {
     "name": "stderr",
     "output_type": "stream",
     "text": [
      "/opt/local/Library/Frameworks/Python.framework/Versions/2.7/lib/python2.7/site-packages/ipykernel_launcher.py:152: RuntimeWarning: divide by zero encountered in true_divide\n"
     ]
    },
    {
     "data": {
      "text/plain": [
       "Text(0.5,0,u'$z$')"
      ]
     },
     "execution_count": 104,
     "metadata": {},
     "output_type": "execute_result"
    },
    {
     "data": {
      "image/png": "[encoded data removed]",
      "text/plain": [
       "<matplotlib.figure.Figure at 0x113a2a150>"
      ]
     },
     "metadata": {},
     "output_type": "display_data"
    }
   ],
   "source": [
    "#now plot alpha (Fig 3&4):\n",
    "\n",
    "z = np.linspace(0.01, 2.8, 500)\n",
    "alphatab = alpha(z, nsig, CLAR)\n",
    "\n",
    "fig = P.figure();\n",
    "ax2 = fig.add_subplot(111)\n",
    "\n",
    "\n",
    "# ax2.plot(z, alphatab-1)\n",
    "ax2.plot(z, alphatab-1)\n",
    "\n",
    "ax2.set_ylabel(r\"$\\alpha-1$\")\n",
    "ax2.set_xlabel(r\"$z$\")"
   ]
  },
  {
   "cell_type": "markdown",
   "metadata": {},
   "source": [
    "The rest of this notebook is plotting the stuff from Alkistis' notes which seems to work (comparable to fig 5). First I have to get $\\alpha$ right before I can compare to the quantities from Zhang&Pen directly."
   ]
  },
  {
   "cell_type": "code",
   "execution_count": 33,
   "metadata": {},
   "outputs": [],
   "source": [
    "#Calculate the HI X mag power spectrum Cls:\n",
    "Cl_Hxm_tab = Cl_HIxmag_CAMB(ltab, zf, zb, dzf)\n"
   ]
  },
  {
   "cell_type": "code",
   "execution_count": 43,
   "metadata": {},
   "outputs": [
    {
     "data": {
      "text/plain": [
       "(0.0001, 0.1)"
      ]
     },
     "execution_count": 43,
     "metadata": {},
     "output_type": "execute_result"
    },
    {
     "data": {
      "image/png": "[encoded data removed]",
      "text/plain": [
       "<matplotlib.figure.Figure at 0x10dd58b10>"
      ]
     },
     "metadata": {},
     "output_type": "display_data"
    }
   ],
   "source": [
    "#plot it:\n",
    "fig = P.figure(); ax = fig.add_subplot(111);\n",
    "\n",
    "ax.loglog(ltab, Cl_Hxm_tab*ltab**2 / 2 / pi)\n",
    "\n",
    "ax.set_xlabel(\"$\\ell$\")\n",
    "ax.set_ylabel(\"$C_\\ell^\\mathrm{HI, \\mu} \\ell^2/(2\\pi)$\")\n",
    "\n",
    "ax.set_xlim((250,25000))\n",
    "ax.set_ylim((1e-4, 1e-1))\n"
   ]
  },
  {
   "cell_type": "markdown",
   "metadata": {},
   "source": [
    "I think our $C_\\ell^\\mathrm{HI, mag}$ should match $C_\\ell^{\\mu g}$ Fig. 5 in Zhang&Pen up to a constant factor, which it does! We are about a factor of 2 off. The $\\ell$ dependence is totally different if we use BBKS, but not if we use CAMB.\n",
    "\n",
    "[Their $\\ell$ dependece is $C_\\ell^{\\mu g} \\sim \\Delta_m^2(\\ell/r(z_f), z_f) / l^3$.\n",
    "\n",
    "For us it's $C_\\ell^\\mathrm{HI, mag} \\sim P((\\ell + 1/2)/r(z),z))$."
   ]
  },
  {
   "cell_type": "markdown",
   "metadata": {},
   "source": [
    "NOW: signal to noise for perfect survey:"
   ]
  },
  {
   "cell_type": "code",
   "execution_count": 18,
   "metadata": {},
   "outputs": [
    {
     "name": "stdout",
     "output_type": "stream",
     "text": [
      "foreground from 0.5 to 1.0\n",
      "background from 1.5 to 1.9\n"
     ]
    }
   ],
   "source": [
    "##making new zf:\n",
    "# zfs = np.linspace(0.8,zb - 2*dzb,5)\n",
    "# dzf = 0.05\n",
    "\n",
    "#using the same one as above:\n",
    "zfs = np.array([zf])\n",
    "\n",
    "lstart = 10; lend = 20000; lN = 50\n",
    "# ltab = np.linspace(lstart, lend, lN, dtype = int)\n",
    "ltab = np.logspace(np.log10(lstart), np.log10(lend), lN, dtype = int)\n",
    "\n",
    "S2N_p_tab = []\n",
    "Delta_Cl_p_tab = []\n",
    "for zzf in zfs:\n",
    "    print \"foreground from {} to {}\".format(zzf-dzf, zzf+dzf)\n",
    "\n",
    "    S2N_p_tab.append( S2N(ltab, zzf, dzf, zb, dzb, PERFECT_SURVEY=1) )\n",
    "#     Delta_Cl_p_tab.append( DELTA_Cl_HIxmag(ltab, zzf, dzf, zb, dzb, PERFECT_SURVEY=1))\n",
    "    \n",
    "print \"background from {} to {}\".format(zb-dzb, zb+dzb)\n"
   ]
  },
  {
   "cell_type": "code",
   "execution_count": 19,
   "metadata": {},
   "outputs": [],
   "source": [
    "# S2Narr = np.array(S2N_p_tab)\n",
    "\n",
    "# fig = P.figure(); ax = fig.add_subplot(111);\n",
    "\n",
    "# ax.plot(zfs, S2Narr[:,0], label = \"l = {}\".format(ltab[0]))\n",
    "# ax.plot(zfs, S2Narr[:,10], label = \"l = {}\".format(ltab[10]))\n",
    "# ax.plot(zfs, S2Narr[:,19], label = \"l = {}\".format(ltab[19]))\n",
    "\n",
    "\n",
    "# ax.set_xlabel(\"$z_f$\")\n",
    "# ax.set_ylabel(\"S2N\")\n",
    "# P.legend()"
   ]
  },
  {
   "cell_type": "code",
   "execution_count": 20,
   "metadata": {},
   "outputs": [
    {
     "data": {
      "text/plain": [
       "<matplotlib.legend.Legend at 0x10cbba2d0>"
      ]
     },
     "execution_count": 20,
     "metadata": {},
     "output_type": "execute_result"
    },
    {
     "data": {
      "image/png": "[encoded data removed]",
      "text/plain": [
       "<matplotlib.figure.Figure at 0x10cb91fd0>"
      ]
     },
     "metadata": {},
     "output_type": "display_data"
    }
   ],
   "source": [
    "#plot DeltaCl / Cl:\n",
    "\n",
    "fig = P.figure(); ax1 = fig.add_subplot(111); \n",
    "\n",
    "for i in range(len(S2N_p_tab)):\n",
    "    ax1.semilogx(ltab, 1/S2N_p_tab[i], label = \"$z_f$ = {}\".format(np.around(zfs[i],2)))\n",
    "\n",
    "ax1.set_ylabel(\"$\\Delta C_\\ell^{HI,\\mu} / C_\\ell^{HI,\\mu}$\")\n",
    "ax1.set_xlabel(\"$\\ell$\")\n",
    "ax1.legend()\n"
   ]
  },
  {
   "cell_type": "markdown",
   "metadata": {},
   "source": [
    "This is very low, but it's for a perfect survey. Let's now implement shot and white noise, fsky, and the $\\ell$ binning and set the boolean 'perfect_survey' to False!"
   ]
  },
  {
   "cell_type": "code",
   "execution_count": null,
   "metadata": {},
   "outputs": [],
   "source": []
  }
 ],
 "metadata": {
  "kernelspec": {
   "display_name": "Python 2",
   "language": "python",
   "name": "python2"
  },
  "language_info": {
   "codemirror_mode": {
    "name": "ipython",
    "version": 2
   },
   "file_extension": ".py",
   "mimetype": "text/x-python",
   "name": "python",
   "nbconvert_exporter": "python",
   "pygments_lexer": "ipython2",
   "version": "2.7.14"
  }
 },
 "nbformat": 4,
 "nbformat_minor": 2
}
